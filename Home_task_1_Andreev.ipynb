{
 "cells": [
  {
   "cell_type": "code",
   "execution_count": 1,
   "metadata": {},
   "outputs": [],
   "source": [
    "import pandas as pd\n",
    "import matplotlib.pyplot as plt\n",
    "import numpy as np\n",
    "import seaborn as sns\n",
    "import datetime\n",
    "import random\n",
    "from statsmodels.stats.power import tt_ind_solve_power\n",
    "\n",
    "def date_converter(x):\n",
    "    return datetime.datetime.strptime(x,'%Y-%m-%d')"
   ]
  },
  {
   "cell_type": "markdown",
   "metadata": {},
   "source": [
    "Срок выполнения задания: 17 марта 17:00.\n",
    "\n",
    "\n",
    "### Задание\n",
    "Вам предстоит разработать дизайн эксперимента по тестированию монетизационных продуктов.\n",
    "В конечном счёте, в монтизационных продуктах нас всегда интересует увеличение выручки, \n",
    "но к сожалению не всегда мы можем зафиксировать изменение именно этой метрики.\n",
    "\n",
    "#### Кейс\n",
    "Вы аналитик в продуктовой дискавери команде.\n",
    "На текущий момент приближается начало нового квартала и вам необходимо спланировать\n",
    "эксперименты в нём.\n",
    "\n",
    "У вас есть два продукта:\n",
    "- один базовый продукт, который предоставляет минимальный набор услуг на вашем ресурсе;\n",
    "- один продвинутый продукт, который предоставляет расширенный набор услуг.\n",
    "\n",
    "На текущий момент на квартал у вашей команды есть для проверки две гипотезы:\n",
    "- Дополнительное информирование об эффективности услуг будет стимулировать их покупку;\n",
    "- Повышение цены базового продукта должно стимулировать покупку продвинутого продукта\n"
   ]
  },
  {
   "cell_type": "markdown",
   "metadata": {},
   "source": [
    "#### Для планирования эксперимента изучите данные и метрики (2 балла):\n",
    "\n",
    "- Загрузите файл и изучите данные;\n",
    "- Подумайте над тем, какие метрики можно выделить на основе этих данных: выручка, пользователи, транзакции, средний чек и т.д.\n",
    "- Постройте графики плотности распределения для этих метрик и сделайте выводы о характере распределений: тип, наличие выбросов, насколько сильный разброс;\n",
    "- Изучите основные статистики этих метрик: среднее, стандартное отклонение;\n",
    "- Изучите то, насколько эти статистики подвержены сезональности.\n",
    "\n",
    "\n",
    "#### Формализуйте гипотезы (4 балла):\n",
    "\n",
    "- Опишите метрики и статистики, изменение которых вы ожидаете;\n",
    "- Предположите какое относительное изменение этих статистик в процентах вы ожидаете.\n",
    "\n",
    "#### Предскажите минимально детектируемый эффект для своих метрик и спланируйте эксперименты внутри квартала (4 балла):\n",
    "\n",
    "- Принимая в расчёт максимально возможные размеры групп и ограничения по длительности в квартал рассмотрите разные планы проведения тестов и предскажите их чувствительность;\n",
    "- Определите наиболее оптимальный план экспериментов. Обоснуйте, почему вы его считаете оптимальным.\n",
    "\n",
    "\n",
    "#### * Оптимизация плана (2 балла):\n",
    "Предложите варианты ускорения экспериментов — всегда могут образоваться ситуации, когда ваши гипотезы не подтвердились и они требуют изменения или уточнения и необходимости повторных тестов. Цели достигать всегда хорошо в рамках отведённого на них срока. Какие параметры экспериментов вы поменяете? К каким последствиям могут привести такие изменения?"
   ]
  },
  {
   "cell_type": "markdown",
   "metadata": {},
   "source": [
    "#### Описание данныx\n",
    "\n",
    "event_date - дата \n",
    "\n",
    "user_id - идентификатор пользователя\n",
    "\n",
    "product - тип продукта\n",
    "\n",
    "amount - сумма покупок\n",
    "\n",
    "transactions - количество транзакций\n"
   ]
  },
  {
   "cell_type": "markdown",
   "metadata": {},
   "source": [
    "### Решение"
   ]
  },
  {
   "cell_type": "code",
   "execution_count": 2,
   "metadata": {},
   "outputs": [],
   "source": [
    "df = pd.read_csv('user_transactions.csv')\n",
    "df['event_date'] = df.event_date.apply(date_converter)"
   ]
  },
  {
   "cell_type": "code",
   "execution_count": 3,
   "metadata": {},
   "outputs": [
    {
     "data": {
      "text/html": [
       "<div>\n",
       "<style scoped>\n",
       "    .dataframe tbody tr th:only-of-type {\n",
       "        vertical-align: middle;\n",
       "    }\n",
       "\n",
       "    .dataframe tbody tr th {\n",
       "        vertical-align: top;\n",
       "    }\n",
       "\n",
       "    .dataframe thead th {\n",
       "        text-align: right;\n",
       "    }\n",
       "</style>\n",
       "<table border=\"1\" class=\"dataframe\">\n",
       "  <thead>\n",
       "    <tr style=\"text-align: right;\">\n",
       "      <th></th>\n",
       "      <th>event_date</th>\n",
       "      <th>user_id</th>\n",
       "      <th>product</th>\n",
       "      <th>amount</th>\n",
       "      <th>transactions</th>\n",
       "    </tr>\n",
       "  </thead>\n",
       "  <tbody>\n",
       "    <tr>\n",
       "      <th>1278181</th>\n",
       "      <td>2020-12-29</td>\n",
       "      <td>9175681616034416929</td>\n",
       "      <td>advanced</td>\n",
       "      <td>679.0</td>\n",
       "      <td>1</td>\n",
       "    </tr>\n",
       "    <tr>\n",
       "      <th>1278182</th>\n",
       "      <td>2020-12-29</td>\n",
       "      <td>9190225485662720178</td>\n",
       "      <td>advanced</td>\n",
       "      <td>439.0</td>\n",
       "      <td>1</td>\n",
       "    </tr>\n",
       "    <tr>\n",
       "      <th>1278183</th>\n",
       "      <td>2020-12-29</td>\n",
       "      <td>9192452502210580022</td>\n",
       "      <td>basic</td>\n",
       "      <td>149.0</td>\n",
       "      <td>1</td>\n",
       "    </tr>\n",
       "    <tr>\n",
       "      <th>1278184</th>\n",
       "      <td>2020-12-29</td>\n",
       "      <td>9202424686732081420</td>\n",
       "      <td>basic</td>\n",
       "      <td>947.0</td>\n",
       "      <td>3</td>\n",
       "    </tr>\n",
       "    <tr>\n",
       "      <th>1278185</th>\n",
       "      <td>2020-12-29</td>\n",
       "      <td>9219633945080038962</td>\n",
       "      <td>basic</td>\n",
       "      <td>79.0</td>\n",
       "      <td>1</td>\n",
       "    </tr>\n",
       "  </tbody>\n",
       "</table>\n",
       "</div>"
      ],
      "text/plain": [
       "        event_date              user_id   product  amount  transactions\n",
       "1278181 2020-12-29  9175681616034416929  advanced   679.0             1\n",
       "1278182 2020-12-29  9190225485662720178  advanced   439.0             1\n",
       "1278183 2020-12-29  9192452502210580022     basic   149.0             1\n",
       "1278184 2020-12-29  9202424686732081420     basic   947.0             3\n",
       "1278185 2020-12-29  9219633945080038962     basic    79.0             1"
      ]
     },
     "execution_count": 3,
     "metadata": {},
     "output_type": "execute_result"
    }
   ],
   "source": [
    "df.tail()"
   ]
  },
  {
   "cell_type": "markdown",
   "metadata": {},
   "source": [
    "Метрики, которые можно рассчитать по данным (их очень много, вот основные):\n",
    "  - выручка: GMV (объем суммарных продаж), среднее значение суммы покупок за период или по пользователям;\n",
    "  - пользователи: общее количество уникальных пользователей, количество активных пользователей (DAU/WAU/MAU);\n",
    "  - транзакции: среднее число транзакций за период или по пользователям;\n",
    "  - средний чек: средний чек за период или по пользователям;\n",
    "  - retention за период;\n",
    "  - доля покупок продвинутого продукта среди общий продаж."
   ]
  },
  {
   "cell_type": "code",
   "execution_count": 526,
   "metadata": {},
   "outputs": [
    {
     "data": {
      "text/plain": [
       "306076738.0"
      ]
     },
     "execution_count": 526,
     "metadata": {},
     "output_type": "execute_result"
    }
   ],
   "source": [
    "# общий GMV\n",
    "df.amount.sum()"
   ]
  },
  {
   "cell_type": "code",
   "execution_count": 527,
   "metadata": {},
   "outputs": [
    {
     "data": {
      "text/plain": [
       "446935"
      ]
     },
     "execution_count": 527,
     "metadata": {},
     "output_type": "execute_result"
    }
   ],
   "source": [
    "# Число уникальных пользователей \n",
    "len(df.user_id.unique())"
   ]
  },
  {
   "cell_type": "code",
   "execution_count": 4,
   "metadata": {},
   "outputs": [
    {
     "data": {
      "text/html": [
       "<div>\n",
       "<style scoped>\n",
       "    .dataframe tbody tr th:only-of-type {\n",
       "        vertical-align: middle;\n",
       "    }\n",
       "\n",
       "    .dataframe tbody tr th {\n",
       "        vertical-align: top;\n",
       "    }\n",
       "\n",
       "    .dataframe thead th {\n",
       "        text-align: right;\n",
       "    }\n",
       "</style>\n",
       "<table border=\"1\" class=\"dataframe\">\n",
       "  <thead>\n",
       "    <tr style=\"text-align: right;\">\n",
       "      <th></th>\n",
       "      <th>event_date</th>\n",
       "      <th>user_id</th>\n",
       "      <th>product</th>\n",
       "      <th>amount</th>\n",
       "      <th>transactions</th>\n",
       "      <th>average_user_check</th>\n",
       "    </tr>\n",
       "  </thead>\n",
       "  <tbody>\n",
       "    <tr>\n",
       "      <th>1278181</th>\n",
       "      <td>2020-12-29</td>\n",
       "      <td>9175681616034416929</td>\n",
       "      <td>advanced</td>\n",
       "      <td>679.0</td>\n",
       "      <td>1</td>\n",
       "      <td>679.000000</td>\n",
       "    </tr>\n",
       "    <tr>\n",
       "      <th>1278182</th>\n",
       "      <td>2020-12-29</td>\n",
       "      <td>9190225485662720178</td>\n",
       "      <td>advanced</td>\n",
       "      <td>439.0</td>\n",
       "      <td>1</td>\n",
       "      <td>439.000000</td>\n",
       "    </tr>\n",
       "    <tr>\n",
       "      <th>1278183</th>\n",
       "      <td>2020-12-29</td>\n",
       "      <td>9192452502210580022</td>\n",
       "      <td>basic</td>\n",
       "      <td>149.0</td>\n",
       "      <td>1</td>\n",
       "      <td>149.000000</td>\n",
       "    </tr>\n",
       "    <tr>\n",
       "      <th>1278184</th>\n",
       "      <td>2020-12-29</td>\n",
       "      <td>9202424686732081420</td>\n",
       "      <td>basic</td>\n",
       "      <td>947.0</td>\n",
       "      <td>3</td>\n",
       "      <td>315.666667</td>\n",
       "    </tr>\n",
       "    <tr>\n",
       "      <th>1278185</th>\n",
       "      <td>2020-12-29</td>\n",
       "      <td>9219633945080038962</td>\n",
       "      <td>basic</td>\n",
       "      <td>79.0</td>\n",
       "      <td>1</td>\n",
       "      <td>79.000000</td>\n",
       "    </tr>\n",
       "  </tbody>\n",
       "</table>\n",
       "</div>"
      ],
      "text/plain": [
       "        event_date              user_id   product  amount  transactions  \\\n",
       "1278181 2020-12-29  9175681616034416929  advanced   679.0             1   \n",
       "1278182 2020-12-29  9190225485662720178  advanced   439.0             1   \n",
       "1278183 2020-12-29  9192452502210580022     basic   149.0             1   \n",
       "1278184 2020-12-29  9202424686732081420     basic   947.0             3   \n",
       "1278185 2020-12-29  9219633945080038962     basic    79.0             1   \n",
       "\n",
       "         average_user_check  \n",
       "1278181          679.000000  \n",
       "1278182          439.000000  \n",
       "1278183          149.000000  \n",
       "1278184          315.666667  \n",
       "1278185           79.000000  "
      ]
     },
     "execution_count": 4,
     "metadata": {},
     "output_type": "execute_result"
    }
   ],
   "source": [
    "df['average_user_check'] = df.amount / df.transactions\n",
    "df.tail()"
   ]
  },
  {
   "cell_type": "code",
   "execution_count": 5,
   "metadata": {},
   "outputs": [
    {
     "data": {
      "text/html": [
       "<div>\n",
       "<style scoped>\n",
       "    .dataframe tbody tr th:only-of-type {\n",
       "        vertical-align: middle;\n",
       "    }\n",
       "\n",
       "    .dataframe tbody tr th {\n",
       "        vertical-align: top;\n",
       "    }\n",
       "\n",
       "    .dataframe thead th {\n",
       "        text-align: right;\n",
       "    }\n",
       "</style>\n",
       "<table border=\"1\" class=\"dataframe\">\n",
       "  <thead>\n",
       "    <tr style=\"text-align: right;\">\n",
       "      <th></th>\n",
       "      <th>event_date</th>\n",
       "      <th>user_id</th>\n",
       "      <th>product</th>\n",
       "      <th>amount</th>\n",
       "      <th>transactions</th>\n",
       "      <th>average_user_check</th>\n",
       "      <th>event_date_month</th>\n",
       "    </tr>\n",
       "  </thead>\n",
       "  <tbody>\n",
       "    <tr>\n",
       "      <th>1278181</th>\n",
       "      <td>2020-12-29</td>\n",
       "      <td>9175681616034416929</td>\n",
       "      <td>advanced</td>\n",
       "      <td>679.0</td>\n",
       "      <td>1</td>\n",
       "      <td>679.000000</td>\n",
       "      <td>2020-12</td>\n",
       "    </tr>\n",
       "    <tr>\n",
       "      <th>1278182</th>\n",
       "      <td>2020-12-29</td>\n",
       "      <td>9190225485662720178</td>\n",
       "      <td>advanced</td>\n",
       "      <td>439.0</td>\n",
       "      <td>1</td>\n",
       "      <td>439.000000</td>\n",
       "      <td>2020-12</td>\n",
       "    </tr>\n",
       "    <tr>\n",
       "      <th>1278183</th>\n",
       "      <td>2020-12-29</td>\n",
       "      <td>9192452502210580022</td>\n",
       "      <td>basic</td>\n",
       "      <td>149.0</td>\n",
       "      <td>1</td>\n",
       "      <td>149.000000</td>\n",
       "      <td>2020-12</td>\n",
       "    </tr>\n",
       "    <tr>\n",
       "      <th>1278184</th>\n",
       "      <td>2020-12-29</td>\n",
       "      <td>9202424686732081420</td>\n",
       "      <td>basic</td>\n",
       "      <td>947.0</td>\n",
       "      <td>3</td>\n",
       "      <td>315.666667</td>\n",
       "      <td>2020-12</td>\n",
       "    </tr>\n",
       "    <tr>\n",
       "      <th>1278185</th>\n",
       "      <td>2020-12-29</td>\n",
       "      <td>9219633945080038962</td>\n",
       "      <td>basic</td>\n",
       "      <td>79.0</td>\n",
       "      <td>1</td>\n",
       "      <td>79.000000</td>\n",
       "      <td>2020-12</td>\n",
       "    </tr>\n",
       "  </tbody>\n",
       "</table>\n",
       "</div>"
      ],
      "text/plain": [
       "        event_date              user_id   product  amount  transactions  \\\n",
       "1278181 2020-12-29  9175681616034416929  advanced   679.0             1   \n",
       "1278182 2020-12-29  9190225485662720178  advanced   439.0             1   \n",
       "1278183 2020-12-29  9192452502210580022     basic   149.0             1   \n",
       "1278184 2020-12-29  9202424686732081420     basic   947.0             3   \n",
       "1278185 2020-12-29  9219633945080038962     basic    79.0             1   \n",
       "\n",
       "         average_user_check event_date_month  \n",
       "1278181          679.000000          2020-12  \n",
       "1278182          439.000000          2020-12  \n",
       "1278183          149.000000          2020-12  \n",
       "1278184          315.666667          2020-12  \n",
       "1278185           79.000000          2020-12  "
      ]
     },
     "execution_count": 5,
     "metadata": {},
     "output_type": "execute_result"
    }
   ],
   "source": [
    "df['event_date_month'] = pd.to_datetime(df['event_date'],infer_datetime_format=True)\n",
    "df['event_date_month'] = df['event_date_month'].dt.strftime('%Y-%m') \n",
    "df.tail()"
   ]
  },
  {
   "cell_type": "code",
   "execution_count": 7,
   "metadata": {},
   "outputs": [
    {
     "data": {
      "text/html": [
       "<div>\n",
       "<style scoped>\n",
       "    .dataframe tbody tr th:only-of-type {\n",
       "        vertical-align: middle;\n",
       "    }\n",
       "\n",
       "    .dataframe tbody tr th {\n",
       "        vertical-align: top;\n",
       "    }\n",
       "\n",
       "    .dataframe thead th {\n",
       "        text-align: right;\n",
       "    }\n",
       "</style>\n",
       "<table border=\"1\" class=\"dataframe\">\n",
       "  <thead>\n",
       "    <tr style=\"text-align: right;\">\n",
       "      <th></th>\n",
       "      <th>event_date</th>\n",
       "      <th>amount</th>\n",
       "      <th>transactions</th>\n",
       "      <th>average_user_check</th>\n",
       "    </tr>\n",
       "  </thead>\n",
       "  <tbody>\n",
       "    <tr>\n",
       "      <th>0</th>\n",
       "      <td>2020-09-29</td>\n",
       "      <td>234.809598</td>\n",
       "      <td>1.255263</td>\n",
       "      <td>188.501298</td>\n",
       "    </tr>\n",
       "    <tr>\n",
       "      <th>1</th>\n",
       "      <td>2020-09-30</td>\n",
       "      <td>237.204125</td>\n",
       "      <td>1.273430</td>\n",
       "      <td>186.884191</td>\n",
       "    </tr>\n",
       "    <tr>\n",
       "      <th>2</th>\n",
       "      <td>2020-10-01</td>\n",
       "      <td>235.122807</td>\n",
       "      <td>1.273315</td>\n",
       "      <td>185.836581</td>\n",
       "    </tr>\n",
       "    <tr>\n",
       "      <th>3</th>\n",
       "      <td>2020-10-02</td>\n",
       "      <td>239.040108</td>\n",
       "      <td>1.329767</td>\n",
       "      <td>182.727140</td>\n",
       "    </tr>\n",
       "    <tr>\n",
       "      <th>4</th>\n",
       "      <td>2020-10-03</td>\n",
       "      <td>217.609838</td>\n",
       "      <td>1.259279</td>\n",
       "      <td>175.887875</td>\n",
       "    </tr>\n",
       "    <tr>\n",
       "      <th>...</th>\n",
       "      <td>...</td>\n",
       "      <td>...</td>\n",
       "      <td>...</td>\n",
       "      <td>...</td>\n",
       "    </tr>\n",
       "    <tr>\n",
       "      <th>87</th>\n",
       "      <td>2020-12-25</td>\n",
       "      <td>245.577311</td>\n",
       "      <td>1.324511</td>\n",
       "      <td>187.183081</td>\n",
       "    </tr>\n",
       "    <tr>\n",
       "      <th>88</th>\n",
       "      <td>2020-12-26</td>\n",
       "      <td>223.032988</td>\n",
       "      <td>1.281547</td>\n",
       "      <td>176.425733</td>\n",
       "    </tr>\n",
       "    <tr>\n",
       "      <th>89</th>\n",
       "      <td>2020-12-27</td>\n",
       "      <td>219.983181</td>\n",
       "      <td>1.262889</td>\n",
       "      <td>173.692813</td>\n",
       "    </tr>\n",
       "    <tr>\n",
       "      <th>90</th>\n",
       "      <td>2020-12-28</td>\n",
       "      <td>246.983926</td>\n",
       "      <td>1.310053</td>\n",
       "      <td>188.750404</td>\n",
       "    </tr>\n",
       "    <tr>\n",
       "      <th>91</th>\n",
       "      <td>2020-12-29</td>\n",
       "      <td>245.540735</td>\n",
       "      <td>1.304591</td>\n",
       "      <td>187.903891</td>\n",
       "    </tr>\n",
       "  </tbody>\n",
       "</table>\n",
       "<p>92 rows × 4 columns</p>\n",
       "</div>"
      ],
      "text/plain": [
       "   event_date      amount  transactions  average_user_check\n",
       "0  2020-09-29  234.809598      1.255263          188.501298\n",
       "1  2020-09-30  237.204125      1.273430          186.884191\n",
       "2  2020-10-01  235.122807      1.273315          185.836581\n",
       "3  2020-10-02  239.040108      1.329767          182.727140\n",
       "4  2020-10-03  217.609838      1.259279          175.887875\n",
       "..        ...         ...           ...                 ...\n",
       "87 2020-12-25  245.577311      1.324511          187.183081\n",
       "88 2020-12-26  223.032988      1.281547          176.425733\n",
       "89 2020-12-27  219.983181      1.262889          173.692813\n",
       "90 2020-12-28  246.983926      1.310053          188.750404\n",
       "91 2020-12-29  245.540735      1.304591          187.903891\n",
       "\n",
       "[92 rows x 4 columns]"
      ]
     },
     "execution_count": 7,
     "metadata": {},
     "output_type": "execute_result"
    }
   ],
   "source": [
    "d = df.groupby('event_date', as_index=False).mean()\n",
    "d.drop('user_id', axis=1, inplace=True)\n",
    "d"
   ]
  },
  {
   "cell_type": "markdown",
   "metadata": {},
   "source": [
    "Построим графики плотности распределений:"
   ]
  },
  {
   "cell_type": "code",
   "execution_count": 532,
   "metadata": {},
   "outputs": [
    {
     "data": {
      "image/png": "[encoded data removed]",
      "text/plain": [
       "<Figure size 432x288 with 1 Axes>"
      ]
     },
     "metadata": {},
     "output_type": "display_data"
    }
   ],
   "source": [
    "d[['amount', 'average_user_check']].plot.kde(title='Плотность распределения средних чеков и суммарных покупок за день');"
   ]
  },
  {
   "cell_type": "markdown",
   "metadata": {},
   "source": [
    "Замечаем, что распределение средних чеков и суммарных покупок за день имеет бимодальный вид. это может быть вызвано тем, что у нас имеется 2 вида продукта, или некоторой сезонностью (надо проверять). К тому же, видно, что у распределения средних чеков разброс меньше, чем у числа суммарных покупок (чек меньше шумит). "
   ]
  },
  {
   "cell_type": "code",
   "execution_count": 533,
   "metadata": {},
   "outputs": [
    {
     "data": {
      "image/png": "[encoded data removed]",
      "text/plain": [
       "<Figure size 432x288 with 1 Axes>"
      ]
     },
     "metadata": {},
     "output_type": "display_data"
    }
   ],
   "source": [
    "d['transactions'].plot.kde(title='Плотность распределения среднего числа транзакций за день');"
   ]
  },
  {
   "cell_type": "markdown",
   "metadata": {},
   "source": [
    "Распределение же числа среднего числа транзакций за день имеет уже унимодальное вид (колокол) и сравнительно небольшой разброс."
   ]
  },
  {
   "cell_type": "markdown",
   "metadata": {},
   "source": [
    "Посмотрим, есть ли аномалии - построим точечные графики:"
   ]
  },
  {
   "cell_type": "code",
   "execution_count": 534,
   "metadata": {},
   "outputs": [
    {
     "data": {
      "text/plain": [
       "Text(0.5, 1.0, 'transactions')"
      ]
     },
     "execution_count": 534,
     "metadata": {},
     "output_type": "execute_result"
    },
    {
     "data": {
      "image/png": "[encoded data removed]",
      "text/plain": [
       "<Figure size 432x288 with 1 Axes>"
      ]
     },
     "metadata": {},
     "output_type": "display_data"
    }
   ],
   "source": [
    "plt.scatter(d['event_date'], d['transactions']);\n",
    "plt.title('transactions')"
   ]
  },
  {
   "cell_type": "code",
   "execution_count": 535,
   "metadata": {},
   "outputs": [
    {
     "data": {
      "text/plain": [
       "Text(0.5, 1.0, 'average_user_check')"
      ]
     },
     "execution_count": 535,
     "metadata": {},
     "output_type": "execute_result"
    },
    {
     "data": {
      "image/png": "[encoded data removed]",
      "text/plain": [
       "<Figure size 432x288 with 1 Axes>"
      ]
     },
     "metadata": {},
     "output_type": "display_data"
    }
   ],
   "source": [
    "plt.scatter(d['event_date'], d['average_user_check']);\n",
    "plt.title('average_user_check')"
   ]
  },
  {
   "cell_type": "code",
   "execution_count": 537,
   "metadata": {},
   "outputs": [
    {
     "data": {
      "text/plain": [
       "Text(0.5, 1.0, 'amount')"
      ]
     },
     "execution_count": 537,
     "metadata": {},
     "output_type": "execute_result"
    },
    {
     "data": {
      "image/png": "[encoded data removed]",
      "text/plain": [
       "<Figure size 432x288 with 1 Axes>"
      ]
     },
     "metadata": {},
     "output_type": "display_data"
    }
   ],
   "source": [
    "plt.scatter(d['event_date'], d['amount']);\n",
    "plt.title('amount')"
   ]
  },
  {
   "cell_type": "markdown",
   "metadata": {},
   "source": [
    "Таким образом, видим, что выбросов у нас нет."
   ]
  },
  {
   "cell_type": "markdown",
   "metadata": {},
   "source": [
    "Теперь попробуем отследить сезонность - построим графики временных рядов:"
   ]
  },
  {
   "cell_type": "code",
   "execution_count": 13,
   "metadata": {},
   "outputs": [
    {
     "data": {
      "image/png": "[encoded data removed]",
      "text/plain": [
       "<Figure size 432x288 with 1 Axes>"
      ]
     },
     "metadata": {
      "needs_background": "light"
     },
     "output_type": "display_data"
    }
   ],
   "source": [
    "d.plot(x='event_date', y=['transactions']);"
   ]
  },
  {
   "cell_type": "code",
   "execution_count": 14,
   "metadata": {},
   "outputs": [
    {
     "data": {
      "image/png": "[encoded data removed]",
      "text/plain": [
       "<Figure size 432x288 with 1 Axes>"
      ]
     },
     "metadata": {
      "needs_background": "light"
     },
     "output_type": "display_data"
    }
   ],
   "source": [
    "d.plot(x='event_date', y=['amount']);"
   ]
  },
  {
   "cell_type": "code",
   "execution_count": 15,
   "metadata": {
    "scrolled": true
   },
   "outputs": [
    {
     "data": {
      "image/png": "[encoded data removed]",
      "text/plain": [
       "<Figure size 432x288 with 1 Axes>"
      ]
     },
     "metadata": {
      "needs_background": "light"
     },
     "output_type": "display_data"
    }
   ],
   "source": [
    "d.plot(x='event_date', y=['average_user_check']);"
   ]
  },
  {
   "cell_type": "markdown",
   "metadata": {},
   "source": [
    "Таким образом, замечаем недельную сезонность для суммарных покупок и среднего чека (в выходные у нас покупают меньше) - этим можно объснить бимодальность их распределений. Для транзакций выделить явную сезонность не получается (много шума)."
   ]
  },
  {
   "cell_type": "markdown",
   "metadata": {},
   "source": [
    "Последим также за активными пользователями:"
   ]
  },
  {
   "cell_type": "code",
   "execution_count": 16,
   "metadata": {},
   "outputs": [
    {
     "data": {
      "text/html": [
       "<div>\n",
       "<style scoped>\n",
       "    .dataframe tbody tr th:only-of-type {\n",
       "        vertical-align: middle;\n",
       "    }\n",
       "\n",
       "    .dataframe tbody tr th {\n",
       "        vertical-align: top;\n",
       "    }\n",
       "\n",
       "    .dataframe thead th {\n",
       "        text-align: right;\n",
       "    }\n",
       "</style>\n",
       "<table border=\"1\" class=\"dataframe\">\n",
       "  <thead>\n",
       "    <tr style=\"text-align: right;\">\n",
       "      <th></th>\n",
       "      <th>event_date</th>\n",
       "      <th>user_id</th>\n",
       "    </tr>\n",
       "  </thead>\n",
       "  <tbody>\n",
       "    <tr>\n",
       "      <th>0</th>\n",
       "      <td>2020-09-29</td>\n",
       "      <td>12920</td>\n",
       "    </tr>\n",
       "    <tr>\n",
       "      <th>1</th>\n",
       "      <td>2020-09-30</td>\n",
       "      <td>13722</td>\n",
       "    </tr>\n",
       "    <tr>\n",
       "      <th>2</th>\n",
       "      <td>2020-10-01</td>\n",
       "      <td>12996</td>\n",
       "    </tr>\n",
       "    <tr>\n",
       "      <th>3</th>\n",
       "      <td>2020-10-02</td>\n",
       "      <td>13364</td>\n",
       "    </tr>\n",
       "    <tr>\n",
       "      <th>4</th>\n",
       "      <td>2020-10-03</td>\n",
       "      <td>11262</td>\n",
       "    </tr>\n",
       "  </tbody>\n",
       "</table>\n",
       "</div>"
      ],
      "text/plain": [
       "  event_date  user_id\n",
       "0 2020-09-29    12920\n",
       "1 2020-09-30    13722\n",
       "2 2020-10-01    12996\n",
       "3 2020-10-02    13364\n",
       "4 2020-10-03    11262"
      ]
     },
     "execution_count": 16,
     "metadata": {},
     "output_type": "execute_result"
    }
   ],
   "source": [
    "d_counts = df.groupby('event_date', as_index=False).count()\n",
    "d_counts = d_counts[['event_date', 'user_id']]\n",
    "d_counts.head()"
   ]
  },
  {
   "cell_type": "code",
   "execution_count": 17,
   "metadata": {},
   "outputs": [
    {
     "data": {
      "image/png": "[encoded data removed]",
      "text/plain": [
       "<Figure size 432x288 with 1 Axes>"
      ]
     },
     "metadata": {
      "needs_background": "light"
     },
     "output_type": "display_data"
    }
   ],
   "source": [
    "d_counts.plot(x='event_date', y=['user_id']);"
   ]
  },
  {
   "cell_type": "markdown",
   "metadata": {},
   "source": [
    "Замечаем также недельную сезонность. К тому же виден тренд к росту активных пользователей."
   ]
  },
  {
   "cell_type": "code",
   "execution_count": 18,
   "metadata": {},
   "outputs": [
    {
     "data": {
      "text/html": [
       "<div>\n",
       "<style scoped>\n",
       "    .dataframe tbody tr th:only-of-type {\n",
       "        vertical-align: middle;\n",
       "    }\n",
       "\n",
       "    .dataframe tbody tr th {\n",
       "        vertical-align: top;\n",
       "    }\n",
       "\n",
       "    .dataframe thead th {\n",
       "        text-align: right;\n",
       "    }\n",
       "</style>\n",
       "<table border=\"1\" class=\"dataframe\">\n",
       "  <thead>\n",
       "    <tr style=\"text-align: right;\">\n",
       "      <th></th>\n",
       "      <th>event_date</th>\n",
       "      <th>user_id</th>\n",
       "      <th>product</th>\n",
       "      <th>amount</th>\n",
       "      <th>transactions</th>\n",
       "      <th>average_user_check</th>\n",
       "      <th>event_date_month</th>\n",
       "    </tr>\n",
       "  </thead>\n",
       "  <tbody>\n",
       "    <tr>\n",
       "      <th>0</th>\n",
       "      <td>2020-09-29</td>\n",
       "      <td>40746820883461494</td>\n",
       "      <td>basic</td>\n",
       "      <td>95.0</td>\n",
       "      <td>1</td>\n",
       "      <td>95.0</td>\n",
       "      <td>2020-09</td>\n",
       "    </tr>\n",
       "    <tr>\n",
       "      <th>1</th>\n",
       "      <td>2020-09-29</td>\n",
       "      <td>41102328408008828</td>\n",
       "      <td>advanced</td>\n",
       "      <td>279.0</td>\n",
       "      <td>1</td>\n",
       "      <td>279.0</td>\n",
       "      <td>2020-09</td>\n",
       "    </tr>\n",
       "    <tr>\n",
       "      <th>2</th>\n",
       "      <td>2020-09-29</td>\n",
       "      <td>63464894315144075</td>\n",
       "      <td>basic</td>\n",
       "      <td>64.0</td>\n",
       "      <td>1</td>\n",
       "      <td>64.0</td>\n",
       "      <td>2020-09</td>\n",
       "    </tr>\n",
       "    <tr>\n",
       "      <th>3</th>\n",
       "      <td>2020-09-29</td>\n",
       "      <td>111526991873455341</td>\n",
       "      <td>basic</td>\n",
       "      <td>399.0</td>\n",
       "      <td>1</td>\n",
       "      <td>399.0</td>\n",
       "      <td>2020-09</td>\n",
       "    </tr>\n",
       "    <tr>\n",
       "      <th>4</th>\n",
       "      <td>2020-09-29</td>\n",
       "      <td>169522572963414231</td>\n",
       "      <td>basic</td>\n",
       "      <td>199.0</td>\n",
       "      <td>1</td>\n",
       "      <td>199.0</td>\n",
       "      <td>2020-09</td>\n",
       "    </tr>\n",
       "  </tbody>\n",
       "</table>\n",
       "</div>"
      ],
      "text/plain": [
       "  event_date             user_id   product  amount  transactions  \\\n",
       "0 2020-09-29   40746820883461494     basic    95.0             1   \n",
       "1 2020-09-29   41102328408008828  advanced   279.0             1   \n",
       "2 2020-09-29   63464894315144075     basic    64.0             1   \n",
       "3 2020-09-29  111526991873455341     basic   399.0             1   \n",
       "4 2020-09-29  169522572963414231     basic   199.0             1   \n",
       "\n",
       "   average_user_check event_date_month  \n",
       "0                95.0          2020-09  \n",
       "1               279.0          2020-09  \n",
       "2                64.0          2020-09  \n",
       "3               399.0          2020-09  \n",
       "4               199.0          2020-09  "
      ]
     },
     "execution_count": 18,
     "metadata": {},
     "output_type": "execute_result"
    }
   ],
   "source": [
    "df.head()"
   ]
  },
  {
   "cell_type": "code",
   "execution_count": 19,
   "metadata": {},
   "outputs": [
    {
     "data": {
      "text/html": [
       "<div>\n",
       "<style scoped>\n",
       "    .dataframe tbody tr th:only-of-type {\n",
       "        vertical-align: middle;\n",
       "    }\n",
       "\n",
       "    .dataframe tbody tr th {\n",
       "        vertical-align: top;\n",
       "    }\n",
       "\n",
       "    .dataframe thead th {\n",
       "        text-align: right;\n",
       "    }\n",
       "</style>\n",
       "<table border=\"1\" class=\"dataframe\">\n",
       "  <thead>\n",
       "    <tr style=\"text-align: right;\">\n",
       "      <th></th>\n",
       "      <th></th>\n",
       "      <th>amount</th>\n",
       "      <th>transactions</th>\n",
       "      <th>average_user_check</th>\n",
       "    </tr>\n",
       "    <tr>\n",
       "      <th>event_date_month</th>\n",
       "      <th>user_id</th>\n",
       "      <th></th>\n",
       "      <th></th>\n",
       "      <th></th>\n",
       "    </tr>\n",
       "  </thead>\n",
       "  <tbody>\n",
       "    <tr>\n",
       "      <th rowspan=\"5\" valign=\"top\">2020-09</th>\n",
       "      <th>333739223557249</th>\n",
       "      <td>60.0</td>\n",
       "      <td>1</td>\n",
       "      <td>60.0</td>\n",
       "    </tr>\n",
       "    <tr>\n",
       "      <th>643775396628845</th>\n",
       "      <td>69.0</td>\n",
       "      <td>1</td>\n",
       "      <td>69.0</td>\n",
       "    </tr>\n",
       "    <tr>\n",
       "      <th>884315328624338</th>\n",
       "      <td>2868.0</td>\n",
       "      <td>2</td>\n",
       "      <td>1434.0</td>\n",
       "    </tr>\n",
       "    <tr>\n",
       "      <th>970398081171047</th>\n",
       "      <td>69.0</td>\n",
       "      <td>1</td>\n",
       "      <td>69.0</td>\n",
       "    </tr>\n",
       "    <tr>\n",
       "      <th>1309635434849784</th>\n",
       "      <td>12.0</td>\n",
       "      <td>1</td>\n",
       "      <td>12.0</td>\n",
       "    </tr>\n",
       "    <tr>\n",
       "      <th>...</th>\n",
       "      <th>...</th>\n",
       "      <td>...</td>\n",
       "      <td>...</td>\n",
       "      <td>...</td>\n",
       "    </tr>\n",
       "    <tr>\n",
       "      <th rowspan=\"5\" valign=\"top\">2020-12</th>\n",
       "      <th>9223239677152577298</th>\n",
       "      <td>79.0</td>\n",
       "      <td>1</td>\n",
       "      <td>79.0</td>\n",
       "    </tr>\n",
       "    <tr>\n",
       "      <th>9223275437355872679</th>\n",
       "      <td>590.0</td>\n",
       "      <td>1</td>\n",
       "      <td>590.0</td>\n",
       "    </tr>\n",
       "    <tr>\n",
       "      <th>9223341083512664945</th>\n",
       "      <td>89.0</td>\n",
       "      <td>1</td>\n",
       "      <td>89.0</td>\n",
       "    </tr>\n",
       "    <tr>\n",
       "      <th>9223361693694781577</th>\n",
       "      <td>79.0</td>\n",
       "      <td>1</td>\n",
       "      <td>79.0</td>\n",
       "    </tr>\n",
       "    <tr>\n",
       "      <th>9223366785772814828</th>\n",
       "      <td>469.0</td>\n",
       "      <td>1</td>\n",
       "      <td>469.0</td>\n",
       "    </tr>\n",
       "  </tbody>\n",
       "</table>\n",
       "<p>606945 rows × 3 columns</p>\n",
       "</div>"
      ],
      "text/plain": [
       "                                      amount  transactions  average_user_check\n",
       "event_date_month user_id                                                      \n",
       "2020-09          333739223557249        60.0             1                60.0\n",
       "                 643775396628845        69.0             1                69.0\n",
       "                 884315328624338      2868.0             2              1434.0\n",
       "                 970398081171047        69.0             1                69.0\n",
       "                 1309635434849784       12.0             1                12.0\n",
       "...                                      ...           ...                 ...\n",
       "2020-12          9223239677152577298    79.0             1                79.0\n",
       "                 9223275437355872679   590.0             1               590.0\n",
       "                 9223341083512664945    89.0             1                89.0\n",
       "                 9223361693694781577    79.0             1                79.0\n",
       "                 9223366785772814828   469.0             1               469.0\n",
       "\n",
       "[606945 rows x 3 columns]"
      ]
     },
     "execution_count": 19,
     "metadata": {},
     "output_type": "execute_result"
    }
   ],
   "source": [
    "d_month = df.groupby(['event_date_month', 'user_id']).sum()\n",
    "d_month"
   ]
  },
  {
   "cell_type": "code",
   "execution_count": 20,
   "metadata": {},
   "outputs": [
    {
     "data": {
      "text/html": [
       "<div>\n",
       "<style scoped>\n",
       "    .dataframe tbody tr th:only-of-type {\n",
       "        vertical-align: middle;\n",
       "    }\n",
       "\n",
       "    .dataframe tbody tr th {\n",
       "        vertical-align: top;\n",
       "    }\n",
       "\n",
       "    .dataframe thead th {\n",
       "        text-align: right;\n",
       "    }\n",
       "</style>\n",
       "<table border=\"1\" class=\"dataframe\">\n",
       "  <thead>\n",
       "    <tr style=\"text-align: right;\">\n",
       "      <th></th>\n",
       "      <th>amount</th>\n",
       "      <th>transactions</th>\n",
       "      <th>average_user_check</th>\n",
       "    </tr>\n",
       "    <tr>\n",
       "      <th>event_date_month</th>\n",
       "      <th></th>\n",
       "      <th></th>\n",
       "      <th></th>\n",
       "    </tr>\n",
       "  </thead>\n",
       "  <tbody>\n",
       "    <tr>\n",
       "      <th>2020-09</th>\n",
       "      <td>260.777732</td>\n",
       "      <td>1.397139</td>\n",
       "      <td>207.334092</td>\n",
       "    </tr>\n",
       "    <tr>\n",
       "      <th>2020-10</th>\n",
       "      <td>494.911312</td>\n",
       "      <td>2.715744</td>\n",
       "      <td>391.469769</td>\n",
       "    </tr>\n",
       "    <tr>\n",
       "      <th>2020-11</th>\n",
       "      <td>521.154515</td>\n",
       "      <td>2.797228</td>\n",
       "      <td>404.385427</td>\n",
       "    </tr>\n",
       "    <tr>\n",
       "      <th>2020-12</th>\n",
       "      <td>525.654830</td>\n",
       "      <td>2.814033</td>\n",
       "      <td>404.766144</td>\n",
       "    </tr>\n",
       "  </tbody>\n",
       "</table>\n",
       "</div>"
      ],
      "text/plain": [
       "                      amount  transactions  average_user_check\n",
       "event_date_month                                              \n",
       "2020-09           260.777732      1.397139          207.334092\n",
       "2020-10           494.911312      2.715744          391.469769\n",
       "2020-11           521.154515      2.797228          404.385427\n",
       "2020-12           525.654830      2.814033          404.766144"
      ]
     },
     "execution_count": 20,
     "metadata": {},
     "output_type": "execute_result"
    }
   ],
   "source": [
    "d_month = d_month.groupby('event_date_month').mean()\n",
    "d_month"
   ]
  },
  {
   "cell_type": "markdown",
   "metadata": {},
   "source": [
    "### Базовый продукт"
   ]
  },
  {
   "cell_type": "markdown",
   "metadata": {},
   "source": [
    "Так как у нас есть 2 вида продукта, логично посмотреть эти метрики в их разрезах. Начнем с базового продукта:"
   ]
  },
  {
   "cell_type": "code",
   "execution_count": 21,
   "metadata": {},
   "outputs": [
    {
     "data": {
      "text/html": [
       "<div>\n",
       "<style scoped>\n",
       "    .dataframe tbody tr th:only-of-type {\n",
       "        vertical-align: middle;\n",
       "    }\n",
       "\n",
       "    .dataframe tbody tr th {\n",
       "        vertical-align: top;\n",
       "    }\n",
       "\n",
       "    .dataframe thead th {\n",
       "        text-align: right;\n",
       "    }\n",
       "</style>\n",
       "<table border=\"1\" class=\"dataframe\">\n",
       "  <thead>\n",
       "    <tr style=\"text-align: right;\">\n",
       "      <th></th>\n",
       "      <th>event_date</th>\n",
       "      <th>user_id</th>\n",
       "      <th>product</th>\n",
       "      <th>amount</th>\n",
       "      <th>transactions</th>\n",
       "      <th>average_user_check</th>\n",
       "      <th>event_date_month</th>\n",
       "    </tr>\n",
       "  </thead>\n",
       "  <tbody>\n",
       "    <tr>\n",
       "      <th>0</th>\n",
       "      <td>2020-09-29</td>\n",
       "      <td>40746820883461494</td>\n",
       "      <td>basic</td>\n",
       "      <td>95.0</td>\n",
       "      <td>1</td>\n",
       "      <td>95.0</td>\n",
       "      <td>2020-09</td>\n",
       "    </tr>\n",
       "    <tr>\n",
       "      <th>2</th>\n",
       "      <td>2020-09-29</td>\n",
       "      <td>63464894315144075</td>\n",
       "      <td>basic</td>\n",
       "      <td>64.0</td>\n",
       "      <td>1</td>\n",
       "      <td>64.0</td>\n",
       "      <td>2020-09</td>\n",
       "    </tr>\n",
       "    <tr>\n",
       "      <th>3</th>\n",
       "      <td>2020-09-29</td>\n",
       "      <td>111526991873455341</td>\n",
       "      <td>basic</td>\n",
       "      <td>399.0</td>\n",
       "      <td>1</td>\n",
       "      <td>399.0</td>\n",
       "      <td>2020-09</td>\n",
       "    </tr>\n",
       "    <tr>\n",
       "      <th>4</th>\n",
       "      <td>2020-09-29</td>\n",
       "      <td>169522572963414231</td>\n",
       "      <td>basic</td>\n",
       "      <td>199.0</td>\n",
       "      <td>1</td>\n",
       "      <td>199.0</td>\n",
       "      <td>2020-09</td>\n",
       "    </tr>\n",
       "    <tr>\n",
       "      <th>5</th>\n",
       "      <td>2020-09-29</td>\n",
       "      <td>198859200434938543</td>\n",
       "      <td>basic</td>\n",
       "      <td>89.0</td>\n",
       "      <td>1</td>\n",
       "      <td>89.0</td>\n",
       "      <td>2020-09</td>\n",
       "    </tr>\n",
       "  </tbody>\n",
       "</table>\n",
       "</div>"
      ],
      "text/plain": [
       "  event_date             user_id product  amount  transactions  \\\n",
       "0 2020-09-29   40746820883461494   basic    95.0             1   \n",
       "2 2020-09-29   63464894315144075   basic    64.0             1   \n",
       "3 2020-09-29  111526991873455341   basic   399.0             1   \n",
       "4 2020-09-29  169522572963414231   basic   199.0             1   \n",
       "5 2020-09-29  198859200434938543   basic    89.0             1   \n",
       "\n",
       "   average_user_check event_date_month  \n",
       "0                95.0          2020-09  \n",
       "2                64.0          2020-09  \n",
       "3               399.0          2020-09  \n",
       "4               199.0          2020-09  \n",
       "5                89.0          2020-09  "
      ]
     },
     "execution_count": 21,
     "metadata": {},
     "output_type": "execute_result"
    }
   ],
   "source": [
    "df_b = df[df['product'] == 'basic']\n",
    "df_b.head()"
   ]
  },
  {
   "cell_type": "code",
   "execution_count": 22,
   "metadata": {},
   "outputs": [
    {
     "data": {
      "text/html": [
       "<div>\n",
       "<style scoped>\n",
       "    .dataframe tbody tr th:only-of-type {\n",
       "        vertical-align: middle;\n",
       "    }\n",
       "\n",
       "    .dataframe tbody tr th {\n",
       "        vertical-align: top;\n",
       "    }\n",
       "\n",
       "    .dataframe thead th {\n",
       "        text-align: right;\n",
       "    }\n",
       "</style>\n",
       "<table border=\"1\" class=\"dataframe\">\n",
       "  <thead>\n",
       "    <tr style=\"text-align: right;\">\n",
       "      <th></th>\n",
       "      <th>event_date</th>\n",
       "      <th>amount</th>\n",
       "      <th>transactions</th>\n",
       "      <th>average_user_check</th>\n",
       "    </tr>\n",
       "  </thead>\n",
       "  <tbody>\n",
       "    <tr>\n",
       "      <th>0</th>\n",
       "      <td>2020-09-29</td>\n",
       "      <td>164.455340</td>\n",
       "      <td>1.261831</td>\n",
       "      <td>131.835358</td>\n",
       "    </tr>\n",
       "    <tr>\n",
       "      <th>1</th>\n",
       "      <td>2020-09-30</td>\n",
       "      <td>166.385550</td>\n",
       "      <td>1.277694</td>\n",
       "      <td>131.656746</td>\n",
       "    </tr>\n",
       "    <tr>\n",
       "      <th>2</th>\n",
       "      <td>2020-10-01</td>\n",
       "      <td>164.122970</td>\n",
       "      <td>1.274356</td>\n",
       "      <td>130.577649</td>\n",
       "    </tr>\n",
       "    <tr>\n",
       "      <th>3</th>\n",
       "      <td>2020-10-02</td>\n",
       "      <td>174.004299</td>\n",
       "      <td>1.347091</td>\n",
       "      <td>130.827750</td>\n",
       "    </tr>\n",
       "    <tr>\n",
       "      <th>4</th>\n",
       "      <td>2020-10-03</td>\n",
       "      <td>157.260145</td>\n",
       "      <td>1.270460</td>\n",
       "      <td>126.610084</td>\n",
       "    </tr>\n",
       "  </tbody>\n",
       "</table>\n",
       "</div>"
      ],
      "text/plain": [
       "  event_date      amount  transactions  average_user_check\n",
       "0 2020-09-29  164.455340      1.261831          131.835358\n",
       "1 2020-09-30  166.385550      1.277694          131.656746\n",
       "2 2020-10-01  164.122970      1.274356          130.577649\n",
       "3 2020-10-02  174.004299      1.347091          130.827750\n",
       "4 2020-10-03  157.260145      1.270460          126.610084"
      ]
     },
     "execution_count": 22,
     "metadata": {},
     "output_type": "execute_result"
    }
   ],
   "source": [
    "d_b = df_b.groupby('event_date', as_index=False).mean()\n",
    "d_b.drop('user_id', axis=1, inplace=True)\n",
    "d_b.head()"
   ]
  },
  {
   "cell_type": "code",
   "execution_count": 23,
   "metadata": {},
   "outputs": [
    {
     "data": {
      "image/png": "[encoded data removed]",
      "text/plain": [
       "<Figure size 432x288 with 1 Axes>"
      ]
     },
     "metadata": {
      "needs_background": "light"
     },
     "output_type": "display_data"
    }
   ],
   "source": [
    "d_b[['amount', 'average_user_check']].plot.kde(title='Плотности распределения для базового продукта');"
   ]
  },
  {
   "cell_type": "markdown",
   "metadata": {},
   "source": [
    "Бимодальность характерна для суммарных покупок и среднего чека и базового продукта."
   ]
  },
  {
   "cell_type": "code",
   "execution_count": 24,
   "metadata": {},
   "outputs": [
    {
     "data": {
      "image/png": "[encoded data removed]",
      "text/plain": [
       "<Figure size 432x288 with 1 Axes>"
      ]
     },
     "metadata": {
      "needs_background": "light"
     },
     "output_type": "display_data"
    }
   ],
   "source": [
    "d_b['transactions'].plot.kde(title='Плотность распределения среднего числа транзакций для базового продукта');"
   ]
  },
  {
   "cell_type": "markdown",
   "metadata": {},
   "source": [
    "Распределение транзакций также унимодально."
   ]
  },
  {
   "cell_type": "code",
   "execution_count": 25,
   "metadata": {},
   "outputs": [
    {
     "data": {
      "image/png": "[encoded data removed]",
      "text/plain": [
       "<Figure size 432x288 with 1 Axes>"
      ]
     },
     "metadata": {
      "needs_background": "light"
     },
     "output_type": "display_data"
    }
   ],
   "source": [
    "d_b.plot(x='event_date', y=['transactions']);"
   ]
  },
  {
   "cell_type": "code",
   "execution_count": 26,
   "metadata": {},
   "outputs": [
    {
     "data": {
      "image/png": "[encoded data removed]",
      "text/plain": [
       "<Figure size 432x288 with 1 Axes>"
      ]
     },
     "metadata": {
      "needs_background": "light"
     },
     "output_type": "display_data"
    }
   ],
   "source": [
    "d_b.plot(x='event_date', y=['amount']);"
   ]
  },
  {
   "cell_type": "code",
   "execution_count": 27,
   "metadata": {},
   "outputs": [
    {
     "data": {
      "image/png": "[encoded data removed]",
      "text/plain": [
       "<Figure size 432x288 with 1 Axes>"
      ]
     },
     "metadata": {
      "needs_background": "light"
     },
     "output_type": "display_data"
    }
   ],
   "source": [
    "d_b.plot(x='event_date', y=['average_user_check']);"
   ]
  },
  {
   "cell_type": "code",
   "execution_count": 30,
   "metadata": {},
   "outputs": [
    {
     "data": {
      "text/html": [
       "<div>\n",
       "<style scoped>\n",
       "    .dataframe tbody tr th:only-of-type {\n",
       "        vertical-align: middle;\n",
       "    }\n",
       "\n",
       "    .dataframe tbody tr th {\n",
       "        vertical-align: top;\n",
       "    }\n",
       "\n",
       "    .dataframe thead th {\n",
       "        text-align: right;\n",
       "    }\n",
       "</style>\n",
       "<table border=\"1\" class=\"dataframe\">\n",
       "  <thead>\n",
       "    <tr style=\"text-align: right;\">\n",
       "      <th></th>\n",
       "      <th>event_date</th>\n",
       "      <th>user_id</th>\n",
       "    </tr>\n",
       "  </thead>\n",
       "  <tbody>\n",
       "    <tr>\n",
       "      <th>0</th>\n",
       "      <td>2020-09-29</td>\n",
       "      <td>9953</td>\n",
       "    </tr>\n",
       "    <tr>\n",
       "      <th>1</th>\n",
       "      <td>2020-09-30</td>\n",
       "      <td>10616</td>\n",
       "    </tr>\n",
       "    <tr>\n",
       "      <th>2</th>\n",
       "      <td>2020-10-01</td>\n",
       "      <td>10100</td>\n",
       "    </tr>\n",
       "    <tr>\n",
       "      <th>3</th>\n",
       "      <td>2020-10-02</td>\n",
       "      <td>10467</td>\n",
       "    </tr>\n",
       "    <tr>\n",
       "      <th>4</th>\n",
       "      <td>2020-10-03</td>\n",
       "      <td>8822</td>\n",
       "    </tr>\n",
       "  </tbody>\n",
       "</table>\n",
       "</div>"
      ],
      "text/plain": [
       "  event_date  user_id\n",
       "0 2020-09-29     9953\n",
       "1 2020-09-30    10616\n",
       "2 2020-10-01    10100\n",
       "3 2020-10-02    10467\n",
       "4 2020-10-03     8822"
      ]
     },
     "execution_count": 30,
     "metadata": {},
     "output_type": "execute_result"
    }
   ],
   "source": [
    "d_b_counts = df_b.groupby('event_date', as_index=False).count()[['event_date', 'user_id']]\n",
    "d_b_counts.head()"
   ]
  },
  {
   "cell_type": "code",
   "execution_count": 31,
   "metadata": {},
   "outputs": [
    {
     "data": {
      "image/png": "[encoded data removed]",
      "text/plain": [
       "<Figure size 432x288 with 1 Axes>"
      ]
     },
     "metadata": {
      "needs_background": "light"
     },
     "output_type": "display_data"
    }
   ],
   "source": [
    "d_b_counts.plot(x='event_date', y=['user_id']);"
   ]
  },
  {
   "cell_type": "markdown",
   "metadata": {},
   "source": [
    "Недельная сезонность также хорошо видна."
   ]
  },
  {
   "cell_type": "markdown",
   "metadata": {},
   "source": [
    "### Продвинутый продукт"
   ]
  },
  {
   "cell_type": "markdown",
   "metadata": {},
   "source": [
    "Теперь взглянем на метрики продвинутого продукта:"
   ]
  },
  {
   "cell_type": "code",
   "execution_count": 32,
   "metadata": {},
   "outputs": [
    {
     "data": {
      "text/html": [
       "<div>\n",
       "<style scoped>\n",
       "    .dataframe tbody tr th:only-of-type {\n",
       "        vertical-align: middle;\n",
       "    }\n",
       "\n",
       "    .dataframe tbody tr th {\n",
       "        vertical-align: top;\n",
       "    }\n",
       "\n",
       "    .dataframe thead th {\n",
       "        text-align: right;\n",
       "    }\n",
       "</style>\n",
       "<table border=\"1\" class=\"dataframe\">\n",
       "  <thead>\n",
       "    <tr style=\"text-align: right;\">\n",
       "      <th></th>\n",
       "      <th>event_date</th>\n",
       "      <th>user_id</th>\n",
       "      <th>product</th>\n",
       "      <th>amount</th>\n",
       "      <th>transactions</th>\n",
       "      <th>average_user_check</th>\n",
       "      <th>event_date_month</th>\n",
       "    </tr>\n",
       "  </thead>\n",
       "  <tbody>\n",
       "    <tr>\n",
       "      <th>1</th>\n",
       "      <td>2020-09-29</td>\n",
       "      <td>41102328408008828</td>\n",
       "      <td>advanced</td>\n",
       "      <td>279.0</td>\n",
       "      <td>1</td>\n",
       "      <td>279.0</td>\n",
       "      <td>2020-09</td>\n",
       "    </tr>\n",
       "    <tr>\n",
       "      <th>9</th>\n",
       "      <td>2020-09-29</td>\n",
       "      <td>314919079237057602</td>\n",
       "      <td>advanced</td>\n",
       "      <td>280.0</td>\n",
       "      <td>1</td>\n",
       "      <td>280.0</td>\n",
       "      <td>2020-09</td>\n",
       "    </tr>\n",
       "    <tr>\n",
       "      <th>10</th>\n",
       "      <td>2020-09-29</td>\n",
       "      <td>344289654228596611</td>\n",
       "      <td>advanced</td>\n",
       "      <td>440.0</td>\n",
       "      <td>1</td>\n",
       "      <td>440.0</td>\n",
       "      <td>2020-09</td>\n",
       "    </tr>\n",
       "    <tr>\n",
       "      <th>14</th>\n",
       "      <td>2020-09-29</td>\n",
       "      <td>494079113546693695</td>\n",
       "      <td>advanced</td>\n",
       "      <td>229.0</td>\n",
       "      <td>1</td>\n",
       "      <td>229.0</td>\n",
       "      <td>2020-09</td>\n",
       "    </tr>\n",
       "    <tr>\n",
       "      <th>16</th>\n",
       "      <td>2020-09-29</td>\n",
       "      <td>515550254542076672</td>\n",
       "      <td>advanced</td>\n",
       "      <td>299.0</td>\n",
       "      <td>1</td>\n",
       "      <td>299.0</td>\n",
       "      <td>2020-09</td>\n",
       "    </tr>\n",
       "  </tbody>\n",
       "</table>\n",
       "</div>"
      ],
      "text/plain": [
       "   event_date             user_id   product  amount  transactions  \\\n",
       "1  2020-09-29   41102328408008828  advanced   279.0             1   \n",
       "9  2020-09-29  314919079237057602  advanced   280.0             1   \n",
       "10 2020-09-29  344289654228596611  advanced   440.0             1   \n",
       "14 2020-09-29  494079113546693695  advanced   229.0             1   \n",
       "16 2020-09-29  515550254542076672  advanced   299.0             1   \n",
       "\n",
       "    average_user_check event_date_month  \n",
       "1                279.0          2020-09  \n",
       "9                280.0          2020-09  \n",
       "10               440.0          2020-09  \n",
       "14               229.0          2020-09  \n",
       "16               299.0          2020-09  "
      ]
     },
     "execution_count": 32,
     "metadata": {},
     "output_type": "execute_result"
    }
   ],
   "source": [
    "df_a = df[df['product'] == 'advanced']\n",
    "df_a.head()"
   ]
  },
  {
   "cell_type": "code",
   "execution_count": 33,
   "metadata": {},
   "outputs": [
    {
     "data": {
      "text/html": [
       "<div>\n",
       "<style scoped>\n",
       "    .dataframe tbody tr th:only-of-type {\n",
       "        vertical-align: middle;\n",
       "    }\n",
       "\n",
       "    .dataframe tbody tr th {\n",
       "        vertical-align: top;\n",
       "    }\n",
       "\n",
       "    .dataframe thead th {\n",
       "        text-align: right;\n",
       "    }\n",
       "</style>\n",
       "<table border=\"1\" class=\"dataframe\">\n",
       "  <thead>\n",
       "    <tr style=\"text-align: right;\">\n",
       "      <th></th>\n",
       "      <th>event_date</th>\n",
       "      <th>amount</th>\n",
       "      <th>transactions</th>\n",
       "      <th>average_user_check</th>\n",
       "    </tr>\n",
       "  </thead>\n",
       "  <tbody>\n",
       "    <tr>\n",
       "      <th>0</th>\n",
       "      <td>2020-09-29</td>\n",
       "      <td>470.817661</td>\n",
       "      <td>1.233232</td>\n",
       "      <td>378.590986</td>\n",
       "    </tr>\n",
       "    <tr>\n",
       "      <th>1</th>\n",
       "      <td>2020-09-30</td>\n",
       "      <td>479.254990</td>\n",
       "      <td>1.258854</td>\n",
       "      <td>375.646120</td>\n",
       "    </tr>\n",
       "    <tr>\n",
       "      <th>2</th>\n",
       "      <td>2020-10-01</td>\n",
       "      <td>482.739641</td>\n",
       "      <td>1.269682</td>\n",
       "      <td>378.555922</td>\n",
       "    </tr>\n",
       "    <tr>\n",
       "      <th>3</th>\n",
       "      <td>2020-10-02</td>\n",
       "      <td>474.017604</td>\n",
       "      <td>1.267173</td>\n",
       "      <td>370.242126</td>\n",
       "    </tr>\n",
       "    <tr>\n",
       "      <th>4</th>\n",
       "      <td>2020-10-03</td>\n",
       "      <td>435.808607</td>\n",
       "      <td>1.218852</td>\n",
       "      <td>354.055362</td>\n",
       "    </tr>\n",
       "  </tbody>\n",
       "</table>\n",
       "</div>"
      ],
      "text/plain": [
       "  event_date      amount  transactions  average_user_check\n",
       "0 2020-09-29  470.817661      1.233232          378.590986\n",
       "1 2020-09-30  479.254990      1.258854          375.646120\n",
       "2 2020-10-01  482.739641      1.269682          378.555922\n",
       "3 2020-10-02  474.017604      1.267173          370.242126\n",
       "4 2020-10-03  435.808607      1.218852          354.055362"
      ]
     },
     "execution_count": 33,
     "metadata": {},
     "output_type": "execute_result"
    }
   ],
   "source": [
    "d_a = df_a.groupby('event_date', as_index=False).mean()\n",
    "d_a.drop('user_id', axis=1, inplace=True)\n",
    "d_a.head()"
   ]
  },
  {
   "cell_type": "code",
   "execution_count": 34,
   "metadata": {},
   "outputs": [
    {
     "data": {
      "text/plain": [
       "<AxesSubplot:title={'center':'Плотности распределения для продвинутого продукта'}, ylabel='Density'>"
      ]
     },
     "execution_count": 34,
     "metadata": {},
     "output_type": "execute_result"
    },
    {
     "data": {
      "image/png": "[encoded data removed]",
      "text/plain": [
       "<Figure size 432x288 with 1 Axes>"
      ]
     },
     "metadata": {
      "needs_background": "light"
     },
     "output_type": "display_data"
    }
   ],
   "source": [
    "d_a[['amount', 'average_user_check']].plot.kde(title='Плотности распределения для продвинутого продукта')"
   ]
  },
  {
   "cell_type": "markdown",
   "metadata": {},
   "source": [
    "Здесь уже не так хорошо просматривается бимодальность распределений (скорее всего мало данных)."
   ]
  },
  {
   "cell_type": "code",
   "execution_count": 540,
   "metadata": {},
   "outputs": [
    {
     "data": {
      "image/png": "[encoded data removed]",
      "text/plain": [
       "<Figure size 432x288 with 1 Axes>"
      ]
     },
     "metadata": {},
     "output_type": "display_data"
    }
   ],
   "source": [
    "d_a['transactions'].plot.kde(title='Плотность распределения среднего числа транзакций для продвинутого продукта');"
   ]
  },
  {
   "cell_type": "markdown",
   "metadata": {},
   "source": [
    "Распределение транзакций \"искривилось\"."
   ]
  },
  {
   "cell_type": "code",
   "execution_count": 36,
   "metadata": {},
   "outputs": [
    {
     "data": {
      "image/png": "[encoded data removed]",
      "text/plain": [
       "<Figure size 432x288 with 1 Axes>"
      ]
     },
     "metadata": {
      "needs_background": "light"
     },
     "output_type": "display_data"
    }
   ],
   "source": [
    "d_a.plot(x='event_date', y=['transactions']);"
   ]
  },
  {
   "cell_type": "code",
   "execution_count": 37,
   "metadata": {},
   "outputs": [
    {
     "data": {
      "image/png": "[encoded data removed]",
      "text/plain": [
       "<Figure size 432x288 with 1 Axes>"
      ]
     },
     "metadata": {
      "needs_background": "light"
     },
     "output_type": "display_data"
    }
   ],
   "source": [
    "d_a.plot(x='event_date', y=['amount']);"
   ]
  },
  {
   "cell_type": "code",
   "execution_count": 38,
   "metadata": {},
   "outputs": [
    {
     "data": {
      "image/png": "[encoded data removed]",
      "text/plain": [
       "<Figure size 432x288 with 1 Axes>"
      ]
     },
     "metadata": {
      "needs_background": "light"
     },
     "output_type": "display_data"
    }
   ],
   "source": [
    "d_a.plot(x='event_date', y=['average_user_check']);"
   ]
  },
  {
   "cell_type": "code",
   "execution_count": 39,
   "metadata": {},
   "outputs": [
    {
     "data": {
      "text/html": [
       "<div>\n",
       "<style scoped>\n",
       "    .dataframe tbody tr th:only-of-type {\n",
       "        vertical-align: middle;\n",
       "    }\n",
       "\n",
       "    .dataframe tbody tr th {\n",
       "        vertical-align: top;\n",
       "    }\n",
       "\n",
       "    .dataframe thead th {\n",
       "        text-align: right;\n",
       "    }\n",
       "</style>\n",
       "<table border=\"1\" class=\"dataframe\">\n",
       "  <thead>\n",
       "    <tr style=\"text-align: right;\">\n",
       "      <th></th>\n",
       "      <th>event_date</th>\n",
       "      <th>user_id</th>\n",
       "    </tr>\n",
       "  </thead>\n",
       "  <tbody>\n",
       "    <tr>\n",
       "      <th>0</th>\n",
       "      <td>2020-09-29</td>\n",
       "      <td>2967</td>\n",
       "    </tr>\n",
       "    <tr>\n",
       "      <th>1</th>\n",
       "      <td>2020-09-30</td>\n",
       "      <td>3106</td>\n",
       "    </tr>\n",
       "    <tr>\n",
       "      <th>2</th>\n",
       "      <td>2020-10-01</td>\n",
       "      <td>2896</td>\n",
       "    </tr>\n",
       "    <tr>\n",
       "      <th>3</th>\n",
       "      <td>2020-10-02</td>\n",
       "      <td>2897</td>\n",
       "    </tr>\n",
       "    <tr>\n",
       "      <th>4</th>\n",
       "      <td>2020-10-03</td>\n",
       "      <td>2440</td>\n",
       "    </tr>\n",
       "  </tbody>\n",
       "</table>\n",
       "</div>"
      ],
      "text/plain": [
       "  event_date  user_id\n",
       "0 2020-09-29     2967\n",
       "1 2020-09-30     3106\n",
       "2 2020-10-01     2896\n",
       "3 2020-10-02     2897\n",
       "4 2020-10-03     2440"
      ]
     },
     "execution_count": 39,
     "metadata": {},
     "output_type": "execute_result"
    }
   ],
   "source": [
    "d_a_counts = df_a.groupby('event_date', as_index=False).count()[['event_date', 'user_id']]\n",
    "d_a_counts.head()"
   ]
  },
  {
   "cell_type": "code",
   "execution_count": 40,
   "metadata": {},
   "outputs": [
    {
     "data": {
      "image/png": "[encoded data removed]",
      "text/plain": [
       "<Figure size 432x288 with 1 Axes>"
      ]
     },
     "metadata": {
      "needs_background": "light"
     },
     "output_type": "display_data"
    }
   ],
   "source": [
    "d_a_counts.plot(x='event_date', y=['user_id']);"
   ]
  },
  {
   "cell_type": "markdown",
   "metadata": {},
   "source": [
    "Взглянем какую долю занимает продвинутый продукт в нашем бизнесе (по пользователям, транзакциям, суммарным покупкам):"
   ]
  },
  {
   "cell_type": "code",
   "execution_count": 41,
   "metadata": {},
   "outputs": [
    {
     "data": {
      "text/html": [
       "<div>\n",
       "<style scoped>\n",
       "    .dataframe tbody tr th:only-of-type {\n",
       "        vertical-align: middle;\n",
       "    }\n",
       "\n",
       "    .dataframe tbody tr th {\n",
       "        vertical-align: top;\n",
       "    }\n",
       "\n",
       "    .dataframe thead th {\n",
       "        text-align: right;\n",
       "    }\n",
       "</style>\n",
       "<table border=\"1\" class=\"dataframe\">\n",
       "  <thead>\n",
       "    <tr style=\"text-align: right;\">\n",
       "      <th></th>\n",
       "      <th>event_date</th>\n",
       "      <th>proportion</th>\n",
       "    </tr>\n",
       "  </thead>\n",
       "  <tbody>\n",
       "    <tr>\n",
       "      <th>0</th>\n",
       "      <td>2020-09-29</td>\n",
       "      <td>0.229644</td>\n",
       "    </tr>\n",
       "    <tr>\n",
       "      <th>1</th>\n",
       "      <td>2020-09-30</td>\n",
       "      <td>0.226352</td>\n",
       "    </tr>\n",
       "    <tr>\n",
       "      <th>2</th>\n",
       "      <td>2020-10-01</td>\n",
       "      <td>0.222838</td>\n",
       "    </tr>\n",
       "    <tr>\n",
       "      <th>3</th>\n",
       "      <td>2020-10-02</td>\n",
       "      <td>0.216776</td>\n",
       "    </tr>\n",
       "    <tr>\n",
       "      <th>4</th>\n",
       "      <td>2020-10-03</td>\n",
       "      <td>0.216658</td>\n",
       "    </tr>\n",
       "  </tbody>\n",
       "</table>\n",
       "</div>"
      ],
      "text/plain": [
       "  event_date  proportion\n",
       "0 2020-09-29    0.229644\n",
       "1 2020-09-30    0.226352\n",
       "2 2020-10-01    0.222838\n",
       "3 2020-10-02    0.216776\n",
       "4 2020-10-03    0.216658"
      ]
     },
     "execution_count": 41,
     "metadata": {},
     "output_type": "execute_result"
    }
   ],
   "source": [
    "advanced_proportion_users = pd.DataFrame()\n",
    "advanced_proportion_users['event_date'] = d['event_date']\n",
    "advanced_proportion_users['proportion'] = d_a_counts['user_id'] / (d_a_counts['user_id'] + d_b_counts['user_id'])\n",
    "advanced_proportion_users.head()"
   ]
  },
  {
   "cell_type": "code",
   "execution_count": 541,
   "metadata": {},
   "outputs": [
    {
     "data": {
      "image/png": "[encoded data removed]",
      "text/plain": [
       "<Figure size 432x288 with 1 Axes>"
      ]
     },
     "metadata": {},
     "output_type": "display_data"
    }
   ],
   "source": [
    "advanced_proportion_users['proportion'].plot.kde(title='Плотность распределения доли продвинутого продукта (пользователи)');"
   ]
  },
  {
   "cell_type": "markdown",
   "metadata": {},
   "source": [
    "Видим, что ежедневных пользователей не так много (около 22-23%)."
   ]
  },
  {
   "cell_type": "code",
   "execution_count": 44,
   "metadata": {},
   "outputs": [
    {
     "data": {
      "text/html": [
       "<div>\n",
       "<style scoped>\n",
       "    .dataframe tbody tr th:only-of-type {\n",
       "        vertical-align: middle;\n",
       "    }\n",
       "\n",
       "    .dataframe tbody tr th {\n",
       "        vertical-align: top;\n",
       "    }\n",
       "\n",
       "    .dataframe thead th {\n",
       "        text-align: right;\n",
       "    }\n",
       "</style>\n",
       "<table border=\"1\" class=\"dataframe\">\n",
       "  <thead>\n",
       "    <tr style=\"text-align: right;\">\n",
       "      <th></th>\n",
       "      <th>event_date</th>\n",
       "      <th>amount</th>\n",
       "      <th>transactions</th>\n",
       "      <th>average_user_check</th>\n",
       "    </tr>\n",
       "  </thead>\n",
       "  <tbody>\n",
       "    <tr>\n",
       "      <th>0</th>\n",
       "      <td>2020-09-29</td>\n",
       "      <td>1396916.0</td>\n",
       "      <td>3659.0</td>\n",
       "      <td>1.123279e+06</td>\n",
       "    </tr>\n",
       "    <tr>\n",
       "      <th>1</th>\n",
       "      <td>2020-09-30</td>\n",
       "      <td>1488566.0</td>\n",
       "      <td>3910.0</td>\n",
       "      <td>1.166757e+06</td>\n",
       "    </tr>\n",
       "    <tr>\n",
       "      <th>2</th>\n",
       "      <td>2020-10-01</td>\n",
       "      <td>1398014.0</td>\n",
       "      <td>3677.0</td>\n",
       "      <td>1.096298e+06</td>\n",
       "    </tr>\n",
       "    <tr>\n",
       "      <th>3</th>\n",
       "      <td>2020-10-02</td>\n",
       "      <td>1373229.0</td>\n",
       "      <td>3671.0</td>\n",
       "      <td>1.072591e+06</td>\n",
       "    </tr>\n",
       "    <tr>\n",
       "      <th>4</th>\n",
       "      <td>2020-10-03</td>\n",
       "      <td>1063373.0</td>\n",
       "      <td>2974.0</td>\n",
       "      <td>8.638951e+05</td>\n",
       "    </tr>\n",
       "  </tbody>\n",
       "</table>\n",
       "</div>"
      ],
      "text/plain": [
       "  event_date     amount  transactions  average_user_check\n",
       "0 2020-09-29  1396916.0        3659.0        1.123279e+06\n",
       "1 2020-09-30  1488566.0        3910.0        1.166757e+06\n",
       "2 2020-10-01  1398014.0        3677.0        1.096298e+06\n",
       "3 2020-10-02  1373229.0        3671.0        1.072591e+06\n",
       "4 2020-10-03  1063373.0        2974.0        8.638951e+05"
      ]
     },
     "execution_count": 44,
     "metadata": {},
     "output_type": "execute_result"
    }
   ],
   "source": [
    "d_a_sums = df_a.groupby('event_date', as_index=False).sum()\n",
    "d_a_sums.drop('user_id', axis=1, inplace=True)\n",
    "d_a_sums.head()"
   ]
  },
  {
   "cell_type": "code",
   "execution_count": 45,
   "metadata": {},
   "outputs": [
    {
     "data": {
      "text/html": [
       "<div>\n",
       "<style scoped>\n",
       "    .dataframe tbody tr th:only-of-type {\n",
       "        vertical-align: middle;\n",
       "    }\n",
       "\n",
       "    .dataframe tbody tr th {\n",
       "        vertical-align: top;\n",
       "    }\n",
       "\n",
       "    .dataframe thead th {\n",
       "        text-align: right;\n",
       "    }\n",
       "</style>\n",
       "<table border=\"1\" class=\"dataframe\">\n",
       "  <thead>\n",
       "    <tr style=\"text-align: right;\">\n",
       "      <th></th>\n",
       "      <th>event_date</th>\n",
       "      <th>amount</th>\n",
       "      <th>transactions</th>\n",
       "      <th>average_user_check</th>\n",
       "    </tr>\n",
       "  </thead>\n",
       "  <tbody>\n",
       "    <tr>\n",
       "      <th>0</th>\n",
       "      <td>2020-09-29</td>\n",
       "      <td>1636824.0</td>\n",
       "      <td>12559.0</td>\n",
       "      <td>1.312157e+06</td>\n",
       "    </tr>\n",
       "    <tr>\n",
       "      <th>1</th>\n",
       "      <td>2020-09-30</td>\n",
       "      <td>1766349.0</td>\n",
       "      <td>13564.0</td>\n",
       "      <td>1.397668e+06</td>\n",
       "    </tr>\n",
       "    <tr>\n",
       "      <th>2</th>\n",
       "      <td>2020-10-01</td>\n",
       "      <td>1657642.0</td>\n",
       "      <td>12871.0</td>\n",
       "      <td>1.318834e+06</td>\n",
       "    </tr>\n",
       "    <tr>\n",
       "      <th>3</th>\n",
       "      <td>2020-10-02</td>\n",
       "      <td>1821303.0</td>\n",
       "      <td>14100.0</td>\n",
       "      <td>1.369374e+06</td>\n",
       "    </tr>\n",
       "    <tr>\n",
       "      <th>4</th>\n",
       "      <td>2020-10-03</td>\n",
       "      <td>1387349.0</td>\n",
       "      <td>11208.0</td>\n",
       "      <td>1.116954e+06</td>\n",
       "    </tr>\n",
       "  </tbody>\n",
       "</table>\n",
       "</div>"
      ],
      "text/plain": [
       "  event_date     amount  transactions  average_user_check\n",
       "0 2020-09-29  1636824.0       12559.0        1.312157e+06\n",
       "1 2020-09-30  1766349.0       13564.0        1.397668e+06\n",
       "2 2020-10-01  1657642.0       12871.0        1.318834e+06\n",
       "3 2020-10-02  1821303.0       14100.0        1.369374e+06\n",
       "4 2020-10-03  1387349.0       11208.0        1.116954e+06"
      ]
     },
     "execution_count": 45,
     "metadata": {},
     "output_type": "execute_result"
    }
   ],
   "source": [
    "d_b_sums = df_b.groupby('event_date', as_index=False).sum()\n",
    "d_b_sums.drop('user_id', axis=1, inplace=True)\n",
    "d_b_sums.head()"
   ]
  },
  {
   "cell_type": "code",
   "execution_count": 46,
   "metadata": {},
   "outputs": [
    {
     "data": {
      "text/html": [
       "<div>\n",
       "<style scoped>\n",
       "    .dataframe tbody tr th:only-of-type {\n",
       "        vertical-align: middle;\n",
       "    }\n",
       "\n",
       "    .dataframe tbody tr th {\n",
       "        vertical-align: top;\n",
       "    }\n",
       "\n",
       "    .dataframe thead th {\n",
       "        text-align: right;\n",
       "    }\n",
       "</style>\n",
       "<table border=\"1\" class=\"dataframe\">\n",
       "  <thead>\n",
       "    <tr style=\"text-align: right;\">\n",
       "      <th></th>\n",
       "      <th>event_date</th>\n",
       "      <th>proportion</th>\n",
       "    </tr>\n",
       "  </thead>\n",
       "  <tbody>\n",
       "    <tr>\n",
       "      <th>0</th>\n",
       "      <td>2020-09-29</td>\n",
       "      <td>0.225614</td>\n",
       "    </tr>\n",
       "    <tr>\n",
       "      <th>1</th>\n",
       "      <td>2020-09-30</td>\n",
       "      <td>0.223761</td>\n",
       "    </tr>\n",
       "    <tr>\n",
       "      <th>2</th>\n",
       "      <td>2020-10-01</td>\n",
       "      <td>0.222202</td>\n",
       "    </tr>\n",
       "    <tr>\n",
       "      <th>3</th>\n",
       "      <td>2020-10-02</td>\n",
       "      <td>0.206573</td>\n",
       "    </tr>\n",
       "    <tr>\n",
       "      <th>4</th>\n",
       "      <td>2020-10-03</td>\n",
       "      <td>0.209702</td>\n",
       "    </tr>\n",
       "  </tbody>\n",
       "</table>\n",
       "</div>"
      ],
      "text/plain": [
       "  event_date  proportion\n",
       "0 2020-09-29    0.225614\n",
       "1 2020-09-30    0.223761\n",
       "2 2020-10-01    0.222202\n",
       "3 2020-10-02    0.206573\n",
       "4 2020-10-03    0.209702"
      ]
     },
     "execution_count": 46,
     "metadata": {},
     "output_type": "execute_result"
    }
   ],
   "source": [
    "advanced_proportion_transactions = pd.DataFrame()\n",
    "advanced_proportion_transactions['event_date'] = d['event_date']\n",
    "advanced_proportion_transactions['proportion'] = d_a_sums['transactions'] / (d_a_sums['transactions'] + d_b_sums['transactions'])\n",
    "advanced_proportion_transactions.head()"
   ]
  },
  {
   "cell_type": "code",
   "execution_count": 47,
   "metadata": {},
   "outputs": [
    {
     "data": {
      "image/png": "[encoded data removed]",
      "text/plain": [
       "<Figure size 432x288 with 1 Axes>"
      ]
     },
     "metadata": {
      "needs_background": "light"
     },
     "output_type": "display_data"
    }
   ],
   "source": [
    "advanced_proportion_transactions['proportion'].plot.kde(title='Плотность распределения доли транзакций продвинутого продукта');"
   ]
  },
  {
   "cell_type": "markdown",
   "metadata": {},
   "source": [
    "Видим похожую картину и по транзакциям (их около 22-23% от общего числа)."
   ]
  },
  {
   "cell_type": "code",
   "execution_count": 49,
   "metadata": {},
   "outputs": [
    {
     "data": {
      "text/html": [
       "<div>\n",
       "<style scoped>\n",
       "    .dataframe tbody tr th:only-of-type {\n",
       "        vertical-align: middle;\n",
       "    }\n",
       "\n",
       "    .dataframe tbody tr th {\n",
       "        vertical-align: top;\n",
       "    }\n",
       "\n",
       "    .dataframe thead th {\n",
       "        text-align: right;\n",
       "    }\n",
       "</style>\n",
       "<table border=\"1\" class=\"dataframe\">\n",
       "  <thead>\n",
       "    <tr style=\"text-align: right;\">\n",
       "      <th></th>\n",
       "      <th>event_date</th>\n",
       "      <th>proportion</th>\n",
       "    </tr>\n",
       "  </thead>\n",
       "  <tbody>\n",
       "    <tr>\n",
       "      <th>0</th>\n",
       "      <td>2020-09-29</td>\n",
       "      <td>0.460460</td>\n",
       "    </tr>\n",
       "    <tr>\n",
       "      <th>1</th>\n",
       "      <td>2020-09-30</td>\n",
       "      <td>0.457329</td>\n",
       "    </tr>\n",
       "    <tr>\n",
       "      <th>2</th>\n",
       "      <td>2020-10-01</td>\n",
       "      <td>0.457517</td>\n",
       "    </tr>\n",
       "    <tr>\n",
       "      <th>3</th>\n",
       "      <td>2020-10-02</td>\n",
       "      <td>0.429869</td>\n",
       "    </tr>\n",
       "    <tr>\n",
       "      <th>4</th>\n",
       "      <td>2020-10-03</td>\n",
       "      <td>0.433902</td>\n",
       "    </tr>\n",
       "  </tbody>\n",
       "</table>\n",
       "</div>"
      ],
      "text/plain": [
       "  event_date  proportion\n",
       "0 2020-09-29    0.460460\n",
       "1 2020-09-30    0.457329\n",
       "2 2020-10-01    0.457517\n",
       "3 2020-10-02    0.429869\n",
       "4 2020-10-03    0.433902"
      ]
     },
     "execution_count": 49,
     "metadata": {},
     "output_type": "execute_result"
    }
   ],
   "source": [
    "advanced_proportion_amounts = pd.DataFrame()\n",
    "advanced_proportion_amounts['event_date'] = d['event_date']\n",
    "advanced_proportion_amounts['proportion'] = d_a_sums['amount'] / (d_a_sums['amount'] + d_b_sums['amount'])\n",
    "advanced_proportion_amounts.head()"
   ]
  },
  {
   "cell_type": "code",
   "execution_count": 50,
   "metadata": {},
   "outputs": [
    {
     "data": {
      "image/png": "[encoded data removed]",
      "text/plain": [
       "<Figure size 432x288 with 1 Axes>"
      ]
     },
     "metadata": {
      "needs_background": "light"
     },
     "output_type": "display_data"
    }
   ],
   "source": [
    "advanced_proportion_amounts['proportion'].plot.kde(title='Плотность распределения доли суммарных покупок продвинутого продукта');"
   ]
  },
  {
   "cell_type": "markdown",
   "metadata": {},
   "source": [
    "А вот суммарные покупки по продвинутому продукту составляют практически половину всего нашего оборота."
   ]
  },
  {
   "cell_type": "markdown",
   "metadata": {},
   "source": [
    "### Retention"
   ]
  },
  {
   "cell_type": "markdown",
   "metadata": {},
   "source": [
    "Взглянем, как хорошо пользователи возвращаются к нам (рассмотрим месячный retention). Это будет не очень честно, так как не обязательно, что первая покупка пользователя по нашим данным это реально его первая покупка, но все же:"
   ]
  },
  {
   "cell_type": "code",
   "execution_count": 52,
   "metadata": {},
   "outputs": [],
   "source": [
    "def cohort_period(df):\n",
    "    \"\"\"\n",
    "    Creates column CohortPeriod\n",
    "    \"\"\"\n",
    "    df['CohortPeriod'] = np.arange(len(df))\n",
    "    return df"
   ]
  },
  {
   "cell_type": "code",
   "execution_count": 53,
   "metadata": {},
   "outputs": [],
   "source": [
    "def draw_retantion_diagram(data, width=25, height=20, title=''):\n",
    "    \"\"\"\n",
    "    Сalculates client retention and draws a diagram\n",
    "    \"\"\"\n",
    "    cohorts_group = data.groupby(['cohort', 'event_date_month']).agg({'user_id': pd.Series.nunique})\n",
    "    cohorts_group.rename(columns={'user_id': 'TotalUsers',\n",
    "                            'event_date_month': 'TotalOrders'}, inplace=True)\n",
    "    cohorts_group = cohorts_group.groupby(level=0).apply(cohort_period)\n",
    "    cohorts_group.reset_index(inplace=True)\n",
    "    cohorts_group.set_index(['cohort', 'CohortPeriod'], inplace=True) \n",
    "    cohort_group_size = cohorts_group['TotalUsers'].groupby(level=0).first()\n",
    "    user_retention = cohorts_group['TotalUsers'].unstack(0).divide(cohort_group_size, axis=1)\n",
    "    sns.set(style='white')\n",
    "    plt.figure(figsize=(width, height))\n",
    "    plt.title(f'Cohorts: User Retention {title}', fontsize=16)\n",
    "    sns.heatmap(user_retention.T, mask=user_retention.T.isnull(), annot=True, fmt='.0%');\n",
    "    return user_retention.T"
   ]
  },
  {
   "cell_type": "code",
   "execution_count": 54,
   "metadata": {},
   "outputs": [
    {
     "data": {
      "text/html": [
       "<div>\n",
       "<style scoped>\n",
       "    .dataframe tbody tr th:only-of-type {\n",
       "        vertical-align: middle;\n",
       "    }\n",
       "\n",
       "    .dataframe tbody tr th {\n",
       "        vertical-align: top;\n",
       "    }\n",
       "\n",
       "    .dataframe thead th {\n",
       "        text-align: right;\n",
       "    }\n",
       "</style>\n",
       "<table border=\"1\" class=\"dataframe\">\n",
       "  <thead>\n",
       "    <tr style=\"text-align: right;\">\n",
       "      <th></th>\n",
       "      <th>event_date</th>\n",
       "      <th>user_id</th>\n",
       "      <th>product</th>\n",
       "      <th>amount</th>\n",
       "      <th>transactions</th>\n",
       "      <th>average_user_check</th>\n",
       "      <th>event_date_month</th>\n",
       "    </tr>\n",
       "  </thead>\n",
       "  <tbody>\n",
       "    <tr>\n",
       "      <th>1278181</th>\n",
       "      <td>2020-12-29</td>\n",
       "      <td>9175681616034416929</td>\n",
       "      <td>advanced</td>\n",
       "      <td>679.0</td>\n",
       "      <td>1</td>\n",
       "      <td>679.000000</td>\n",
       "      <td>2020-12</td>\n",
       "    </tr>\n",
       "    <tr>\n",
       "      <th>1278182</th>\n",
       "      <td>2020-12-29</td>\n",
       "      <td>9190225485662720178</td>\n",
       "      <td>advanced</td>\n",
       "      <td>439.0</td>\n",
       "      <td>1</td>\n",
       "      <td>439.000000</td>\n",
       "      <td>2020-12</td>\n",
       "    </tr>\n",
       "    <tr>\n",
       "      <th>1278183</th>\n",
       "      <td>2020-12-29</td>\n",
       "      <td>9192452502210580022</td>\n",
       "      <td>basic</td>\n",
       "      <td>149.0</td>\n",
       "      <td>1</td>\n",
       "      <td>149.000000</td>\n",
       "      <td>2020-12</td>\n",
       "    </tr>\n",
       "    <tr>\n",
       "      <th>1278184</th>\n",
       "      <td>2020-12-29</td>\n",
       "      <td>9202424686732081420</td>\n",
       "      <td>basic</td>\n",
       "      <td>947.0</td>\n",
       "      <td>3</td>\n",
       "      <td>315.666667</td>\n",
       "      <td>2020-12</td>\n",
       "    </tr>\n",
       "    <tr>\n",
       "      <th>1278185</th>\n",
       "      <td>2020-12-29</td>\n",
       "      <td>9219633945080038962</td>\n",
       "      <td>basic</td>\n",
       "      <td>79.0</td>\n",
       "      <td>1</td>\n",
       "      <td>79.000000</td>\n",
       "      <td>2020-12</td>\n",
       "    </tr>\n",
       "  </tbody>\n",
       "</table>\n",
       "</div>"
      ],
      "text/plain": [
       "        event_date              user_id   product  amount  transactions  \\\n",
       "1278181 2020-12-29  9175681616034416929  advanced   679.0             1   \n",
       "1278182 2020-12-29  9190225485662720178  advanced   439.0             1   \n",
       "1278183 2020-12-29  9192452502210580022     basic   149.0             1   \n",
       "1278184 2020-12-29  9202424686732081420     basic   947.0             3   \n",
       "1278185 2020-12-29  9219633945080038962     basic    79.0             1   \n",
       "\n",
       "         average_user_check event_date_month  \n",
       "1278181          679.000000          2020-12  \n",
       "1278182          439.000000          2020-12  \n",
       "1278183          149.000000          2020-12  \n",
       "1278184          315.666667          2020-12  \n",
       "1278185           79.000000          2020-12  "
      ]
     },
     "execution_count": 54,
     "metadata": {},
     "output_type": "execute_result"
    }
   ],
   "source": [
    "df['event_date_month'] = pd.to_datetime(df['event_date'],infer_datetime_format=True)\n",
    "df['event_date_month'] = df['event_date_month'].dt.strftime('%Y-%m') \n",
    "df.tail()"
   ]
  },
  {
   "cell_type": "code",
   "execution_count": 55,
   "metadata": {},
   "outputs": [
    {
     "data": {
      "text/html": [
       "<div>\n",
       "<style scoped>\n",
       "    .dataframe tbody tr th:only-of-type {\n",
       "        vertical-align: middle;\n",
       "    }\n",
       "\n",
       "    .dataframe tbody tr th {\n",
       "        vertical-align: top;\n",
       "    }\n",
       "\n",
       "    .dataframe thead th {\n",
       "        text-align: right;\n",
       "    }\n",
       "</style>\n",
       "<table border=\"1\" class=\"dataframe\">\n",
       "  <thead>\n",
       "    <tr style=\"text-align: right;\">\n",
       "      <th></th>\n",
       "      <th>user_id</th>\n",
       "      <th>cohort</th>\n",
       "    </tr>\n",
       "  </thead>\n",
       "  <tbody>\n",
       "    <tr>\n",
       "      <th>446930</th>\n",
       "      <td>9223341083512664945</td>\n",
       "      <td>2020-12</td>\n",
       "    </tr>\n",
       "    <tr>\n",
       "      <th>446931</th>\n",
       "      <td>9223348554567144516</td>\n",
       "      <td>2020-11</td>\n",
       "    </tr>\n",
       "    <tr>\n",
       "      <th>446932</th>\n",
       "      <td>9223353766165032250</td>\n",
       "      <td>2020-11</td>\n",
       "    </tr>\n",
       "    <tr>\n",
       "      <th>446933</th>\n",
       "      <td>9223361693694781577</td>\n",
       "      <td>2020-12</td>\n",
       "    </tr>\n",
       "    <tr>\n",
       "      <th>446934</th>\n",
       "      <td>9223366785772814828</td>\n",
       "      <td>2020-12</td>\n",
       "    </tr>\n",
       "  </tbody>\n",
       "</table>\n",
       "</div>"
      ],
      "text/plain": [
       "                    user_id   cohort\n",
       "446930  9223341083512664945  2020-12\n",
       "446931  9223348554567144516  2020-11\n",
       "446932  9223353766165032250  2020-11\n",
       "446933  9223361693694781577  2020-12\n",
       "446934  9223366785772814828  2020-12"
      ]
     },
     "execution_count": 55,
     "metadata": {},
     "output_type": "execute_result"
    }
   ],
   "source": [
    "cohorts = df.groupby('user_id', as_index=False)['event_date_month'].min()\n",
    "cohorts.rename(columns = {'event_date_month': 'cohort'}, inplace=True)\n",
    "cohorts.tail()"
   ]
  },
  {
   "cell_type": "code",
   "execution_count": 56,
   "metadata": {},
   "outputs": [
    {
     "data": {
      "text/html": [
       "<div>\n",
       "<style scoped>\n",
       "    .dataframe tbody tr th:only-of-type {\n",
       "        vertical-align: middle;\n",
       "    }\n",
       "\n",
       "    .dataframe tbody tr th {\n",
       "        vertical-align: top;\n",
       "    }\n",
       "\n",
       "    .dataframe thead th {\n",
       "        text-align: right;\n",
       "    }\n",
       "</style>\n",
       "<table border=\"1\" class=\"dataframe\">\n",
       "  <thead>\n",
       "    <tr style=\"text-align: right;\">\n",
       "      <th></th>\n",
       "      <th>event_date</th>\n",
       "      <th>user_id</th>\n",
       "      <th>product</th>\n",
       "      <th>amount</th>\n",
       "      <th>transactions</th>\n",
       "      <th>average_user_check</th>\n",
       "      <th>event_date_month</th>\n",
       "      <th>cohort</th>\n",
       "    </tr>\n",
       "  </thead>\n",
       "  <tbody>\n",
       "    <tr>\n",
       "      <th>0</th>\n",
       "      <td>2020-09-29</td>\n",
       "      <td>40746820883461494</td>\n",
       "      <td>basic</td>\n",
       "      <td>95.0</td>\n",
       "      <td>1</td>\n",
       "      <td>95.0</td>\n",
       "      <td>2020-09</td>\n",
       "      <td>2020-09</td>\n",
       "    </tr>\n",
       "    <tr>\n",
       "      <th>1</th>\n",
       "      <td>2020-09-29</td>\n",
       "      <td>41102328408008828</td>\n",
       "      <td>advanced</td>\n",
       "      <td>279.0</td>\n",
       "      <td>1</td>\n",
       "      <td>279.0</td>\n",
       "      <td>2020-09</td>\n",
       "      <td>2020-09</td>\n",
       "    </tr>\n",
       "    <tr>\n",
       "      <th>2</th>\n",
       "      <td>2020-09-29</td>\n",
       "      <td>63464894315144075</td>\n",
       "      <td>basic</td>\n",
       "      <td>64.0</td>\n",
       "      <td>1</td>\n",
       "      <td>64.0</td>\n",
       "      <td>2020-09</td>\n",
       "      <td>2020-09</td>\n",
       "    </tr>\n",
       "    <tr>\n",
       "      <th>3</th>\n",
       "      <td>2020-09-29</td>\n",
       "      <td>111526991873455341</td>\n",
       "      <td>basic</td>\n",
       "      <td>399.0</td>\n",
       "      <td>1</td>\n",
       "      <td>399.0</td>\n",
       "      <td>2020-09</td>\n",
       "      <td>2020-09</td>\n",
       "    </tr>\n",
       "    <tr>\n",
       "      <th>4</th>\n",
       "      <td>2020-09-29</td>\n",
       "      <td>169522572963414231</td>\n",
       "      <td>basic</td>\n",
       "      <td>199.0</td>\n",
       "      <td>1</td>\n",
       "      <td>199.0</td>\n",
       "      <td>2020-09</td>\n",
       "      <td>2020-09</td>\n",
       "    </tr>\n",
       "  </tbody>\n",
       "</table>\n",
       "</div>"
      ],
      "text/plain": [
       "  event_date             user_id   product  amount  transactions  \\\n",
       "0 2020-09-29   40746820883461494     basic    95.0             1   \n",
       "1 2020-09-29   41102328408008828  advanced   279.0             1   \n",
       "2 2020-09-29   63464894315144075     basic    64.0             1   \n",
       "3 2020-09-29  111526991873455341     basic   399.0             1   \n",
       "4 2020-09-29  169522572963414231     basic   199.0             1   \n",
       "\n",
       "   average_user_check event_date_month   cohort  \n",
       "0                95.0          2020-09  2020-09  \n",
       "1               279.0          2020-09  2020-09  \n",
       "2                64.0          2020-09  2020-09  \n",
       "3               399.0          2020-09  2020-09  \n",
       "4               199.0          2020-09  2020-09  "
      ]
     },
     "execution_count": 56,
     "metadata": {},
     "output_type": "execute_result"
    }
   ],
   "source": [
    "df_merged = pd.merge(df, cohorts, how='left', on='user_id')\n",
    "df_merged.head()"
   ]
  },
  {
   "cell_type": "code",
   "execution_count": 57,
   "metadata": {},
   "outputs": [
    {
     "data": {
      "image/png": "[encoded data removed]",
      "text/plain": [
       "<Figure size 720x720 with 2 Axes>"
      ]
     },
     "metadata": {},
     "output_type": "display_data"
    }
   ],
   "source": [
    "draw_retantion_diagram(df_merged, width=10, height=10, title='All');"
   ]
  },
  {
   "cell_type": "code",
   "execution_count": 58,
   "metadata": {},
   "outputs": [
    {
     "data": {
      "text/html": [
       "<div>\n",
       "<style scoped>\n",
       "    .dataframe tbody tr th:only-of-type {\n",
       "        vertical-align: middle;\n",
       "    }\n",
       "\n",
       "    .dataframe tbody tr th {\n",
       "        vertical-align: top;\n",
       "    }\n",
       "\n",
       "    .dataframe thead th {\n",
       "        text-align: right;\n",
       "    }\n",
       "</style>\n",
       "<table border=\"1\" class=\"dataframe\">\n",
       "  <thead>\n",
       "    <tr style=\"text-align: right;\">\n",
       "      <th></th>\n",
       "      <th>event_date</th>\n",
       "      <th>user_id</th>\n",
       "      <th>product</th>\n",
       "      <th>amount</th>\n",
       "      <th>transactions</th>\n",
       "      <th>average_user_check</th>\n",
       "    </tr>\n",
       "    <tr>\n",
       "      <th>event_date_month</th>\n",
       "      <th></th>\n",
       "      <th></th>\n",
       "      <th></th>\n",
       "      <th></th>\n",
       "      <th></th>\n",
       "      <th></th>\n",
       "    </tr>\n",
       "  </thead>\n",
       "  <tbody>\n",
       "    <tr>\n",
       "      <th>2020-09</th>\n",
       "      <td>26642</td>\n",
       "      <td>26642</td>\n",
       "      <td>26642</td>\n",
       "      <td>26642</td>\n",
       "      <td>26642</td>\n",
       "      <td>26642</td>\n",
       "    </tr>\n",
       "    <tr>\n",
       "      <th>2020-10</th>\n",
       "      <td>395315</td>\n",
       "      <td>395315</td>\n",
       "      <td>395315</td>\n",
       "      <td>395315</td>\n",
       "      <td>395315</td>\n",
       "      <td>395315</td>\n",
       "    </tr>\n",
       "    <tr>\n",
       "      <th>2020-11</th>\n",
       "      <td>412936</td>\n",
       "      <td>412936</td>\n",
       "      <td>412936</td>\n",
       "      <td>412936</td>\n",
       "      <td>412936</td>\n",
       "      <td>412936</td>\n",
       "    </tr>\n",
       "    <tr>\n",
       "      <th>2020-12</th>\n",
       "      <td>443293</td>\n",
       "      <td>443293</td>\n",
       "      <td>443293</td>\n",
       "      <td>443293</td>\n",
       "      <td>443293</td>\n",
       "      <td>443293</td>\n",
       "    </tr>\n",
       "  </tbody>\n",
       "</table>\n",
       "</div>"
      ],
      "text/plain": [
       "                  event_date  user_id  product  amount  transactions  \\\n",
       "event_date_month                                                       \n",
       "2020-09                26642    26642    26642   26642         26642   \n",
       "2020-10               395315   395315   395315  395315        395315   \n",
       "2020-11               412936   412936   412936  412936        412936   \n",
       "2020-12               443293   443293   443293  443293        443293   \n",
       "\n",
       "                  average_user_check  \n",
       "event_date_month                      \n",
       "2020-09                        26642  \n",
       "2020-10                       395315  \n",
       "2020-11                       412936  \n",
       "2020-12                       443293  "
      ]
     },
     "execution_count": 58,
     "metadata": {},
     "output_type": "execute_result"
    }
   ],
   "source": [
    "df.groupby('event_date_month').count()"
   ]
  },
  {
   "cell_type": "code",
   "execution_count": 59,
   "metadata": {},
   "outputs": [
    {
     "data": {
      "text/html": [
       "<div>\n",
       "<style scoped>\n",
       "    .dataframe tbody tr th:only-of-type {\n",
       "        vertical-align: middle;\n",
       "    }\n",
       "\n",
       "    .dataframe tbody tr th {\n",
       "        vertical-align: top;\n",
       "    }\n",
       "\n",
       "    .dataframe thead th {\n",
       "        text-align: right;\n",
       "    }\n",
       "</style>\n",
       "<table border=\"1\" class=\"dataframe\">\n",
       "  <thead>\n",
       "    <tr style=\"text-align: right;\">\n",
       "      <th></th>\n",
       "      <th>event_date</th>\n",
       "      <th>user_id</th>\n",
       "      <th>product</th>\n",
       "      <th>amount</th>\n",
       "      <th>transactions</th>\n",
       "      <th>average_user_check</th>\n",
       "      <th>event_date_month</th>\n",
       "    </tr>\n",
       "    <tr>\n",
       "      <th>cohort</th>\n",
       "      <th></th>\n",
       "      <th></th>\n",
       "      <th></th>\n",
       "      <th></th>\n",
       "      <th></th>\n",
       "      <th></th>\n",
       "      <th></th>\n",
       "    </tr>\n",
       "  </thead>\n",
       "  <tbody>\n",
       "    <tr>\n",
       "      <th>2020-09</th>\n",
       "      <td>273180</td>\n",
       "      <td>273180</td>\n",
       "      <td>273180</td>\n",
       "      <td>273180</td>\n",
       "      <td>273180</td>\n",
       "      <td>273180</td>\n",
       "      <td>273180</td>\n",
       "    </tr>\n",
       "    <tr>\n",
       "      <th>2020-10</th>\n",
       "      <td>586271</td>\n",
       "      <td>586271</td>\n",
       "      <td>586271</td>\n",
       "      <td>586271</td>\n",
       "      <td>586271</td>\n",
       "      <td>586271</td>\n",
       "      <td>586271</td>\n",
       "    </tr>\n",
       "    <tr>\n",
       "      <th>2020-11</th>\n",
       "      <td>249811</td>\n",
       "      <td>249811</td>\n",
       "      <td>249811</td>\n",
       "      <td>249811</td>\n",
       "      <td>249811</td>\n",
       "      <td>249811</td>\n",
       "      <td>249811</td>\n",
       "    </tr>\n",
       "    <tr>\n",
       "      <th>2020-12</th>\n",
       "      <td>168924</td>\n",
       "      <td>168924</td>\n",
       "      <td>168924</td>\n",
       "      <td>168924</td>\n",
       "      <td>168924</td>\n",
       "      <td>168924</td>\n",
       "      <td>168924</td>\n",
       "    </tr>\n",
       "  </tbody>\n",
       "</table>\n",
       "</div>"
      ],
      "text/plain": [
       "         event_date  user_id  product  amount  transactions  \\\n",
       "cohort                                                        \n",
       "2020-09      273180   273180   273180  273180        273180   \n",
       "2020-10      586271   586271   586271  586271        586271   \n",
       "2020-11      249811   249811   249811  249811        249811   \n",
       "2020-12      168924   168924   168924  168924        168924   \n",
       "\n",
       "         average_user_check  event_date_month  \n",
       "cohort                                         \n",
       "2020-09              273180            273180  \n",
       "2020-10              586271            586271  \n",
       "2020-11              249811            249811  \n",
       "2020-12              168924            168924  "
      ]
     },
     "execution_count": 59,
     "metadata": {},
     "output_type": "execute_result"
    }
   ],
   "source": [
    "df_merged.groupby('cohort').count()"
   ]
  },
  {
   "cell_type": "code",
   "execution_count": 60,
   "metadata": {},
   "outputs": [
    {
     "data": {
      "text/plain": [
       "446935"
      ]
     },
     "execution_count": 60,
     "metadata": {},
     "output_type": "execute_result"
    }
   ],
   "source": [
    "len(df.user_id.unique())"
   ]
  },
  {
   "cell_type": "code",
   "execution_count": 61,
   "metadata": {},
   "outputs": [
    {
     "data": {
      "text/plain": [
       "1278186"
      ]
     },
     "execution_count": 61,
     "metadata": {},
     "output_type": "execute_result"
    }
   ],
   "source": [
    "len(df.user_id)"
   ]
  },
  {
   "cell_type": "code",
   "execution_count": 62,
   "metadata": {},
   "outputs": [
    {
     "data": {
      "text/plain": [
       "1278186"
      ]
     },
     "execution_count": 62,
     "metadata": {},
     "output_type": "execute_result"
    }
   ],
   "source": [
    "273180+586271+249811+168924"
   ]
  },
  {
   "cell_type": "code",
   "execution_count": 63,
   "metadata": {},
   "outputs": [
    {
     "data": {
      "text/plain": [
       "27.527048376258993"
      ]
     },
     "execution_count": 63,
     "metadata": {},
     "output_type": "execute_result"
    }
   ],
   "source": [
    "#Средневзвешенный retention\n",
    "(26642*61 + 395315*30 + 412936*23)/(1278186-443293)"
   ]
  },
  {
   "cell_type": "markdown",
   "metadata": {},
   "source": [
    "Таким образом, имеем пратически 30% возвращаемость на следующий месяц - для транзакционного бизнеса это хороший показатель"
   ]
  },
  {
   "cell_type": "markdown",
   "metadata": {},
   "source": [
    "### Статистики"
   ]
  },
  {
   "cell_type": "code",
   "execution_count": 65,
   "metadata": {},
   "outputs": [
    {
     "data": {
      "text/html": [
       "<div>\n",
       "<style scoped>\n",
       "    .dataframe tbody tr th:only-of-type {\n",
       "        vertical-align: middle;\n",
       "    }\n",
       "\n",
       "    .dataframe tbody tr th {\n",
       "        vertical-align: top;\n",
       "    }\n",
       "\n",
       "    .dataframe thead th {\n",
       "        text-align: right;\n",
       "    }\n",
       "</style>\n",
       "<table border=\"1\" class=\"dataframe\">\n",
       "  <thead>\n",
       "    <tr style=\"text-align: right;\">\n",
       "      <th></th>\n",
       "      <th>amount</th>\n",
       "      <th>transactions</th>\n",
       "      <th>average_user_check</th>\n",
       "    </tr>\n",
       "  </thead>\n",
       "  <tbody>\n",
       "    <tr>\n",
       "      <th>count</th>\n",
       "      <td>92.000000</td>\n",
       "      <td>92.000000</td>\n",
       "      <td>92.000000</td>\n",
       "    </tr>\n",
       "    <tr>\n",
       "      <th>mean</th>\n",
       "      <td>238.119480</td>\n",
       "      <td>1.290673</td>\n",
       "      <td>185.765250</td>\n",
       "    </tr>\n",
       "    <tr>\n",
       "      <th>std</th>\n",
       "      <td>14.484433</td>\n",
       "      <td>0.022138</td>\n",
       "      <td>8.482832</td>\n",
       "    </tr>\n",
       "    <tr>\n",
       "      <th>min</th>\n",
       "      <td>209.426332</td>\n",
       "      <td>1.247277</td>\n",
       "      <td>168.997055</td>\n",
       "    </tr>\n",
       "    <tr>\n",
       "      <th>25%</th>\n",
       "      <td>223.691838</td>\n",
       "      <td>1.274199</td>\n",
       "      <td>176.064589</td>\n",
       "    </tr>\n",
       "    <tr>\n",
       "      <th>50%</th>\n",
       "      <td>239.266908</td>\n",
       "      <td>1.291465</td>\n",
       "      <td>188.222479</td>\n",
       "    </tr>\n",
       "    <tr>\n",
       "      <th>75%</th>\n",
       "      <td>249.827530</td>\n",
       "      <td>1.306771</td>\n",
       "      <td>192.315342</td>\n",
       "    </tr>\n",
       "    <tr>\n",
       "      <th>max</th>\n",
       "      <td>265.511771</td>\n",
       "      <td>1.341576</td>\n",
       "      <td>200.297201</td>\n",
       "    </tr>\n",
       "  </tbody>\n",
       "</table>\n",
       "</div>"
      ],
      "text/plain": [
       "           amount  transactions  average_user_check\n",
       "count   92.000000     92.000000           92.000000\n",
       "mean   238.119480      1.290673          185.765250\n",
       "std     14.484433      0.022138            8.482832\n",
       "min    209.426332      1.247277          168.997055\n",
       "25%    223.691838      1.274199          176.064589\n",
       "50%    239.266908      1.291465          188.222479\n",
       "75%    249.827530      1.306771          192.315342\n",
       "max    265.511771      1.341576          200.297201"
      ]
     },
     "execution_count": 65,
     "metadata": {},
     "output_type": "execute_result"
    }
   ],
   "source": [
    "d.describe()"
   ]
  },
  {
   "cell_type": "code",
   "execution_count": 66,
   "metadata": {},
   "outputs": [
    {
     "data": {
      "text/html": [
       "<div>\n",
       "<style scoped>\n",
       "    .dataframe tbody tr th:only-of-type {\n",
       "        vertical-align: middle;\n",
       "    }\n",
       "\n",
       "    .dataframe tbody tr th {\n",
       "        vertical-align: top;\n",
       "    }\n",
       "\n",
       "    .dataframe thead th {\n",
       "        text-align: right;\n",
       "    }\n",
       "</style>\n",
       "<table border=\"1\" class=\"dataframe\">\n",
       "  <thead>\n",
       "    <tr style=\"text-align: right;\">\n",
       "      <th></th>\n",
       "      <th>amount</th>\n",
       "      <th>transactions</th>\n",
       "      <th>average_user_check</th>\n",
       "    </tr>\n",
       "  </thead>\n",
       "  <tbody>\n",
       "    <tr>\n",
       "      <th>count</th>\n",
       "      <td>92.000000</td>\n",
       "      <td>92.000000</td>\n",
       "      <td>92.000000</td>\n",
       "    </tr>\n",
       "    <tr>\n",
       "      <th>mean</th>\n",
       "      <td>163.273605</td>\n",
       "      <td>1.294849</td>\n",
       "      <td>127.379230</td>\n",
       "    </tr>\n",
       "    <tr>\n",
       "      <th>std</th>\n",
       "      <td>9.375113</td>\n",
       "      <td>0.022972</td>\n",
       "      <td>5.263459</td>\n",
       "    </tr>\n",
       "    <tr>\n",
       "      <th>min</th>\n",
       "      <td>146.879016</td>\n",
       "      <td>1.252591</td>\n",
       "      <td>116.750139</td>\n",
       "    </tr>\n",
       "    <tr>\n",
       "      <th>25%</th>\n",
       "      <td>153.704066</td>\n",
       "      <td>1.278688</td>\n",
       "      <td>122.396511</td>\n",
       "    </tr>\n",
       "    <tr>\n",
       "      <th>50%</th>\n",
       "      <td>165.007902</td>\n",
       "      <td>1.294068</td>\n",
       "      <td>128.712890</td>\n",
       "    </tr>\n",
       "    <tr>\n",
       "      <th>75%</th>\n",
       "      <td>168.471508</td>\n",
       "      <td>1.311463</td>\n",
       "      <td>130.767378</td>\n",
       "    </tr>\n",
       "    <tr>\n",
       "      <th>max</th>\n",
       "      <td>180.582095</td>\n",
       "      <td>1.347091</td>\n",
       "      <td>138.115947</td>\n",
       "    </tr>\n",
       "  </tbody>\n",
       "</table>\n",
       "</div>"
      ],
      "text/plain": [
       "           amount  transactions  average_user_check\n",
       "count   92.000000     92.000000           92.000000\n",
       "mean   163.273605      1.294849          127.379230\n",
       "std      9.375113      0.022972            5.263459\n",
       "min    146.879016      1.252591          116.750139\n",
       "25%    153.704066      1.278688          122.396511\n",
       "50%    165.007902      1.294068          128.712890\n",
       "75%    168.471508      1.311463          130.767378\n",
       "max    180.582095      1.347091          138.115947"
      ]
     },
     "execution_count": 66,
     "metadata": {},
     "output_type": "execute_result"
    }
   ],
   "source": [
    "d_b.describe()"
   ]
  },
  {
   "cell_type": "code",
   "execution_count": 67,
   "metadata": {},
   "outputs": [
    {
     "data": {
      "text/plain": [
       "count       92.000000\n",
       "mean     10765.521739\n",
       "std       1256.163298\n",
       "min       8067.000000\n",
       "25%       9988.500000\n",
       "50%      10657.000000\n",
       "75%      11679.500000\n",
       "max      13702.000000\n",
       "Name: user_id, dtype: float64"
      ]
     },
     "execution_count": 67,
     "metadata": {},
     "output_type": "execute_result"
    }
   ],
   "source": [
    "d_b_counts['user_id'].describe()"
   ]
  },
  {
   "cell_type": "code",
   "execution_count": 68,
   "metadata": {},
   "outputs": [
    {
     "data": {
      "text/html": [
       "<div>\n",
       "<style scoped>\n",
       "    .dataframe tbody tr th:only-of-type {\n",
       "        vertical-align: middle;\n",
       "    }\n",
       "\n",
       "    .dataframe tbody tr th {\n",
       "        vertical-align: top;\n",
       "    }\n",
       "\n",
       "    .dataframe thead th {\n",
       "        text-align: right;\n",
       "    }\n",
       "</style>\n",
       "<table border=\"1\" class=\"dataframe\">\n",
       "  <thead>\n",
       "    <tr style=\"text-align: right;\">\n",
       "      <th></th>\n",
       "      <th>amount</th>\n",
       "      <th>transactions</th>\n",
       "      <th>average_user_check</th>\n",
       "    </tr>\n",
       "  </thead>\n",
       "  <tbody>\n",
       "    <tr>\n",
       "      <th>count</th>\n",
       "      <td>92.000000</td>\n",
       "      <td>92.000000</td>\n",
       "      <td>92.000000</td>\n",
       "    </tr>\n",
       "    <tr>\n",
       "      <th>mean</th>\n",
       "      <td>495.851239</td>\n",
       "      <td>1.276190</td>\n",
       "      <td>386.832121</td>\n",
       "    </tr>\n",
       "    <tr>\n",
       "      <th>std</th>\n",
       "      <td>33.409616</td>\n",
       "      <td>0.030316</td>\n",
       "      <td>20.146156</td>\n",
       "    </tr>\n",
       "    <tr>\n",
       "      <th>min</th>\n",
       "      <td>428.135783</td>\n",
       "      <td>1.215087</td>\n",
       "      <td>342.887822</td>\n",
       "    </tr>\n",
       "    <tr>\n",
       "      <th>25%</th>\n",
       "      <td>472.543390</td>\n",
       "      <td>1.256293</td>\n",
       "      <td>372.044092</td>\n",
       "    </tr>\n",
       "    <tr>\n",
       "      <th>50%</th>\n",
       "      <td>497.240459</td>\n",
       "      <td>1.271716</td>\n",
       "      <td>387.492803</td>\n",
       "    </tr>\n",
       "    <tr>\n",
       "      <th>75%</th>\n",
       "      <td>524.626224</td>\n",
       "      <td>1.297982</td>\n",
       "      <td>402.088547</td>\n",
       "    </tr>\n",
       "    <tr>\n",
       "      <th>max</th>\n",
       "      <td>564.571806</td>\n",
       "      <td>1.360403</td>\n",
       "      <td>424.074297</td>\n",
       "    </tr>\n",
       "  </tbody>\n",
       "</table>\n",
       "</div>"
      ],
      "text/plain": [
       "           amount  transactions  average_user_check\n",
       "count   92.000000     92.000000           92.000000\n",
       "mean   495.851239      1.276190          386.832121\n",
       "std     33.409616      0.030316           20.146156\n",
       "min    428.135783      1.215087          342.887822\n",
       "25%    472.543390      1.256293          372.044092\n",
       "50%    497.240459      1.271716          387.492803\n",
       "75%    524.626224      1.297982          402.088547\n",
       "max    564.571806      1.360403          424.074297"
      ]
     },
     "execution_count": 68,
     "metadata": {},
     "output_type": "execute_result"
    }
   ],
   "source": [
    "d_a.describe()"
   ]
  },
  {
   "cell_type": "code",
   "execution_count": 69,
   "metadata": {},
   "outputs": [
    {
     "data": {
      "text/plain": [
       "count      92.000000\n",
       "mean     3127.804348\n",
       "std       395.719382\n",
       "min      2333.000000\n",
       "25%      2929.750000\n",
       "50%      3100.500000\n",
       "75%      3436.000000\n",
       "max      4153.000000\n",
       "Name: user_id, dtype: float64"
      ]
     },
     "execution_count": 69,
     "metadata": {},
     "output_type": "execute_result"
    }
   ],
   "source": [
    "d_a_counts['user_id'].describe()"
   ]
  },
  {
   "cell_type": "code",
   "execution_count": 70,
   "metadata": {},
   "outputs": [
    {
     "data": {
      "text/plain": [
       "count    92.000000\n",
       "mean      0.224974\n",
       "std       0.005688\n",
       "min       0.211621\n",
       "25%       0.220883\n",
       "50%       0.225203\n",
       "75%       0.229543\n",
       "max       0.240961\n",
       "Name: proportion, dtype: float64"
      ]
     },
     "execution_count": 70,
     "metadata": {},
     "output_type": "execute_result"
    }
   ],
   "source": [
    "advanced_proportion_users['proportion'].describe()"
   ]
  },
  {
   "cell_type": "code",
   "execution_count": 71,
   "metadata": {},
   "outputs": [
    {
     "data": {
      "text/html": [
       "<div>\n",
       "<style scoped>\n",
       "    .dataframe tbody tr th:only-of-type {\n",
       "        vertical-align: middle;\n",
       "    }\n",
       "\n",
       "    .dataframe tbody tr th {\n",
       "        vertical-align: top;\n",
       "    }\n",
       "\n",
       "    .dataframe thead th {\n",
       "        text-align: right;\n",
       "    }\n",
       "</style>\n",
       "<table border=\"1\" class=\"dataframe\">\n",
       "  <thead>\n",
       "    <tr style=\"text-align: right;\">\n",
       "      <th></th>\n",
       "      <th>amount</th>\n",
       "      <th>transactions</th>\n",
       "      <th>average_user_check</th>\n",
       "    </tr>\n",
       "  </thead>\n",
       "  <tbody>\n",
       "    <tr>\n",
       "      <th>count</th>\n",
       "      <td>4.000000</td>\n",
       "      <td>4.000000</td>\n",
       "      <td>4.000000</td>\n",
       "    </tr>\n",
       "    <tr>\n",
       "      <th>mean</th>\n",
       "      <td>450.624597</td>\n",
       "      <td>2.431036</td>\n",
       "      <td>351.988858</td>\n",
       "    </tr>\n",
       "    <tr>\n",
       "      <th>std</th>\n",
       "      <td>127.288584</td>\n",
       "      <td>0.690600</td>\n",
       "      <td>96.634338</td>\n",
       "    </tr>\n",
       "    <tr>\n",
       "      <th>min</th>\n",
       "      <td>260.777732</td>\n",
       "      <td>1.397139</td>\n",
       "      <td>207.334092</td>\n",
       "    </tr>\n",
       "    <tr>\n",
       "      <th>25%</th>\n",
       "      <td>436.377917</td>\n",
       "      <td>2.386093</td>\n",
       "      <td>345.435850</td>\n",
       "    </tr>\n",
       "    <tr>\n",
       "      <th>50%</th>\n",
       "      <td>508.032913</td>\n",
       "      <td>2.756486</td>\n",
       "      <td>397.927598</td>\n",
       "    </tr>\n",
       "    <tr>\n",
       "      <th>75%</th>\n",
       "      <td>522.279593</td>\n",
       "      <td>2.801429</td>\n",
       "      <td>404.480606</td>\n",
       "    </tr>\n",
       "    <tr>\n",
       "      <th>max</th>\n",
       "      <td>525.654830</td>\n",
       "      <td>2.814033</td>\n",
       "      <td>404.766144</td>\n",
       "    </tr>\n",
       "  </tbody>\n",
       "</table>\n",
       "</div>"
      ],
      "text/plain": [
       "           amount  transactions  average_user_check\n",
       "count    4.000000      4.000000            4.000000\n",
       "mean   450.624597      2.431036          351.988858\n",
       "std    127.288584      0.690600           96.634338\n",
       "min    260.777732      1.397139          207.334092\n",
       "25%    436.377917      2.386093          345.435850\n",
       "50%    508.032913      2.756486          397.927598\n",
       "75%    522.279593      2.801429          404.480606\n",
       "max    525.654830      2.814033          404.766144"
      ]
     },
     "execution_count": 71,
     "metadata": {},
     "output_type": "execute_result"
    }
   ],
   "source": [
    "d_month.describe()"
   ]
  },
  {
   "cell_type": "markdown",
   "metadata": {},
   "source": [
    "Еще раз убеждаемся, что аномальных значений в наших данных нет."
   ]
  },
  {
   "cell_type": "markdown",
   "metadata": {},
   "source": [
    "### 2. Формализация гипотез"
   ]
  },
  {
   "cell_type": "markdown",
   "metadata": {},
   "source": [
    "**Гипотеза 1**: *Дополнительное информирование об эффективности услуг будет стимулировать их покупку*.  \n",
    "\n",
    "Метрики и статистики (так как мы собираемся далее применять t-test, то в качестве статистик будем использовать средние) от, которых ждем изменений:  \n",
    "\n",
    "  * **метрика**: *количество активных пользователей (DAU, MAU)*.  **статистика**: среднее количество активных пользователей (дневное/месячное) в тестовой и контрольной группе за время эксперимента. Ожидаем, что это число будет расти, так как за счет информирования мы можем привлечь новых пользователей (узнают о нас за счет \"сарафанного радио\") или уже успевших уйти (вспомнят о нас или заинтересуются услугой); \n",
    "  * **метрика**: *retention*. **статистика**: среднее значение retention (месячный) в тестовой и контрольной группе за время эксперимента. Ожидаем, что будет расти, так как будем напоминать нашим пользователям о себе, тем самым увеличивая вероятность повторных покупок. Но для проведения эксперимента у нас слишком малый отрезок времени (мало данных), к тому же такой эксперимент будет очень долгим -> далее рассматривать retention не будем;\n",
    "  * **метрика**: *количество транзакций*, **статистика**: среднее число транзакций пользователей в тестовой и контрольной группе за время проведения теста. Ждем от них увеличения, так как информированный пользователь, скорее всего, совершит покупку с большей вероятностью. Но смотреть только на транзакции нельзя, так как возможна ситуация, когда их число растет, но эти покупки малого размера -> бизнесу плохо, несмотря на положительное изменение этой метрики;\n",
    "  * **метрика**: *средний чек*, **статистика**: среднее значение средних чеков пользователей в тестовой и контрольной группе за время проведения теста. Смотрим на эту метрику, чтобы решить проблему транзакций - ожидаем, что она может упасть (хотим чтобы ее падение было меньше роста числа транзакций, а если будет рост - то вообще ок);\n",
    "  * **метрика**: *суммарные покупки*, **статистика**: среднее значение суммарных покупок пользователей в тестовой и контрольной группе за время проведения теста. Кажется, что можем смотреть на нее вместо одновременного отслеживания среднего чека и числа транзакций - если суммарные покупки растут, то это для нас хорошо (при этом нам неважно, возросли ли они за счет повышения частотности транзакций или за счет более крупных, но редких покупок). Ожидаем рост. Но и падение этой метрики не всегда плохо, ведь она может упасть за чет прихода новых пользователей, которые покупают в среднем меньше, но в совокупности приносят больше.\n",
    "  "
   ]
  },
  {
   "cell_type": "markdown",
   "metadata": {},
   "source": [
    "Ожидаемое изменение метрик в процентах.  \n",
    "Так как в качестве информирования чаще всего используются смс\\email и прочие рассылки, то будем коцентрироваться на них: \n",
    "  * **метрика**: *количество активных пользователей (DAU, MAU)*. В среднем письма открывают в 15-20% случаев ([источник](https://www.statista.com/statistics/625161/marketing-e-mail-open-rates-industry/)) - допустим 20%. Предположим, что мы можем взаимодействовать с 80% наших клиентов + у нас качественная рассылка и половина пользователей перейдет по ссылке, а также еще половина совершит целевое действие (совершит покупку): $20*0.8*0.5*0.5 = 4$% - примерно столько людей мы сможем привлечь. Вряд ли мы мы будем рассылать письма каждый день, поэтому значимого изменения DAU ждать не стоит, но MAU как раз может увеличиться на эти 4%. Если раньше не проводили подобных мероприятий - тогда будем наблюдать изначальный всплеск, который впоследствии будет затухать (увидим, если будем проводить эксперимент довольно долго);\n",
    "  * **метрика**: *количество транзакций*. По данным имеем 2.43 транзакции в среднем за месяц. Благодаря информированию, 4% пользователей будет совершать как минимум на 1 покупку больше (на 40% больше среднего). Но в совокупности этот эффект будет мал: $3.43*0.04 + 2.43*0.96 = 2.47$ -> ожидаемый эффект: 1.6% - округлим до 2%;\n",
    "  * **метрика**: *средний чек*. Сильно зависит от того, какая стоимость у услуг, про которые мы даем дополнительную информацию (если они дорогие, то повышаем средний чек, если дешевые - понижаем). Предположим, что услуги одинаковы по стоимости -> значимого изменения этой метрики ждать не будем;\n",
    "  * **метрика**: *суммарные покупки*. Так как зависит от среднего чека и среднего числа транзакций за период, а средний чек не должен меняться, то ждем эффекта аналогичного эффекту транзакций (2%)."
   ]
  },
  {
   "cell_type": "markdown",
   "metadata": {},
   "source": [
    "**Гипотеза 2**: *Повышение цены базового продукта должно стимулировать покупку продвинутого продукта*.  \n",
    "\n",
    "То есть мы предполагаем, что, в идеальном случае, все пользователи, которые использовали базовый продукт переедут на продвинутый -> в пользователях мы не потеряем, а остальные метрики возрастут. Но такого не бывает...  \n",
    "Метрики и статистики от, которых ждем изменений:\n",
    "  * **метрика**: *количество активных пользователей (DAU, MAU)*. **статистика**: среднее количество активных пользователей (дневное/месячное) в тестовой и контрольной группе за время эксперимента. Увеличение цены - негатив для пользователя, они могут от нас уходить (не совершать покупки, которые сделали бы по прежней цене) - ожидаем падение (а оно зависит от размера увеличение цены, если поднимаем несильно, то пользователи могут и не заметить);\n",
    "  * **метрика**: *количество транзакций*, **статистика**: среднее число транзакций пользователей продвинутого продукта в тестовой и контрольной группе за время проведения теста. Ожидаем рост. Тут мы уже не можем смотреть на средние тарнзакции по всем пользователям, так как наиболее вероятно, что пользователи будут перетекать от базового продукта к продвинутому (совершать больше транзакций в продвинутом продукте, и меньше в базовом), но мы этого не увидим, так как среднее не изменится. Хорошо бы еще смотреть на те же метрики по базовому продукту (следить за тем, чтобы они не упали слишком сильно, т.е. выигрыш для бизнеса за счет роста метрик продвинутого продукта был больше проигрыша от падения метрик базового продукта);\n",
    "  * **метрика**: *средний чек*, **статистика**: среднее значение средних чеков пользователей продвинутого продукта в тестовой и контрольной группе за время проведения теста. Ожидаем падение. По тем же причинам, что и для транзакций необходимо смотреть метрики именно для продвинутого продукта. Схожая проблема - если пользователи начнут совершать мелкие покупки продвинутого продукта вместо объемных покупок базового продукта, то метрика упадет, хотя пользователи переходят на более дорогую модель, что хорошо -> не подходит для проверки данной гипотезы, не будем далее ее рассматривать;\n",
    "  * **метрика**: *суммарные покупки*, **статистика**: среднее значение суммарных покупок пользователей продвинутого продукта в тестовой и контрольной группе за время проведения теста. Также ожидаем рост. По тем же причинам, что и для транзакций и среднего чека необходимо смотреть метрики именно для продвинутого продукта;\n",
    "  * **метрика**: *доля продвинутого продукта*. **статистика**: среднее значение доли продвинутого продукта за каждый день эксперимента. Предполагаем, что все доли по продвинутому продукту (пользователей, транзакций, суммарных покупок) будут расти за счет перетока \"базовых\" пользователей. Однако, эта метрика может ввести в заблуждение - если вдруг мы повысим цены настолько, что пользователи базового продукта просто уйдут от нас (самый худший вариант), то все эти доли будут равны 1 -> далее не будем рассматривать их;\n",
    "  * **метрика**: *retention*. **статистика**: среднее значение retention (месячный) для пользователей продвинутого продукта в тестовой и контрольной группе за время эксперимента. Предполагаем, что он будет расти, а retention базового продукта будет падать -> поэтому рассматриваем именно по продвинутому продукту. Но для проведения эксперимента у нас слишком малый отрезок времени (мало данных для эксперимента), к тому же такой эксперимент будет очень долгим -> далее рассматривать retention не будем.\n",
    "  "
   ]
  },
  {
   "cell_type": "markdown",
   "metadata": {},
   "source": [
    "Ожидаемое изменение метрик в процентах:\n",
    "  * **метрика**: *количество активных пользователей (DAU, MAU)*. Данное изменение крайне сильно зависит от размера поднятия цен (чем больше оно будет, тем больше уйдет от нас клиентов). Допустим, что изменение может быть достаточно велико и от нас уйдут 10% пользователей (при этом это будут DAU\\MAU базового продукта)\n",
    "  * **метрика**: *количество транзакций*. Если от нас уходит 10% пользователей базового продукта, то для того чтобы покрыть убытки нам необходимо, чтобы среднее число транзакций в продвинутом продукте возросло на 10/3 ~ 3.3% (так как сумма покупок в продвинутом продукте примерно в 3 раза больше, чем в базовом). Это при сохранении значения DAU/MAU продвинутого продукта (а оно увеличится) и среднего чека продвинутого продукта (от перехода базовых пользователей может упасть, но мы только выиграем от перехода на более дорогую модель) -> нам нужен даже меньший эффект, чтобы окупить потери. Но кажется логичным, что можем рассчитывать на более заметный эффект - остановимся на 5%;\n",
    "  * **метрика**: *средний чек*. По схожей с транзакциями логике, будем ждать 5% падение среднего чека по продвинутому продукту.;\n",
    "  * **метрика**: *суммарные покупки*. Так как данная метрика учитывает в себе и транзакции и средний чек, то нас интересует гораздо меньший положительный эффект - остановимся на 3% ."
   ]
  },
  {
   "cell_type": "markdown",
   "metadata": {},
   "source": [
    "### Предсказание минимально детектируемого эффекта "
   ]
  },
  {
   "cell_type": "markdown",
   "metadata": {},
   "source": [
    "**Гипотеза 1**: *Дополнительное информирование об эффективности услуг будет стимулировать их покупку*.  \n",
    "\n",
    "В качестве метрики эксперимента сначала рассмотрим суммарные покупки, так как эта метрика объединяет в себе транзакции и средний чек, что позволяет следить только за ней. Так как эксперимент не несет для нас угрозы (не предполагаем риска при его проведении), то выберем стандартные значения уровня значимости и мощности: $\\alpha=0.05, 1-\\beta=0.8$, к тому же пользователей на тест и контроль можно разбить 50 на 50. Эффект от рассылок мы будем получать не сразу, а спустя некоторый временной лаг (пока пользователь получит сообщение, пока его прочитает, пока соберется купить и наконец купит), поэтому тест целесообразно проводить долго - для начала рассмотрим весь квартал (91 день). Заметим, что в наших данных имеется недельная сезонность - тест нужно проводить по неделям, иначе нельзя будет сделать общих выводов.   \n",
    "Определим MDE в таком случае - будем подбирать его используя *tt_ind_solve_power* до тех пор пока соотношение групп не станет близким к 1:"
   ]
  },
  {
   "cell_type": "code",
   "execution_count": 405,
   "metadata": {},
   "outputs": [],
   "source": [
    "def choose_date(data, start_date, delta, share): \n",
    "    tmp = data[(data.event_date>=start_date)&(data.event_date<=start_date+datetime.timedelta(days=delta))]\n",
    "    tmp=tmp.groupby(['user_id']).sum().reset_index()\n",
    "    x = tmp[(tmp.user_id)%100<=100*share].reset_index()\n",
    "    return x"
   ]
  },
  {
   "cell_type": "code",
   "execution_count": 492,
   "metadata": {},
   "outputs": [],
   "source": [
    "def calculate_mde(mean, std, alpha, power, n):\n",
    "    effects = np.linspace(0.5, 0.001, num=1000)\n",
    "    volums = []\n",
    "    for i, effect in enumerate(effects):\n",
    "        effect_size = (mean/std) * effect\n",
    "        volums.append(tt_ind_solve_power(effect_size=effect_size, alpha=alpha, power=power, nobs1=None, ratio=1, alternative = 'two-sided')/n)\n",
    "        if  volums[i] <= 1:\n",
    "            mde = effect\n",
    "    return mde, effects, volums"
   ]
  },
  {
   "cell_type": "code",
   "execution_count": 493,
   "metadata": {},
   "outputs": [
    {
     "data": {
      "text/plain": [
       "0.0514494494494494"
      ]
     },
     "execution_count": 493,
     "metadata": {},
     "output_type": "execute_result"
    }
   ],
   "source": [
    "x1 = choose_date(df, datetime.datetime(2020, 9, 29, 0, 0), 91, 0.5) #получаем необходимую подвыборку\n",
    "mean = x1.amount.mean()\n",
    "std = x1.amount.std()\n",
    "alpha = 0.05\n",
    "power = 0.8\n",
    "mde, effects, volums = calculate_mde(mean=mean, std=std, alpha=alpha, power=power, n=x1.shape[0])\n",
    "mde"
   ]
  },
  {
   "cell_type": "markdown",
   "metadata": {},
   "source": [
    "Сама зависимость выглядит следующим образом:"
   ]
  },
  {
   "cell_type": "code",
   "execution_count": 494,
   "metadata": {},
   "outputs": [
    {
     "data": {
      "text/plain": [
       "Text(0, 0.5, 'Соотношение численностей групп')"
      ]
     },
     "execution_count": 494,
     "metadata": {},
     "output_type": "execute_result"
    },
    {
     "data": {
      "image/png": "[encoded data removed]",
      "text/plain": [
       "<Figure size 432x288 with 1 Axes>"
      ]
     },
     "metadata": {},
     "output_type": "display_data"
    }
   ],
   "source": [
    "plt.yscale('log')\n",
    "plt.plot(effects, volums);\n",
    "plt.axhline(y=1, color='r');\n",
    "plt.xlabel('Размер эффекта')\n",
    "plt.ylabel('Соотношение численностей групп')"
   ]
  },
  {
   "cell_type": "markdown",
   "metadata": {},
   "source": [
    "Таким образом, MDE = 0.051 оказался \"великоват\" (больше того эффекта, который мы планировали - 2%). Нужно менять параметры теста, чтобы иметь возможность зафиксировать планируемый эффект. Так как тест неопасен для нас - можем увеличить уровень знаимости $\\alpha$ и уменьшить мощность $1-\\beta$:"
   ]
  },
  {
   "cell_type": "code",
   "execution_count": 495,
   "metadata": {},
   "outputs": [
    {
     "data": {
      "text/plain": [
       "0.019980980980980945"
      ]
     },
     "execution_count": 495,
     "metadata": {},
     "output_type": "execute_result"
    }
   ],
   "source": [
    "x1 = choose_date(df, datetime.datetime(2020, 9, 29, 0, 0), 91, 0.5) #получаем необходимую подвыборку\n",
    "mean = x1.amount.mean()\n",
    "std = x1.amount.std()\n",
    "alpha = 0.1\n",
    "power = 0.293\n",
    "mde, effects, volums = calculate_mde(mean=mean, std=std, alpha=alpha, power=power, n=x1.shape[0])\n",
    "mde"
   ]
  },
  {
   "cell_type": "markdown",
   "metadata": {},
   "source": [
    "В этом случае, мы уже сможем заметить эффект, если он будет иметь место (правда, лишь в ~ 30% случаев).\n",
    "Попробуем взять в качестве метрики связку транзакций и среднего чека (проведем 2 теста): "
   ]
  },
  {
   "cell_type": "code",
   "execution_count": 496,
   "metadata": {},
   "outputs": [
    {
     "data": {
      "text/plain": [
       "0.038961961961961944"
      ]
     },
     "execution_count": 496,
     "metadata": {},
     "output_type": "execute_result"
    }
   ],
   "source": [
    "# тест с транзакциями\n",
    "x1 = choose_date(df, datetime.datetime(2020, 9, 29, 0, 0), 91, 0.5) #получаем необходимую подвыборку\n",
    "mean = x1.transactions.mean()\n",
    "std = x1.transactions.std()\n",
    "alpha = 0.05\n",
    "power = 0.8\n",
    "mde, effects, volums = calculate_mde(mean=mean, std=std, alpha=alpha, power=power, n=x1.shape[0])\n",
    "mde"
   ]
  },
  {
   "cell_type": "code",
   "execution_count": 498,
   "metadata": {},
   "outputs": [
    {
     "data": {
      "text/plain": [
       "0.029471471471471444"
      ]
     },
     "execution_count": 498,
     "metadata": {},
     "output_type": "execute_result"
    }
   ],
   "source": [
    "# тест со средним чеком\n",
    "x1 = choose_date(df, datetime.datetime(2020, 9, 29, 0, 0), 91, 0.5) #получаем необходимую подвыборку\n",
    "mean = x1.average_user_check.mean()\n",
    "std = x1.average_user_check.std()\n",
    "alpha = 0.05\n",
    "power = 0.8\n",
    "mde, effects, volums = calculate_mde(mean=mean, std=std, alpha=alpha, power=power, n=x1.shape[0])\n",
    "mde"
   ]
  },
  {
   "cell_type": "markdown",
   "metadata": {},
   "source": [
    "Как видим, оба теста являются более чувствительными по сравнению с тестом с суммарными покупками, но все еще не позволяют фиксировать ожидаемый нами эффект в 2%. Подберем параметры аналогичным образом:"
   ]
  },
  {
   "cell_type": "code",
   "execution_count": 508,
   "metadata": {},
   "outputs": [
    {
     "data": {
      "text/plain": [
       "0.019481481481481433"
      ]
     },
     "execution_count": 508,
     "metadata": {},
     "output_type": "execute_result"
    }
   ],
   "source": [
    "# тест с транзакциями\n",
    "x1 = choose_date(df, datetime.datetime(2020, 9, 29, 0, 0), 91, 0.5) #получаем необходимую подвыборку\n",
    "mean = x1.transactions.mean()\n",
    "std = x1.transactions.std()\n",
    "alpha = 0.1\n",
    "power = 0.4\n",
    "mde, effects, volums = calculate_mde(mean=mean, std=std, alpha=alpha, power=power, n=x1.shape[0])\n",
    "mde"
   ]
  },
  {
   "cell_type": "code",
   "execution_count": 507,
   "metadata": {},
   "outputs": [
    {
     "data": {
      "text/plain": [
       "0.019980980980980945"
      ]
     },
     "execution_count": 507,
     "metadata": {},
     "output_type": "execute_result"
    }
   ],
   "source": [
    "# тест со средним чеком\n",
    "x1 = choose_date(df, datetime.datetime(2020, 9, 29, 0, 0), 91, 0.5) #получаем необходимую подвыборку\n",
    "mean = x1.average_user_check.mean()\n",
    "std = x1.average_user_check.std()\n",
    "alpha = 0.1\n",
    "power = 0.6\n",
    "mde, effects, volums = calculate_mde(mean=mean, std=std, alpha=alpha, power=power, n=x1.shape[0])\n",
    "mde"
   ]
  },
  {
   "cell_type": "markdown",
   "metadata": {},
   "source": [
    "Так как нам нужно находить эффект в 2 случаях, то совокупная мощность составит: $0.4*0.6=0.24$ (меньше, чем в тесте с суммарными покупками), к тому же будет вероятнее ошибка первого рода (false positive), да и вообще можно говорить про множественную проверку гипотез (при тесте хорошо бы скорректировать $\\alpha$ методом Холма-Бонфферрони или другим), так что остановимся единичном тесте с суммарными покупками."
   ]
  },
  {
   "cell_type": "markdown",
   "metadata": {},
   "source": [
    "**Гипотеза 2**: *Повышение цены базового продукта должно стимулировать покупку продвинутого продукта.* \n",
    "\n",
    "В качестве метрики эксперимента возьмем транзакции по продвинутому продукту (тут можно рассматривать только их без учета среднего чека, так как переход к более дорогому продукту выгоден для нас даже если покупки будут меньшего объема). Так как эксперимент опасен (есть риск потери клиентов), то тут надо подстраховаться и выбрать уровень значимости поменьше, а мощность также взять стандартной: $\\alpha=0.05, 1-\\beta=0.8$, к тому же опасно использовать для теста всех пользователей (из тестовой группы мы будем терять людей) - возьмем для теста четверть. Эффект от поднятия цен будет виден сразу (с первого же для пользователи будут реагировать на изменение цены), поэтому тест целесообразно можно (и хорошо бы) делать как можно короче - начнем с 28 дней.   \n",
    "Но сначала сравним MDE при тех же параметрах, что и для гипотезы 1:"
   ]
  },
  {
   "cell_type": "code",
   "execution_count": 432,
   "metadata": {},
   "outputs": [],
   "source": [
    "# В тест будем набирать всех пользователей, \n",
    "# но будем группировать их действия по продукту  \n",
    "def choose_date_with_advanced(data, start_date, delta, share):\n",
    "    tmp = data[(data.event_date>=start_date)&(data.event_date<=start_date+datetime.timedelta(days=delta))]\n",
    "    tmp = tmp.groupby(['user_id', 'product']).sum().reset_index()\n",
    "    x = tmp[(tmp.user_id)%100<=100*share].reset_index()\n",
    "    return x"
   ]
  },
  {
   "cell_type": "code",
   "execution_count": 436,
   "metadata": {},
   "outputs": [
    {
     "data": {
      "text/plain": [
       "0.03846246246246243"
      ]
     },
     "execution_count": 436,
     "metadata": {},
     "output_type": "execute_result"
    }
   ],
   "source": [
    "x2 = choose_date_with_advanced(df, datetime.datetime(2020, 9, 29, 0, 0), 91, 0.5) #получаем необходимую подвыборку\n",
    "mean = x2[x2['product'] == 'advanced'].transactions.mean()\n",
    "std = x2[x2['product'] == 'advanced'].transactions.std()\n",
    "alpha = 0.05\n",
    "power = 0.8\n",
    "mde, effects, volums = calculate_mde(mean=mean, std=std, alpha=alpha, power=power, n=x2.shape[0])\n",
    "mde"
   ]
  },
  {
   "cell_type": "markdown",
   "metadata": {},
   "source": [
    "Видим, что разница невелика но все-таки 2-ой тест немного мощнее.  \n",
    "Теперь замерим MDE при обозначенных параметрах:"
   ]
  },
  {
   "cell_type": "code",
   "execution_count": 437,
   "metadata": {},
   "outputs": [
    {
     "data": {
      "text/plain": [
       "0.06843243243243241"
      ]
     },
     "execution_count": 437,
     "metadata": {},
     "output_type": "execute_result"
    }
   ],
   "source": [
    "x2 = choose_date_with_advanced(df, datetime.datetime(2020, 9, 29, 0, 0), 28, 0.25) #получаем необходимую подвыборку\n",
    "mean = x2[x2['product'] == 'advanced'].transactions.mean()\n",
    "std = x2[x2['product'] == 'advanced'].transactions.std()\n",
    "alpha = 0.01\n",
    "power = 0.8\n",
    "mde, effects, volums = calculate_mde(mean=mean, std=std, alpha=alpha, power=power, n=x2.shape[0])\n",
    "mde"
   ]
  },
  {
   "cell_type": "markdown",
   "metadata": {},
   "source": [
    "Видим, что MDE снова оказался гораздо больше предполагаемого эффекта - попробуем изменить параметры (т.к. наш эксперимент рисковый, можем безопасно менять только мощность):"
   ]
  },
  {
   "cell_type": "code",
   "execution_count": 467,
   "metadata": {},
   "outputs": [
    {
     "data": {
      "text/plain": [
       "0.04995095095095092"
      ]
     },
     "execution_count": 467,
     "metadata": {},
     "output_type": "execute_result"
    }
   ],
   "source": [
    "x2 = choose_date_with_advanced(df, datetime.datetime(2020, 9, 29, 0, 0), 28, 0.25) #получаем необходимую подвыборку\n",
    "mean = x2[x2['product'] == 'advanced'].transactions.mean()\n",
    "std = x2[x2['product'] == 'advanced'].transactions.std()\n",
    "alpha = 0.01\n",
    "power = 0.47\n",
    "mde, effects, volums = calculate_mde(mean=mean, std=std, alpha=alpha, power=power, n=x2.shape[0])\n",
    "mde"
   ]
  },
  {
   "cell_type": "markdown",
   "metadata": {},
   "source": [
    "Таким образом, сможем увидеть ожидаемый эффект в чуть менее половины случаев, когда он действительно имеет место быть."
   ]
  },
  {
   "cell_type": "markdown",
   "metadata": {},
   "source": [
    "### Выбор оптимального плана\n",
    "Глобально у нас есть 2 пути для проведения тестов по проверке первой и второй продуктовых гипотез:\n",
    "  - проводить их последовательно; \n",
    "  - проводить параллельно.\n",
    "  \n",
    "*Последовательный* способ позволяет задействовать в тестах всех пользователей (для нас это не так актутально, так как в рисковом тесте мы не будем задействовать всех пользователей), но ограничивает по времени - в нашем случае мы не успеем провести 2 теста друг за другом (на 1 из них (неопасный) нужен весь квартал), поэтому придется еще более снижать чувствительность этого теста.  \n",
    "*Параллельный* же способ как раз и предоставляет возможность не менять сроки проведения теста (проводим тесты одновременно), но так как пользователи не должны пересекаться, то накладывается ограничение на размеры самих групп, что чаще всего сильнее снижает чувствительность.  \n",
    "Для выбора оптимального плана замерим, как нужно изменить параметры, чтобы обеспечить нахождение MDE при той же мощности:"
   ]
  },
  {
   "cell_type": "code",
   "execution_count": 513,
   "metadata": {},
   "outputs": [
    {
     "data": {
      "text/plain": [
       "0.019980980980980945"
      ]
     },
     "execution_count": 513,
     "metadata": {},
     "output_type": "execute_result"
    }
   ],
   "source": [
    "# для последовательного способа уменьшаем время проведения теста:\n",
    "# (91 (общее кол-во дней) - 28 (время проведения опасного теста) = 63)\n",
    "x1 = choose_date(df, datetime.datetime(2020, 9, 29, 0, 0), 63, 0.5) #получаем необходимую подвыборку\n",
    "mean = x1.amount.mean()\n",
    "std = x1.amount.std()\n",
    "alpha = 0.1\n",
    "power = 0.281\n",
    "mde, effects, volums = calculate_mde(mean=mean, std=std, alpha=alpha, power=power, n=x1.shape[0])\n",
    "mde"
   ]
  },
  {
   "cell_type": "code",
   "execution_count": 525,
   "metadata": {},
   "outputs": [
    {
     "data": {
      "text/plain": [
       "0.019481481481481433"
      ]
     },
     "execution_count": 525,
     "metadata": {},
     "output_type": "execute_result"
    }
   ],
   "source": [
    "# для параллельного способа уменьшаем долю пользователей:\n",
    "# половина пользователей занята в опасном тесте - придется обойтись другой половиной \n",
    "x1 = choose_date(df, datetime.datetime(2020, 9, 29, 0, 0), 91, 0.25) #получаем необходимую подвыборку\n",
    "mean = x1.amount.mean()\n",
    "std = x1.amount.std()\n",
    "alpha = 0.1\n",
    "power = 0.193\n",
    "mde, effects, volums = calculate_mde(mean=mean, std=std, alpha=alpha, power=power, n=x1.shape[0])\n",
    "mde"
   ]
  },
  {
   "cell_type": "markdown",
   "metadata": {},
   "source": [
    "Таким образом, видим, что при последовательном плане мы теряем меньше мощности -> он будет оптимальным для нас."
   ]
  },
  {
   "cell_type": "markdown",
   "metadata": {},
   "source": [
    "### Оптимизация плана\n",
    "1. Можем сначала проводить опасный тест, следя параллельно за DAU/MAU в тестовой группе - если заметим сильное падение, то сразу же остановим тест, отвергнем гипотезу и начнем другой тест (неопасный) с сэкономленным временем (или повысим чувствительность неопасного теста).\n",
    "2. Если каким-либо образом увеличим число наших клиентов, тем самым поднимем чувствительность наших тестов или сможем проводить их быстрее (но если это новые клиенты, то они могут сильно изменить само распределение и просадить метрику транзакций, например, если совершат 1 покупку и уйдут).\n",
    "3. Если говорить конкретно о времени, то все еще можем повышать $\\alpha$, снижать мощность, увеличивать долю пользователей, участвующих в эксперименте, но это ведет к дополнительному риску принятия неправильного решения (особенно плохо для опасного теста)."
   ]
  }
 ],
 "metadata": {
  "kernelspec": {
   "display_name": "Python 3",
   "language": "python",
   "name": "python3"
  },
  "language_info": {
   "codemirror_mode": {
    "name": "ipython",
    "version": 3
   },
   "file_extension": ".py",
   "mimetype": "text/x-python",
   "name": "python",
   "nbconvert_exporter": "python",
   "pygments_lexer": "ipython3",
   "version": "3.7.6"
  }
 },
 "nbformat": 4,
 "nbformat_minor": 4
}
