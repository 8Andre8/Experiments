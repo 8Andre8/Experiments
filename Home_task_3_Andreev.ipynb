{
 "cells": [
  {
   "cell_type": "code",
   "execution_count": 1,
   "metadata": {},
   "outputs": [],
   "source": [
    "import pandas as pd\n",
    "import matplotlib.pyplot as plt\n",
    "import numpy as np\n",
    "import seaborn as sns\n",
    "import datetime\n",
    "import random\n",
    "from statsmodels.stats.power import tt_ind_solve_power\n",
    "\n",
    "def date_converter(x):\n",
    "    return datetime.datetime.strptime(x,'%Y-%m-%d')"
   ]
  },
  {
   "cell_type": "markdown",
   "metadata": {},
   "source": [
    "### Задание 3\n",
    "**Срок сдачи: 07 апреля 18:00**\n",
    "\n",
    "В этом задание вы будете работать с выручкой - метрикой с достаточно высокой дисперсией и соответсвенно низкой чувствительностью к изменениям.\n",
    "\n",
    "Вам предстоит разработать подход по повышению чувствительности этой метрики.\n",
    "От успеха данной инициативы зависит то, как быстро мы сможем проверять продуктовые гипотезы."
   ]
  },
  {
   "cell_type": "markdown",
   "metadata": {},
   "source": [
    "#### Для планирования эксперимента изучите данные и метрики 2 балла:\n",
    "\n",
    "- Загрузите файл и изучите данные;\n",
    "- Изучите основные статистики метрики: среднее, стандартное отклонение;\n",
    "- Изучите то, как эти статистики изменяются внутри срезов: user_segment, region, category\n",
    "\n",
    "#### Предскажите минимально детектируемый эффект (MDE) 2 балла:\n",
    "\n",
    "- Для размеров тестовых групп 10, 25, 50% и длительностей 30, 60, 90 дней предскажите минимально детектируемый эффект;\n",
    "\n",
    "\n",
    "#### CUPED 6 баллов\n",
    "Разработайте подход по снижению дисперсии на основе методики CUPED:\n",
    "\n",
    "- Рассчитайте CUPED метрику на основе данных за период в 30 дней перед предполагаемым периодом сбора основной выборки и опишите как изменился MDE для выборок 50/50%, собранных за 30 дней (2 балла). \n",
    "- Проверьте насколько данный подход подвержен сезональности. Как меняется MDE, если применять данный подход в разные периоды (2 балла). \n",
    "- Оптимизируйте подход варьируя количество дней до теста, которые вы берете для расчёта CUPED метрики. Какое максимальное снижение MDE вы смогли достичь (2 балла).\n",
    "\n",
    "\n",
    "\n",
    "#### * Стратификация 4 балла (задание для получения дополнительных баллов)\n",
    "Разработайте подход по снижению дисперсии на основе методики стратификации выборок:\n",
    "\n",
    "- Стратифицируйте выборки внутри срезов user_segment, region, category\n",
    "- Рассчитайте стратифицированные среднее,стандартное отклонение для этих выборок и MDE для теста 50/50% длительностью 30 дней.\n",
    "- В каких срезах достигается наибольшее снижение MDE?\n",
    "\n"
   ]
  },
  {
   "cell_type": "markdown",
   "metadata": {},
   "source": [
    "#### Описание данныx\n",
    "\n",
    "event_date - дата \n",
    "\n",
    "user_id - идентификатор пользователя\n",
    "\n",
    "user_segment - сегмент пользователей\n",
    "\n",
    "region - регион\n",
    "\n",
    "category - категория авито\n",
    "\n",
    "revenue_amount - сумма покупок\n"
   ]
  },
  {
   "cell_type": "markdown",
   "metadata": {},
   "source": [
    "### Решение"
   ]
  },
  {
   "cell_type": "markdown",
   "metadata": {},
   "source": [
    "### Изучение данных и метрик"
   ]
  },
  {
   "cell_type": "code",
   "execution_count": 162,
   "metadata": {},
   "outputs": [],
   "source": [
    "df = pd.read_csv('user_amount_var_reduction.csv')\n",
    "df['event_date']=df.event_date.apply(date_converter)"
   ]
  },
  {
   "cell_type": "code",
   "execution_count": 163,
   "metadata": {},
   "outputs": [
    {
     "data": {
      "text/html": [
       "<div>\n",
       "<style scoped>\n",
       "    .dataframe tbody tr th:only-of-type {\n",
       "        vertical-align: middle;\n",
       "    }\n",
       "\n",
       "    .dataframe tbody tr th {\n",
       "        vertical-align: top;\n",
       "    }\n",
       "\n",
       "    .dataframe thead th {\n",
       "        text-align: right;\n",
       "    }\n",
       "</style>\n",
       "<table border=\"1\" class=\"dataframe\">\n",
       "  <thead>\n",
       "    <tr style=\"text-align: right;\">\n",
       "      <th></th>\n",
       "      <th>event_date</th>\n",
       "      <th>user_id</th>\n",
       "      <th>user_segment</th>\n",
       "      <th>category</th>\n",
       "      <th>region</th>\n",
       "      <th>revenue_amount</th>\n",
       "    </tr>\n",
       "  </thead>\n",
       "  <tbody>\n",
       "    <tr>\n",
       "      <th>0</th>\n",
       "      <td>2019-06-18</td>\n",
       "      <td>4129257975403696</td>\n",
       "      <td>4626944681007198896</td>\n",
       "      <td>7204754148424990691</td>\n",
       "      <td>2201388710798473628</td>\n",
       "      <td>139</td>\n",
       "    </tr>\n",
       "    <tr>\n",
       "      <th>1</th>\n",
       "      <td>2019-06-18</td>\n",
       "      <td>7225254357470025</td>\n",
       "      <td>4626944681007198896</td>\n",
       "      <td>57514010642945023</td>\n",
       "      <td>3048517866726460689</td>\n",
       "      <td>193</td>\n",
       "    </tr>\n",
       "    <tr>\n",
       "      <th>2</th>\n",
       "      <td>2019-06-18</td>\n",
       "      <td>8912846500600569</td>\n",
       "      <td>4626944681007198896</td>\n",
       "      <td>5983323600580891431</td>\n",
       "      <td>3048517866726460689</td>\n",
       "      <td>160</td>\n",
       "    </tr>\n",
       "    <tr>\n",
       "      <th>3</th>\n",
       "      <td>2019-06-18</td>\n",
       "      <td>20910801279823046</td>\n",
       "      <td>4626944681007198896</td>\n",
       "      <td>6847326422676498281</td>\n",
       "      <td>7762196236856042106</td>\n",
       "      <td>209</td>\n",
       "    </tr>\n",
       "    <tr>\n",
       "      <th>4</th>\n",
       "      <td>2019-06-18</td>\n",
       "      <td>34873300821657220</td>\n",
       "      <td>2376074197230840906</td>\n",
       "      <td>3187769798308634693</td>\n",
       "      <td>3855810523611026650</td>\n",
       "      <td>160</td>\n",
       "    </tr>\n",
       "  </tbody>\n",
       "</table>\n",
       "</div>"
      ],
      "text/plain": [
       "  event_date            user_id         user_segment             category  \\\n",
       "0 2019-06-18   4129257975403696  4626944681007198896  7204754148424990691   \n",
       "1 2019-06-18   7225254357470025  4626944681007198896    57514010642945023   \n",
       "2 2019-06-18   8912846500600569  4626944681007198896  5983323600580891431   \n",
       "3 2019-06-18  20910801279823046  4626944681007198896  6847326422676498281   \n",
       "4 2019-06-18  34873300821657220  2376074197230840906  3187769798308634693   \n",
       "\n",
       "                region  revenue_amount  \n",
       "0  2201388710798473628             139  \n",
       "1  3048517866726460689             193  \n",
       "2  3048517866726460689             160  \n",
       "3  7762196236856042106             209  \n",
       "4  3855810523611026650             160  "
      ]
     },
     "execution_count": 163,
     "metadata": {},
     "output_type": "execute_result"
    }
   ],
   "source": [
    "df.head()"
   ]
  },
  {
   "cell_type": "code",
   "execution_count": 20,
   "metadata": {},
   "outputs": [
    {
     "data": {
      "text/plain": [
       "8625842"
      ]
     },
     "execution_count": 20,
     "metadata": {},
     "output_type": "execute_result"
    }
   ],
   "source": [
    "len(df)"
   ]
  },
  {
   "cell_type": "code",
   "execution_count": 108,
   "metadata": {},
   "outputs": [
    {
     "data": {
      "text/plain": [
       "3"
      ]
     },
     "execution_count": 108,
     "metadata": {},
     "output_type": "execute_result"
    }
   ],
   "source": [
    "# имеем 3 сегмента\n",
    "len(df.user_segment.unique())"
   ]
  },
  {
   "cell_type": "code",
   "execution_count": 105,
   "metadata": {},
   "outputs": [
    {
     "data": {
      "text/plain": [
       "33"
      ]
     },
     "execution_count": 105,
     "metadata": {},
     "output_type": "execute_result"
    }
   ],
   "source": [
    "# имеем 33 категории\n",
    "len(df.category.unique())"
   ]
  },
  {
   "cell_type": "code",
   "execution_count": 109,
   "metadata": {},
   "outputs": [
    {
     "data": {
      "text/plain": [
       "84"
      ]
     },
     "execution_count": 109,
     "metadata": {},
     "output_type": "execute_result"
    }
   ],
   "source": [
    "# имеем 84 региона\n",
    "len(df.region.unique())"
   ]
  },
  {
   "cell_type": "markdown",
   "metadata": {},
   "source": [
    "**Статистика метрики (revenue_amount)**"
   ]
  },
  {
   "cell_type": "markdown",
   "metadata": {},
   "source": [
    "Изучим основные статистики для метрики выручки:"
   ]
  },
  {
   "cell_type": "code",
   "execution_count": 73,
   "metadata": {},
   "outputs": [
    {
     "data": {
      "text/plain": [
       "count    8625842.0\n",
       "mean         400.9\n",
       "std          960.2\n",
       "min            1.0\n",
       "25%           88.0\n",
       "50%          167.0\n",
       "75%          405.0\n",
       "max       288123.0\n",
       "Name: revenue_amount, dtype: float64"
      ]
     },
     "execution_count": 73,
     "metadata": {},
     "output_type": "execute_result"
    }
   ],
   "source": [
    "df.revenue_amount.describe().round(decimals=1)"
   ]
  },
  {
   "cell_type": "markdown",
   "metadata": {},
   "source": [
    "Видим, что разброс достаточно велик. Среднее сильно отличается от медианы, что говорит о большом количестве выбросов. На это указывает и максимальное значение (288123) - скорее всего сегмент крупных пользователей."
   ]
  },
  {
   "cell_type": "markdown",
   "metadata": {},
   "source": [
    "**Статистики внутри срезов**"
   ]
  },
  {
   "cell_type": "markdown",
   "metadata": {},
   "source": [
    "Рассмотрим статистики внутри срезов: \n",
    "- по сегментам пользователей - *user_segment*;\n",
    "- по категориям - *category*;\n",
    "- по регионам - *region*."
   ]
  },
  {
   "cell_type": "markdown",
   "metadata": {},
   "source": [
    "Начнем с сегментов:"
   ]
  },
  {
   "cell_type": "code",
   "execution_count": 82,
   "metadata": {},
   "outputs": [],
   "source": [
    "d_mean = df.groupby('user_segment', as_index=False).mean()\n",
    "d_std = df.groupby('user_segment', as_index=False).std()"
   ]
  },
  {
   "cell_type": "code",
   "execution_count": 83,
   "metadata": {},
   "outputs": [
    {
     "data": {
      "text/html": [
       "<div>\n",
       "<style scoped>\n",
       "    .dataframe tbody tr th:only-of-type {\n",
       "        vertical-align: middle;\n",
       "    }\n",
       "\n",
       "    .dataframe tbody tr th {\n",
       "        vertical-align: top;\n",
       "    }\n",
       "\n",
       "    .dataframe thead th {\n",
       "        text-align: right;\n",
       "    }\n",
       "</style>\n",
       "<table border=\"1\" class=\"dataframe\">\n",
       "  <thead>\n",
       "    <tr style=\"text-align: right;\">\n",
       "      <th></th>\n",
       "      <th>user_segment</th>\n",
       "      <th>revenue_amount_mean</th>\n",
       "      <th>revenue_amount_std</th>\n",
       "    </tr>\n",
       "  </thead>\n",
       "  <tbody>\n",
       "    <tr>\n",
       "      <th>0</th>\n",
       "      <td>853431062533847667</td>\n",
       "      <td>1094.330305</td>\n",
       "      <td>2392.330098</td>\n",
       "    </tr>\n",
       "    <tr>\n",
       "      <th>1</th>\n",
       "      <td>2376074197230840906</td>\n",
       "      <td>401.615956</td>\n",
       "      <td>571.446013</td>\n",
       "    </tr>\n",
       "    <tr>\n",
       "      <th>2</th>\n",
       "      <td>4626944681007198896</td>\n",
       "      <td>207.760172</td>\n",
       "      <td>285.545686</td>\n",
       "    </tr>\n",
       "  </tbody>\n",
       "</table>\n",
       "</div>"
      ],
      "text/plain": [
       "          user_segment  revenue_amount_mean  revenue_amount_std\n",
       "0   853431062533847667          1094.330305         2392.330098\n",
       "1  2376074197230840906           401.615956          571.446013\n",
       "2  4626944681007198896           207.760172          285.545686"
      ]
     },
     "execution_count": 83,
     "metadata": {},
     "output_type": "execute_result"
    }
   ],
   "source": [
    "df_user_segment = pd.DataFrame()\n",
    "df_user_segment[['user_segment', 'revenue_amount_mean']] = d_mean.loc[:, ['user_segment', 'revenue_amount']]\n",
    "df_user_segment['revenue_amount_std'] = d_std.loc[:, 'revenue_amount']\n",
    "df_user_segment"
   ]
  },
  {
   "cell_type": "markdown",
   "metadata": {},
   "source": [
    "Видим 3 сегмента, отличающихся по суммам покупок - крупные (mean=1094), средние (mean=402) и мелкие (mean=208). У \"небольших\" пользователей разброс их покупок не так уж велик, а больших пользователей и разброс большой, но их не так много. Это может помочь снизить дисперсию при использовании подхода стратификации. "
   ]
  },
  {
   "cell_type": "markdown",
   "metadata": {},
   "source": [
    "Рассмотрим категории:"
   ]
  },
  {
   "cell_type": "code",
   "execution_count": 90,
   "metadata": {},
   "outputs": [],
   "source": [
    "d_mean = df.groupby('category', as_index=False).mean()\n",
    "d_std = df.groupby('category', as_index=False).std()"
   ]
  },
  {
   "cell_type": "code",
   "execution_count": 96,
   "metadata": {},
   "outputs": [
    {
     "data": {
      "text/html": [
       "<div>\n",
       "<style scoped>\n",
       "    .dataframe tbody tr th:only-of-type {\n",
       "        vertical-align: middle;\n",
       "    }\n",
       "\n",
       "    .dataframe tbody tr th {\n",
       "        vertical-align: top;\n",
       "    }\n",
       "\n",
       "    .dataframe thead th {\n",
       "        text-align: right;\n",
       "    }\n",
       "</style>\n",
       "<table border=\"1\" class=\"dataframe\">\n",
       "  <thead>\n",
       "    <tr style=\"text-align: right;\">\n",
       "      <th></th>\n",
       "      <th>category</th>\n",
       "      <th>revenue_amount_mean</th>\n",
       "      <th>revenue_amount_std</th>\n",
       "    </tr>\n",
       "  </thead>\n",
       "  <tbody>\n",
       "    <tr>\n",
       "      <th>0</th>\n",
       "      <td>57514010642945023</td>\n",
       "      <td>347.826167</td>\n",
       "      <td>605.864274</td>\n",
       "    </tr>\n",
       "    <tr>\n",
       "      <th>1</th>\n",
       "      <td>91460430793700892</td>\n",
       "      <td>441.861699</td>\n",
       "      <td>651.938097</td>\n",
       "    </tr>\n",
       "    <tr>\n",
       "      <th>2</th>\n",
       "      <td>174490086998335078</td>\n",
       "      <td>325.149759</td>\n",
       "      <td>764.813512</td>\n",
       "    </tr>\n",
       "    <tr>\n",
       "      <th>3</th>\n",
       "      <td>264558924403680107</td>\n",
       "      <td>509.373364</td>\n",
       "      <td>747.222091</td>\n",
       "    </tr>\n",
       "    <tr>\n",
       "      <th>4</th>\n",
       "      <td>282115902545472456</td>\n",
       "      <td>260.778575</td>\n",
       "      <td>354.734991</td>\n",
       "    </tr>\n",
       "  </tbody>\n",
       "</table>\n",
       "</div>"
      ],
      "text/plain": [
       "             category  revenue_amount_mean  revenue_amount_std\n",
       "0   57514010642945023           347.826167          605.864274\n",
       "1   91460430793700892           441.861699          651.938097\n",
       "2  174490086998335078           325.149759          764.813512\n",
       "3  264558924403680107           509.373364          747.222091\n",
       "4  282115902545472456           260.778575          354.734991"
      ]
     },
     "execution_count": 96,
     "metadata": {},
     "output_type": "execute_result"
    }
   ],
   "source": [
    "df_category = pd.DataFrame()\n",
    "df_category[['category', 'revenue_amount_mean']] = d_mean.loc[:, ['category', 'revenue_amount']]\n",
    "df_category['revenue_amount_std'] = d_std.loc[:, 'revenue_amount']\n",
    "df_category.head()"
   ]
  },
  {
   "cell_type": "code",
   "execution_count": 97,
   "metadata": {
    "scrolled": true
   },
   "outputs": [
    {
     "data": {
      "text/html": [
       "<div>\n",
       "<style scoped>\n",
       "    .dataframe tbody tr th:only-of-type {\n",
       "        vertical-align: middle;\n",
       "    }\n",
       "\n",
       "    .dataframe tbody tr th {\n",
       "        vertical-align: top;\n",
       "    }\n",
       "\n",
       "    .dataframe thead th {\n",
       "        text-align: right;\n",
       "    }\n",
       "</style>\n",
       "<table border=\"1\" class=\"dataframe\">\n",
       "  <thead>\n",
       "    <tr style=\"text-align: right;\">\n",
       "      <th></th>\n",
       "      <th>revenue_amount_mean</th>\n",
       "      <th>revenue_amount_std</th>\n",
       "    </tr>\n",
       "  </thead>\n",
       "  <tbody>\n",
       "    <tr>\n",
       "      <th>count</th>\n",
       "      <td>33.000000</td>\n",
       "      <td>33.000000</td>\n",
       "    </tr>\n",
       "    <tr>\n",
       "      <th>mean</th>\n",
       "      <td>427.308587</td>\n",
       "      <td>778.739216</td>\n",
       "    </tr>\n",
       "    <tr>\n",
       "      <th>std</th>\n",
       "      <td>336.174781</td>\n",
       "      <td>657.301011</td>\n",
       "    </tr>\n",
       "    <tr>\n",
       "      <th>min</th>\n",
       "      <td>136.595029</td>\n",
       "      <td>172.984799</td>\n",
       "    </tr>\n",
       "    <tr>\n",
       "      <th>25%</th>\n",
       "      <td>233.014721</td>\n",
       "      <td>354.734991</td>\n",
       "    </tr>\n",
       "    <tr>\n",
       "      <th>50%</th>\n",
       "      <td>352.174948</td>\n",
       "      <td>605.864274</td>\n",
       "    </tr>\n",
       "    <tr>\n",
       "      <th>75%</th>\n",
       "      <td>497.431001</td>\n",
       "      <td>790.312625</td>\n",
       "    </tr>\n",
       "    <tr>\n",
       "      <th>max</th>\n",
       "      <td>1955.979431</td>\n",
       "      <td>3164.815179</td>\n",
       "    </tr>\n",
       "  </tbody>\n",
       "</table>\n",
       "</div>"
      ],
      "text/plain": [
       "       revenue_amount_mean  revenue_amount_std\n",
       "count            33.000000           33.000000\n",
       "mean            427.308587          778.739216\n",
       "std             336.174781          657.301011\n",
       "min             136.595029          172.984799\n",
       "25%             233.014721          354.734991\n",
       "50%             352.174948          605.864274\n",
       "75%             497.431001          790.312625\n",
       "max            1955.979431         3164.815179"
      ]
     },
     "execution_count": 97,
     "metadata": {},
     "output_type": "execute_result"
    }
   ],
   "source": [
    "df_category[['revenue_amount_mean', 'revenue_amount_std']].describe()"
   ]
  },
  {
   "cell_type": "markdown",
   "metadata": {},
   "source": [
    "Видим, что категорий гораздо больше, чем сегментов и большинство из них не слишком сильно отличаются по суммам покупок (в среднем около 400), но разброс в них достаточно большой -> стратификация вряд ли поможет снизить дисперсию."
   ]
  },
  {
   "cell_type": "markdown",
   "metadata": {},
   "source": [
    "Перейдем к регионам"
   ]
  },
  {
   "cell_type": "code",
   "execution_count": 102,
   "metadata": {},
   "outputs": [],
   "source": [
    "d_mean = df.groupby('region', as_index=False).mean()\n",
    "d_std = df.groupby('region', as_index=False).std()"
   ]
  },
  {
   "cell_type": "code",
   "execution_count": 103,
   "metadata": {},
   "outputs": [
    {
     "data": {
      "text/html": [
       "<div>\n",
       "<style scoped>\n",
       "    .dataframe tbody tr th:only-of-type {\n",
       "        vertical-align: middle;\n",
       "    }\n",
       "\n",
       "    .dataframe tbody tr th {\n",
       "        vertical-align: top;\n",
       "    }\n",
       "\n",
       "    .dataframe thead th {\n",
       "        text-align: right;\n",
       "    }\n",
       "</style>\n",
       "<table border=\"1\" class=\"dataframe\">\n",
       "  <thead>\n",
       "    <tr style=\"text-align: right;\">\n",
       "      <th></th>\n",
       "      <th>region</th>\n",
       "      <th>revenue_amount_mean</th>\n",
       "      <th>revenue_amount_std</th>\n",
       "    </tr>\n",
       "  </thead>\n",
       "  <tbody>\n",
       "    <tr>\n",
       "      <th>0</th>\n",
       "      <td>68475388295793322</td>\n",
       "      <td>289.345317</td>\n",
       "      <td>504.681673</td>\n",
       "    </tr>\n",
       "    <tr>\n",
       "      <th>1</th>\n",
       "      <td>181387893390186210</td>\n",
       "      <td>299.629748</td>\n",
       "      <td>461.930430</td>\n",
       "    </tr>\n",
       "    <tr>\n",
       "      <th>2</th>\n",
       "      <td>308194675497345788</td>\n",
       "      <td>252.626919</td>\n",
       "      <td>544.986118</td>\n",
       "    </tr>\n",
       "    <tr>\n",
       "      <th>3</th>\n",
       "      <td>385667469633138042</td>\n",
       "      <td>272.589534</td>\n",
       "      <td>507.917500</td>\n",
       "    </tr>\n",
       "    <tr>\n",
       "      <th>4</th>\n",
       "      <td>405364780634206711</td>\n",
       "      <td>205.209615</td>\n",
       "      <td>295.197711</td>\n",
       "    </tr>\n",
       "  </tbody>\n",
       "</table>\n",
       "</div>"
      ],
      "text/plain": [
       "               region  revenue_amount_mean  revenue_amount_std\n",
       "0   68475388295793322           289.345317          504.681673\n",
       "1  181387893390186210           299.629748          461.930430\n",
       "2  308194675497345788           252.626919          544.986118\n",
       "3  385667469633138042           272.589534          507.917500\n",
       "4  405364780634206711           205.209615          295.197711"
      ]
     },
     "execution_count": 103,
     "metadata": {},
     "output_type": "execute_result"
    }
   ],
   "source": [
    "df_region = pd.DataFrame()\n",
    "df_region[['region', 'revenue_amount_mean']] = d_mean.loc[:, ['region', 'revenue_amount']]\n",
    "df_region['revenue_amount_std'] = d_std.loc[:, 'revenue_amount']\n",
    "df_region.head()"
   ]
  },
  {
   "cell_type": "code",
   "execution_count": 104,
   "metadata": {
    "scrolled": true
   },
   "outputs": [
    {
     "data": {
      "text/html": [
       "<div>\n",
       "<style scoped>\n",
       "    .dataframe tbody tr th:only-of-type {\n",
       "        vertical-align: middle;\n",
       "    }\n",
       "\n",
       "    .dataframe tbody tr th {\n",
       "        vertical-align: top;\n",
       "    }\n",
       "\n",
       "    .dataframe thead th {\n",
       "        text-align: right;\n",
       "    }\n",
       "</style>\n",
       "<table border=\"1\" class=\"dataframe\">\n",
       "  <thead>\n",
       "    <tr style=\"text-align: right;\">\n",
       "      <th></th>\n",
       "      <th>revenue_amount_mean</th>\n",
       "      <th>revenue_amount_std</th>\n",
       "    </tr>\n",
       "  </thead>\n",
       "  <tbody>\n",
       "    <tr>\n",
       "      <th>count</th>\n",
       "      <td>84.000000</td>\n",
       "      <td>84.000000</td>\n",
       "    </tr>\n",
       "    <tr>\n",
       "      <th>mean</th>\n",
       "      <td>299.283940</td>\n",
       "      <td>538.972712</td>\n",
       "    </tr>\n",
       "    <tr>\n",
       "      <th>std</th>\n",
       "      <td>94.141554</td>\n",
       "      <td>274.794660</td>\n",
       "    </tr>\n",
       "    <tr>\n",
       "      <th>min</th>\n",
       "      <td>182.157253</td>\n",
       "      <td>222.724661</td>\n",
       "    </tr>\n",
       "    <tr>\n",
       "      <th>25%</th>\n",
       "      <td>237.126174</td>\n",
       "      <td>373.902375</td>\n",
       "    </tr>\n",
       "    <tr>\n",
       "      <th>50%</th>\n",
       "      <td>282.286679</td>\n",
       "      <td>487.580936</td>\n",
       "    </tr>\n",
       "    <tr>\n",
       "      <th>75%</th>\n",
       "      <td>336.866921</td>\n",
       "      <td>621.041145</td>\n",
       "    </tr>\n",
       "    <tr>\n",
       "      <th>max</th>\n",
       "      <td>709.130762</td>\n",
       "      <td>1819.635279</td>\n",
       "    </tr>\n",
       "  </tbody>\n",
       "</table>\n",
       "</div>"
      ],
      "text/plain": [
       "       revenue_amount_mean  revenue_amount_std\n",
       "count            84.000000           84.000000\n",
       "mean            299.283940          538.972712\n",
       "std              94.141554          274.794660\n",
       "min             182.157253          222.724661\n",
       "25%             237.126174          373.902375\n",
       "50%             282.286679          487.580936\n",
       "75%             336.866921          621.041145\n",
       "max             709.130762         1819.635279"
      ]
     },
     "execution_count": 104,
     "metadata": {},
     "output_type": "execute_result"
    }
   ],
   "source": [
    "df_region[['revenue_amount_mean', 'revenue_amount_std']].describe()"
   ]
  },
  {
   "cell_type": "markdown",
   "metadata": {},
   "source": [
    "Видим, что регионы почти не отличаются по среднему числу покупок и обладают малым разбросом (относительно других срезов)."
   ]
  },
  {
   "cell_type": "markdown",
   "metadata": {},
   "source": [
    "### MDE"
   ]
  },
  {
   "cell_type": "markdown",
   "metadata": {},
   "source": [
    "Предскажем минимально детектируемый эффект (MDE) для различных размеров групп и длительности эксперимента:"
   ]
  },
  {
   "cell_type": "code",
   "execution_count": 64,
   "metadata": {},
   "outputs": [],
   "source": [
    "def calculate_mde(mean, std, alpha, power, n):\n",
    "    effects = np.linspace(0.5, 0.001, num=1000)\n",
    "    volums = []\n",
    "    for i, effect in enumerate(effects):\n",
    "        effect_size = (mean/std) * effect\n",
    "        volums.append(tt_ind_solve_power(effect_size=effect_size, alpha=alpha, power=power, nobs1=None, ratio=1, alternative = 'two-sided')/n)\n",
    "        if  volums[i] <= 1:\n",
    "            mde = effect\n",
    "    return mde, effects, volums"
   ]
  },
  {
   "cell_type": "code",
   "execution_count": 135,
   "metadata": {},
   "outputs": [
    {
     "name": "stdout",
     "output_type": "stream",
     "text": [
      "2019-06-18 00:00:00\n"
     ]
    }
   ],
   "source": [
    "# определеим минимальную дату - она будет началом эксперимента\n",
    "print(df.event_date.min())"
   ]
  },
  {
   "cell_type": "code",
   "execution_count": 327,
   "metadata": {},
   "outputs": [],
   "source": [
    "def choose_date(data, start_date, delta, share): \n",
    "    tmp = data[(data.event_date>=start_date)&(data.event_date<=start_date+datetime.timedelta(days=delta))]\n",
    "    tmp = tmp.groupby(['user_id']).sum().reset_index()\n",
    "    x = tmp[(tmp.user_id)%100<=100*share].reset_index()\n",
    "    return x"
   ]
  },
  {
   "cell_type": "markdown",
   "metadata": {},
   "source": [
    "Установим размер тестовой группы на уровне 10% и будем варьировать длительность эксперимента (30, 60 и 90 дней):"
   ]
  },
  {
   "cell_type": "code",
   "execution_count": 328,
   "metadata": {},
   "outputs": [
    {
     "data": {
      "text/plain": [
       "0.12787287287287286"
      ]
     },
     "execution_count": 328,
     "metadata": {},
     "output_type": "execute_result"
    }
   ],
   "source": [
    "x1 = choose_date(df, datetime.datetime(2019, 6, 18, 0, 0), 30, 0.1) #получаем необходимую подвыборку\n",
    "mean = x1.revenue_amount.mean()\n",
    "std = x1.revenue_amount.std()\n",
    "alpha = 0.01\n",
    "power = 0.8\n",
    "mde, effects, volums = calculate_mde(mean=mean, std=std, alpha=alpha, power=power, n=x1.shape[0])\n",
    "mde"
   ]
  },
  {
   "cell_type": "code",
   "execution_count": 329,
   "metadata": {},
   "outputs": [
    {
     "data": {
      "text/plain": [
       "0.12637437437437438"
      ]
     },
     "execution_count": 329,
     "metadata": {},
     "output_type": "execute_result"
    }
   ],
   "source": [
    "x1 = choose_date(df, datetime.datetime(2019, 6, 18, 0, 0), 60, 0.1) #получаем необходимую подвыборку\n",
    "mean = x1.revenue_amount.mean()\n",
    "std = x1.revenue_amount.std()\n",
    "alpha = 0.01\n",
    "power = 0.8\n",
    "mde, effects, volums = calculate_mde(mean=mean, std=std, alpha=alpha, power=power, n=x1.shape[0])\n",
    "mde"
   ]
  },
  {
   "cell_type": "code",
   "execution_count": 330,
   "metadata": {},
   "outputs": [
    {
     "data": {
      "text/plain": [
       "0.12287787787787785"
      ]
     },
     "execution_count": 330,
     "metadata": {},
     "output_type": "execute_result"
    }
   ],
   "source": [
    "x1 = choose_date(df, datetime.datetime(2019, 6, 18, 0, 0), 90, 0.1) #получаем необходимую подвыборку\n",
    "mean = x1.revenue_amount.mean()\n",
    "std = x1.revenue_amount.std()\n",
    "alpha = 0.01\n",
    "power = 0.8\n",
    "mde, effects, volums = calculate_mde(mean=mean, std=std, alpha=alpha, power=power, n=x1.shape[0])\n",
    "mde"
   ]
  },
  {
   "cell_type": "markdown",
   "metadata": {},
   "source": [
    "Таким образом, видим, что длительность эксперимента значительно не влияет на MDE, а сам MDE слишком уж велик - нужно увеличивать размер тестовой группы."
   ]
  },
  {
   "cell_type": "markdown",
   "metadata": {},
   "source": [
    "Увеличим размер тестовой группы до 25%:"
   ]
  },
  {
   "cell_type": "code",
   "execution_count": 332,
   "metadata": {},
   "outputs": [
    {
     "data": {
      "text/plain": [
       "0.09340740740740738"
      ]
     },
     "execution_count": 332,
     "metadata": {},
     "output_type": "execute_result"
    }
   ],
   "source": [
    "x1 = choose_date(df, datetime.datetime(2019, 6, 18, 0, 0), 30, 0.25) #получаем необходимую подвыборку\n",
    "mean = x1.revenue_amount.mean()\n",
    "std = x1.revenue_amount.std()\n",
    "alpha = 0.01\n",
    "power = 0.8\n",
    "mde, effects, volums = calculate_mde(mean=mean, std=std, alpha=alpha, power=power, n=x1.shape[0])\n",
    "mde"
   ]
  },
  {
   "cell_type": "code",
   "execution_count": 333,
   "metadata": {},
   "outputs": [
    {
     "data": {
      "text/plain": [
       "0.09041041041041037"
      ]
     },
     "execution_count": 333,
     "metadata": {},
     "output_type": "execute_result"
    }
   ],
   "source": [
    "x1 = choose_date(df, datetime.datetime(2019, 6, 18, 0, 0), 60, 0.25) #получаем необходимую подвыборку\n",
    "mean = x1.revenue_amount.mean()\n",
    "std = x1.revenue_amount.std()\n",
    "alpha = 0.01\n",
    "power = 0.8\n",
    "mde, effects, volums = calculate_mde(mean=mean, std=std, alpha=alpha, power=power, n=x1.shape[0])\n",
    "mde"
   ]
  },
  {
   "cell_type": "code",
   "execution_count": 334,
   "metadata": {},
   "outputs": [
    {
     "data": {
      "text/plain": [
       "0.08991091091091091"
      ]
     },
     "execution_count": 334,
     "metadata": {},
     "output_type": "execute_result"
    }
   ],
   "source": [
    "x1 = choose_date(df, datetime.datetime(2019, 6, 18, 0, 0), 90, 0.25) #получаем необходимую подвыборку\n",
    "mean = x1.revenue_amount.mean()\n",
    "std = x1.revenue_amount.std()\n",
    "alpha = 0.01\n",
    "power = 0.8\n",
    "mde, effects, volums = calculate_mde(mean=mean, std=std, alpha=alpha, power=power, n=x1.shape[0])\n",
    "mde"
   ]
  },
  {
   "cell_type": "markdown",
   "metadata": {},
   "source": [
    "Увеличим размер тестовой группы до 50%:"
   ]
  },
  {
   "cell_type": "code",
   "execution_count": 476,
   "metadata": {},
   "outputs": [
    {
     "data": {
      "text/plain": [
       "0.05894194194194191"
      ]
     },
     "execution_count": 476,
     "metadata": {},
     "output_type": "execute_result"
    }
   ],
   "source": [
    "x1 = choose_date(df, datetime.datetime(2019, 6, 18, 0, 0), 30, 0.5) #получаем необходимую подвыборку\n",
    "mean = x1.revenue_amount.mean()\n",
    "std = x1.revenue_amount.std()\n",
    "alpha = 0.01\n",
    "power = 0.8\n",
    "mde, effects, volums = calculate_mde(mean=mean, std=std, alpha=alpha, power=power, n=x1.shape[0])\n",
    "mde"
   ]
  },
  {
   "cell_type": "code",
   "execution_count": 477,
   "metadata": {},
   "outputs": [
    {
     "data": {
      "text/plain": [
       "6761.943172332689"
      ]
     },
     "execution_count": 477,
     "metadata": {},
     "output_type": "execute_result"
    }
   ],
   "source": [
    "std"
   ]
  },
  {
   "cell_type": "code",
   "execution_count": 336,
   "metadata": {},
   "outputs": [
    {
     "data": {
      "text/plain": [
       "0.05744344344344343"
      ]
     },
     "execution_count": 336,
     "metadata": {},
     "output_type": "execute_result"
    }
   ],
   "source": [
    "x1 = choose_date(df, datetime.datetime(2019, 6, 18, 0, 0), 60, 0.5) #получаем необходимую подвыборку\n",
    "mean = x1.revenue_amount.mean()\n",
    "std = x1.revenue_amount.std()\n",
    "alpha = 0.01\n",
    "power = 0.8\n",
    "mde, effects, volums = calculate_mde(mean=mean, std=std, alpha=alpha, power=power, n=x1.shape[0])\n",
    "mde"
   ]
  },
  {
   "cell_type": "code",
   "execution_count": 337,
   "metadata": {},
   "outputs": [
    {
     "data": {
      "text/plain": [
       "0.05744344344344343"
      ]
     },
     "execution_count": 337,
     "metadata": {},
     "output_type": "execute_result"
    }
   ],
   "source": [
    "x1 = choose_date(df, datetime.datetime(2019, 6, 18, 0, 0), 90, 0.5) #получаем необходимую подвыборку\n",
    "mean = x1.revenue_amount.mean()\n",
    "std = x1.revenue_amount.std()\n",
    "alpha = 0.01\n",
    "power = 0.8\n",
    "mde, effects, volums = calculate_mde(mean=mean, std=std, alpha=alpha, power=power, n=x1.shape[0])\n",
    "mde"
   ]
  },
  {
   "cell_type": "markdown",
   "metadata": {},
   "source": [
    "Таким образом, видим, что не смотря на задействование максимального количества ресурсов (по продолжительности и размеру выборок), MDE остается достаточноо большим (6% - многовато для выручки, должно быть сильное изменение продукта для такого роста/падения) -> нужно снижать дисперсию."
   ]
  },
  {
   "cell_type": "markdown",
   "metadata": {},
   "source": [
    "### Снижение дисперсии (CUPED)"
   ]
  },
  {
   "cell_type": "markdown",
   "metadata": {},
   "source": [
    "Так как имеем достаточно много исторических данных, то можем воспользоваться подходом CUPED для снижения дисперсии -> увеличения чувтсвительности наших тестов."
   ]
  },
  {
   "cell_type": "code",
   "execution_count": 6,
   "metadata": {},
   "outputs": [],
   "source": [
    "def choose_pre_period(data, start_date, delta, users): \n",
    "    tmp = data[\n",
    "        (data.event_date>=start_date)&\n",
    "        (data.event_date<=start_date+datetime.timedelta(days=delta))&\n",
    "        (data.user_id.isin(users))\n",
    "    ]\n",
    "    tmp=tmp.groupby(['user_id']).sum().reset_index()\n",
    "    return tmp"
   ]
  },
  {
   "cell_type": "markdown",
   "metadata": {},
   "source": [
    "Возьмем первый возможный период для начала теста - 30 дней спустя минимальной даты (эти 30 дней будут предпериодом):"
   ]
  },
  {
   "cell_type": "code",
   "execution_count": 41,
   "metadata": {},
   "outputs": [],
   "source": [
    "x = choose_date(df, datetime.datetime(2019, 7, 18, 0, 0), 30, 0.5) #получаем необходимую подвыборку"
   ]
  },
  {
   "cell_type": "code",
   "execution_count": 42,
   "metadata": {},
   "outputs": [
    {
     "data": {
      "text/html": [
       "<div>\n",
       "<style scoped>\n",
       "    .dataframe tbody tr th:only-of-type {\n",
       "        vertical-align: middle;\n",
       "    }\n",
       "\n",
       "    .dataframe tbody tr th {\n",
       "        vertical-align: top;\n",
       "    }\n",
       "\n",
       "    .dataframe thead th {\n",
       "        text-align: right;\n",
       "    }\n",
       "</style>\n",
       "<table border=\"1\" class=\"dataframe\">\n",
       "  <thead>\n",
       "    <tr style=\"text-align: right;\">\n",
       "      <th></th>\n",
       "      <th>user_id</th>\n",
       "      <th>user_segment</th>\n",
       "      <th>category</th>\n",
       "      <th>region</th>\n",
       "      <th>revenue_amount</th>\n",
       "    </tr>\n",
       "  </thead>\n",
       "  <tbody>\n",
       "    <tr>\n",
       "      <th>0</th>\n",
       "      <td>277934167554935</td>\n",
       "      <td>2.851289e+19</td>\n",
       "      <td>8.645705e+19</td>\n",
       "      <td>3.301742e+19</td>\n",
       "      <td>4832.0</td>\n",
       "    </tr>\n",
       "    <tr>\n",
       "      <th>1</th>\n",
       "      <td>303610674901026</td>\n",
       "      <td>7.128223e+18</td>\n",
       "      <td>1.725420e+17</td>\n",
       "      <td>1.156743e+19</td>\n",
       "      <td>772.0</td>\n",
       "    </tr>\n",
       "    <tr>\n",
       "      <th>2</th>\n",
       "      <td>333739223557249</td>\n",
       "      <td>9.253889e+18</td>\n",
       "      <td>2.944463e+18</td>\n",
       "      <td>6.874165e+18</td>\n",
       "      <td>126.0</td>\n",
       "    </tr>\n",
       "    <tr>\n",
       "      <th>3</th>\n",
       "      <td>374386813024644</td>\n",
       "      <td>9.253889e+18</td>\n",
       "      <td>1.013046e+19</td>\n",
       "      <td>2.093354e+18</td>\n",
       "      <td>185.0</td>\n",
       "    </tr>\n",
       "    <tr>\n",
       "      <th>4</th>\n",
       "      <td>460080492411737</td>\n",
       "      <td>9.253889e+18</td>\n",
       "      <td>1.196665e+19</td>\n",
       "      <td>9.396608e+18</td>\n",
       "      <td>180.0</td>\n",
       "    </tr>\n",
       "  </tbody>\n",
       "</table>\n",
       "</div>"
      ],
      "text/plain": [
       "           user_id  user_segment      category        region  revenue_amount\n",
       "0  277934167554935  2.851289e+19  8.645705e+19  3.301742e+19          4832.0\n",
       "1  303610674901026  7.128223e+18  1.725420e+17  1.156743e+19           772.0\n",
       "2  333739223557249  9.253889e+18  2.944463e+18  6.874165e+18           126.0\n",
       "3  374386813024644  9.253889e+18  1.013046e+19  2.093354e+18           185.0\n",
       "4  460080492411737  9.253889e+18  1.196665e+19  9.396608e+18           180.0"
      ]
     },
     "execution_count": 42,
     "metadata": {},
     "output_type": "execute_result"
    }
   ],
   "source": [
    "x_pre_period = choose_pre_period(df, datetime.datetime(2019, 6, 18, 0, 0), 30, users=x.user_id)\n",
    "x_pre_period.head()"
   ]
  },
  {
   "cell_type": "code",
   "execution_count": 43,
   "metadata": {},
   "outputs": [
    {
     "data": {
      "text/html": [
       "<div>\n",
       "<style scoped>\n",
       "    .dataframe tbody tr th:only-of-type {\n",
       "        vertical-align: middle;\n",
       "    }\n",
       "\n",
       "    .dataframe tbody tr th {\n",
       "        vertical-align: top;\n",
       "    }\n",
       "\n",
       "    .dataframe thead th {\n",
       "        text-align: right;\n",
       "    }\n",
       "</style>\n",
       "<table border=\"1\" class=\"dataframe\">\n",
       "  <thead>\n",
       "    <tr style=\"text-align: right;\">\n",
       "      <th></th>\n",
       "      <th>index</th>\n",
       "      <th>user_id</th>\n",
       "      <th>user_segment</th>\n",
       "      <th>category</th>\n",
       "      <th>region</th>\n",
       "      <th>revenue_amount</th>\n",
       "      <th>pre_revenue_amount</th>\n",
       "    </tr>\n",
       "  </thead>\n",
       "  <tbody>\n",
       "    <tr>\n",
       "      <th>0</th>\n",
       "      <td>0</td>\n",
       "      <td>702221222224</td>\n",
       "      <td>4.626945e+18</td>\n",
       "      <td>6.742558e+18</td>\n",
       "      <td>2.201389e+18</td>\n",
       "      <td>356.0</td>\n",
       "      <td>0.0</td>\n",
       "    </tr>\n",
       "    <tr>\n",
       "      <th>1</th>\n",
       "      <td>6</td>\n",
       "      <td>73834573097944</td>\n",
       "      <td>9.253889e+18</td>\n",
       "      <td>6.813584e+18</td>\n",
       "      <td>2.232932e+18</td>\n",
       "      <td>2392.0</td>\n",
       "      <td>0.0</td>\n",
       "    </tr>\n",
       "    <tr>\n",
       "      <th>2</th>\n",
       "      <td>8</td>\n",
       "      <td>87029396555710</td>\n",
       "      <td>4.626945e+18</td>\n",
       "      <td>1.560592e+18</td>\n",
       "      <td>6.847539e+16</td>\n",
       "      <td>111.0</td>\n",
       "      <td>0.0</td>\n",
       "    </tr>\n",
       "    <tr>\n",
       "      <th>3</th>\n",
       "      <td>9</td>\n",
       "      <td>88433173713624</td>\n",
       "      <td>4.752148e+18</td>\n",
       "      <td>3.489802e+17</td>\n",
       "      <td>6.826400e+18</td>\n",
       "      <td>68.0</td>\n",
       "      <td>0.0</td>\n",
       "    </tr>\n",
       "    <tr>\n",
       "      <th>4</th>\n",
       "      <td>10</td>\n",
       "      <td>111281855931038</td>\n",
       "      <td>4.626945e+18</td>\n",
       "      <td>6.742558e+18</td>\n",
       "      <td>5.780544e+18</td>\n",
       "      <td>139.0</td>\n",
       "      <td>0.0</td>\n",
       "    </tr>\n",
       "  </tbody>\n",
       "</table>\n",
       "</div>"
      ],
      "text/plain": [
       "   index          user_id  user_segment      category        region  \\\n",
       "0      0     702221222224  4.626945e+18  6.742558e+18  2.201389e+18   \n",
       "1      6   73834573097944  9.253889e+18  6.813584e+18  2.232932e+18   \n",
       "2      8   87029396555710  4.626945e+18  1.560592e+18  6.847539e+16   \n",
       "3      9   88433173713624  4.752148e+18  3.489802e+17  6.826400e+18   \n",
       "4     10  111281855931038  4.626945e+18  6.742558e+18  5.780544e+18   \n",
       "\n",
       "   revenue_amount  pre_revenue_amount  \n",
       "0           356.0                 0.0  \n",
       "1          2392.0                 0.0  \n",
       "2           111.0                 0.0  \n",
       "3            68.0                 0.0  \n",
       "4           139.0                 0.0  "
      ]
     },
     "execution_count": 43,
     "metadata": {},
     "output_type": "execute_result"
    }
   ],
   "source": [
    "x_merged = x.merge(x_pre_period[['user_id', 'revenue_amount']], how='left', on='user_id')\n",
    "x_merged['revenue_amount_y'].fillna(0, inplace=True)\n",
    "x_merged.rename(columns={'revenue_amount_x': 'revenue_amount', 'revenue_amount_y': 'pre_revenue_amount'}, inplace=True)\n",
    "x_merged.head()"
   ]
  },
  {
   "cell_type": "markdown",
   "metadata": {},
   "source": [
    "Считаем среднее предпериода:"
   ]
  },
  {
   "cell_type": "code",
   "execution_count": 44,
   "metadata": {},
   "outputs": [],
   "source": [
    "x_merged['pre_revenue_average']=x_merged.pre_revenue_amount.mean() "
   ]
  },
  {
   "cell_type": "markdown",
   "metadata": {},
   "source": [
    "Считаем множитель для CUPED:"
   ]
  },
  {
   "cell_type": "code",
   "execution_count": 45,
   "metadata": {},
   "outputs": [
    {
     "data": {
      "text/plain": [
       "(305297,)"
      ]
     },
     "execution_count": 45,
     "metadata": {},
     "output_type": "execute_result"
    }
   ],
   "source": [
    "x_merged.revenue_amount.shape"
   ]
  },
  {
   "cell_type": "code",
   "execution_count": 46,
   "metadata": {},
   "outputs": [
    {
     "data": {
      "text/plain": [
       "(305297,)"
      ]
     },
     "execution_count": 46,
     "metadata": {},
     "output_type": "execute_result"
    }
   ],
   "source": [
    "x_merged.pre_revenue_amount.shape"
   ]
  },
  {
   "cell_type": "code",
   "execution_count": 47,
   "metadata": {},
   "outputs": [],
   "source": [
    "teta = np.cov(x_merged.revenue_amount, x_merged.pre_revenue_amount, ddof=1)[1,0]/np.var(x_merged.pre_revenue_amount, ddof=1)"
   ]
  },
  {
   "cell_type": "code",
   "execution_count": 48,
   "metadata": {},
   "outputs": [],
   "source": [
    "corr = np.corrcoef(x_merged.revenue_amount, x_merged.pre_revenue_amount)[1,0] "
   ]
  },
  {
   "cell_type": "markdown",
   "metadata": {},
   "source": [
    "Считаем CUPED-метрику:"
   ]
  },
  {
   "cell_type": "code",
   "execution_count": 49,
   "metadata": {},
   "outputs": [],
   "source": [
    "x_merged['cuped_revenue_amount'] = x_merged.revenue_amount - teta * (x_merged.pre_revenue_amount - x_merged.pre_revenue_average)"
   ]
  },
  {
   "cell_type": "code",
   "execution_count": 50,
   "metadata": {},
   "outputs": [
    {
     "data": {
      "text/html": [
       "<div>\n",
       "<style scoped>\n",
       "    .dataframe tbody tr th:only-of-type {\n",
       "        vertical-align: middle;\n",
       "    }\n",
       "\n",
       "    .dataframe tbody tr th {\n",
       "        vertical-align: top;\n",
       "    }\n",
       "\n",
       "    .dataframe thead th {\n",
       "        text-align: right;\n",
       "    }\n",
       "</style>\n",
       "<table border=\"1\" class=\"dataframe\">\n",
       "  <thead>\n",
       "    <tr style=\"text-align: right;\">\n",
       "      <th></th>\n",
       "      <th>index</th>\n",
       "      <th>user_id</th>\n",
       "      <th>user_segment</th>\n",
       "      <th>category</th>\n",
       "      <th>region</th>\n",
       "      <th>revenue_amount</th>\n",
       "      <th>pre_revenue_amount</th>\n",
       "      <th>pre_revenue_average</th>\n",
       "      <th>cuped_revenue_amount</th>\n",
       "    </tr>\n",
       "  </thead>\n",
       "  <tbody>\n",
       "    <tr>\n",
       "      <th>0</th>\n",
       "      <td>0</td>\n",
       "      <td>702221222224</td>\n",
       "      <td>4.626945e+18</td>\n",
       "      <td>6.742558e+18</td>\n",
       "      <td>2.201389e+18</td>\n",
       "      <td>356.0</td>\n",
       "      <td>0.0</td>\n",
       "      <td>802.732022</td>\n",
       "      <td>1040.73624</td>\n",
       "    </tr>\n",
       "    <tr>\n",
       "      <th>1</th>\n",
       "      <td>6</td>\n",
       "      <td>73834573097944</td>\n",
       "      <td>9.253889e+18</td>\n",
       "      <td>6.813584e+18</td>\n",
       "      <td>2.232932e+18</td>\n",
       "      <td>2392.0</td>\n",
       "      <td>0.0</td>\n",
       "      <td>802.732022</td>\n",
       "      <td>3076.73624</td>\n",
       "    </tr>\n",
       "    <tr>\n",
       "      <th>2</th>\n",
       "      <td>8</td>\n",
       "      <td>87029396555710</td>\n",
       "      <td>4.626945e+18</td>\n",
       "      <td>1.560592e+18</td>\n",
       "      <td>6.847539e+16</td>\n",
       "      <td>111.0</td>\n",
       "      <td>0.0</td>\n",
       "      <td>802.732022</td>\n",
       "      <td>795.73624</td>\n",
       "    </tr>\n",
       "    <tr>\n",
       "      <th>3</th>\n",
       "      <td>9</td>\n",
       "      <td>88433173713624</td>\n",
       "      <td>4.752148e+18</td>\n",
       "      <td>3.489802e+17</td>\n",
       "      <td>6.826400e+18</td>\n",
       "      <td>68.0</td>\n",
       "      <td>0.0</td>\n",
       "      <td>802.732022</td>\n",
       "      <td>752.73624</td>\n",
       "    </tr>\n",
       "    <tr>\n",
       "      <th>4</th>\n",
       "      <td>10</td>\n",
       "      <td>111281855931038</td>\n",
       "      <td>4.626945e+18</td>\n",
       "      <td>6.742558e+18</td>\n",
       "      <td>5.780544e+18</td>\n",
       "      <td>139.0</td>\n",
       "      <td>0.0</td>\n",
       "      <td>802.732022</td>\n",
       "      <td>823.73624</td>\n",
       "    </tr>\n",
       "  </tbody>\n",
       "</table>\n",
       "</div>"
      ],
      "text/plain": [
       "   index          user_id  user_segment      category        region  \\\n",
       "0      0     702221222224  4.626945e+18  6.742558e+18  2.201389e+18   \n",
       "1      6   73834573097944  9.253889e+18  6.813584e+18  2.232932e+18   \n",
       "2      8   87029396555710  4.626945e+18  1.560592e+18  6.847539e+16   \n",
       "3      9   88433173713624  4.752148e+18  3.489802e+17  6.826400e+18   \n",
       "4     10  111281855931038  4.626945e+18  6.742558e+18  5.780544e+18   \n",
       "\n",
       "   revenue_amount  pre_revenue_amount  pre_revenue_average  \\\n",
       "0           356.0                 0.0           802.732022   \n",
       "1          2392.0                 0.0           802.732022   \n",
       "2           111.0                 0.0           802.732022   \n",
       "3            68.0                 0.0           802.732022   \n",
       "4           139.0                 0.0           802.732022   \n",
       "\n",
       "   cuped_revenue_amount  \n",
       "0            1040.73624  \n",
       "1            3076.73624  \n",
       "2             795.73624  \n",
       "3             752.73624  \n",
       "4             823.73624  "
      ]
     },
     "execution_count": 50,
     "metadata": {},
     "output_type": "execute_result"
    }
   ],
   "source": [
    "x_merged.head()"
   ]
  },
  {
   "cell_type": "markdown",
   "metadata": {},
   "source": [
    "Считаем MDE для CUPED-метрики:"
   ]
  },
  {
   "cell_type": "code",
   "execution_count": 51,
   "metadata": {},
   "outputs": [
    {
     "data": {
      "text/plain": [
       "0.03396696696696694"
      ]
     },
     "execution_count": 51,
     "metadata": {},
     "output_type": "execute_result"
    }
   ],
   "source": [
    "mean = x_merged.cuped_revenue_amount.mean()\n",
    "std = x_merged.cuped_revenue_amount.std()\n",
    "alpha = 0.01\n",
    "power = 0.8\n",
    "mde, effects, volums = calculate_mde(mean=mean, std=std, alpha=alpha, power=power, n=x_merged.shape[0])\n",
    "mde"
   ]
  },
  {
   "cell_type": "markdown",
   "metadata": {},
   "source": [
    "Таким образом, уже сейчас видим значительное снижение MDE."
   ]
  },
  {
   "cell_type": "markdown",
   "metadata": {},
   "source": [
    "#### Проверка сезональности "
   ]
  },
  {
   "cell_type": "markdown",
   "metadata": {},
   "source": [
    "Проверим насколько данный подход (CUPED) подвержен сезональности -> посмотрим как меняется MDE, если применять его в другие периоды и определим \"cамый минимальный\" MDE:"
   ]
  },
  {
   "cell_type": "code",
   "execution_count": 18,
   "metadata": {},
   "outputs": [
    {
     "data": {
      "text/plain": [
       "Timestamp('2019-12-09 00:00:00')"
      ]
     },
     "execution_count": 18,
     "metadata": {},
     "output_type": "execute_result"
    }
   ],
   "source": [
    "df.event_date.max()"
   ]
  },
  {
   "cell_type": "markdown",
   "metadata": {},
   "source": [
    "В качестве шага будем использовать недели (кажется, что короче нет смысла):"
   ]
  },
  {
   "cell_type": "code",
   "execution_count": 57,
   "metadata": {},
   "outputs": [
    {
     "name": "stdout",
     "output_type": "stream",
     "text": [
      "Количество подходящих для эксперимента полных недель: 17\n"
     ]
    }
   ],
   "source": [
    "cur = datetime.datetime(2019, 7, 19, 0, 0)\n",
    "max_date = datetime.datetime(2019, 12, 9, 0, 0)\n",
    "counter = 0\n",
    "while cur <= max_date - datetime.timedelta(days=30):\n",
    "    cur += datetime.timedelta(days=7)\n",
    "    counter += 1\n",
    "print('Количество подходящих для эксперимента полных недель:', counter)"
   ]
  },
  {
   "cell_type": "code",
   "execution_count": 52,
   "metadata": {},
   "outputs": [],
   "source": [
    "def predict_mde(data, date, delta, share):\n",
    "    x = choose_date(data, date, delta, share) #получаем необходимую подвыборку\n",
    "    x_pre_period = choose_pre_period(data, date - datetime.timedelta(days=30), 30, users=x.user_id)\n",
    "    x_merged = x.merge(x_pre_period[['user_id', 'revenue_amount']], how='left', on='user_id')\n",
    "    x_merged['revenue_amount_y'].fillna(0, inplace=True)\n",
    "    x_merged.rename(columns={'revenue_amount_x': 'revenue_amount', 'revenue_amount_y': 'pre_revenue_amount'}, inplace=True)\n",
    "    x_merged['pre_revenue_average']=x_merged.pre_revenue_amount.mean() \n",
    "    teta = np.cov(x_merged.revenue_amount, x_merged.pre_revenue_amount, ddof=1)[1,0]/np.var(x_merged.pre_revenue_amount, ddof=1)\n",
    "    corr = np.corrcoef(x_merged.revenue_amount, x_merged.pre_revenue_amount)[1,0] \n",
    "    x_merged['cuped_revenue_amount'] = x_merged.revenue_amount - teta * (x_merged.pre_revenue_amount - x_merged.pre_revenue_average)\n",
    "\n",
    "    mean = x_merged.cuped_revenue_amount.mean()\n",
    "    std = x_merged.cuped_revenue_amount.std()\n",
    "    alpha = 0.01\n",
    "    power = 0.8\n",
    "    mde, effects, volums = calculate_mde(mean=mean, std=std, alpha=alpha, power=power, n=x_merged.shape[0])\n",
    "    return mde"
   ]
  },
  {
   "cell_type": "code",
   "execution_count": 71,
   "metadata": {},
   "outputs": [],
   "source": [
    "MDE = []\n",
    "dates = []\n",
    "min_date = datetime.datetime(2019, 7, 19, 0, 0)\n",
    "min_mde = 1\n",
    "for i in range(17):\n",
    "    cur_date = datetime.datetime(2019, 7, 19, 0, 0) + datetime.timedelta(days=7*i)\n",
    "    cur_mde = predict_mde(df, cur_date, 30, 0.5)\n",
    "    MDE.append(cur_mde)\n",
    "    if cur_mde < min_mde:\n",
    "        min_mde = cur_mde\n",
    "        min_date = cur_date\n",
    "    dates.append(cur_date)"
   ]
  },
  {
   "cell_type": "code",
   "execution_count": 72,
   "metadata": {},
   "outputs": [
    {
     "data": {
      "text/plain": [
       "[<matplotlib.lines.Line2D at 0x20430a72948>]"
      ]
     },
     "execution_count": 72,
     "metadata": {},
     "output_type": "execute_result"
    },
    {
     "data": {
      "image/png": "[encoded data removed]",
      "text/plain": [
       "<Figure size 1080x432 with 1 Axes>"
      ]
     },
     "metadata": {
      "needs_background": "light"
     },
     "output_type": "display_data"
    }
   ],
   "source": [
    "fig = plt.figure(figsize=(15, 6))\n",
    "plt.plot(dates, MDE)"
   ]
  },
  {
   "cell_type": "code",
   "execution_count": 73,
   "metadata": {},
   "outputs": [
    {
     "name": "stdout",
     "output_type": "stream",
     "text": [
      "0.021978978978978936 2019-09-20 00:00:00\n"
     ]
    }
   ],
   "source": [
    "print(min_mde, min_date)"
   ]
  },
  {
   "cell_type": "markdown",
   "metadata": {},
   "source": [
    "Таким образом, видим, что MDE подвержен изменению в зависимости от начала эксперимента (сезональности). Наименьший MDE получился на уровне 2.2% (более чем в 2 раза снизили исходный)."
   ]
  },
  {
   "cell_type": "markdown",
   "metadata": {},
   "source": [
    "**Оптимизация подхода путем варьирования количества дней до теста**"
   ]
  },
  {
   "cell_type": "markdown",
   "metadata": {},
   "source": [
    "Попробуем выбрать другой препериод (будем отдаляться от исходного с шагом в 1 день). Посмотрим, сможем ли еще сильнее снизить полученный MDE (2.2%)."
   ]
  },
  {
   "cell_type": "code",
   "execution_count": 80,
   "metadata": {},
   "outputs": [],
   "source": [
    "def predict_mde_with_shift(data, date, delta, share, shift):\n",
    "    x = choose_date(data, date, delta, share) #получаем необходимую подвыборку\n",
    "    x_pre_period = choose_pre_period(data, date - datetime.timedelta(days=30+shift), 30, users=x.user_id)\n",
    "    x_merged = x.merge(x_pre_period[['user_id', 'revenue_amount']], how='left', on='user_id')\n",
    "    x_merged['revenue_amount_y'].fillna(0, inplace=True)\n",
    "    x_merged.rename(columns={'revenue_amount_x': 'revenue_amount', 'revenue_amount_y': 'pre_revenue_amount'}, inplace=True)\n",
    "    x_merged['pre_revenue_average']=x_merged.pre_revenue_amount.mean() \n",
    "    teta = np.cov(x_merged.revenue_amount, x_merged.pre_revenue_amount, ddof=1)[1,0]/np.var(x_merged.pre_revenue_amount, ddof=1)\n",
    "    corr = np.corrcoef(x_merged.revenue_amount, x_merged.pre_revenue_amount)[1,0] \n",
    "    x_merged['cuped_revenue_amount'] = x_merged.revenue_amount - teta * (x_merged.pre_revenue_amount - x_merged.pre_revenue_average)\n",
    "\n",
    "    mean = x_merged.cuped_revenue_amount.mean()\n",
    "    std = x_merged.cuped_revenue_amount.std()\n",
    "    alpha = 0.01\n",
    "    power = 0.8\n",
    "    mde, effects, volums = calculate_mde(mean=mean, std=std, alpha=alpha, power=power, n=x_merged.shape[0])\n",
    "    return mde"
   ]
  },
  {
   "cell_type": "code",
   "execution_count": 10,
   "metadata": {},
   "outputs": [
    {
     "name": "stdout",
     "output_type": "stream",
     "text": [
      "Количество подходящих для эксперимента дней: 33\n"
     ]
    }
   ],
   "source": [
    "cur = datetime.datetime(2019, 9, 20, 0, 0) - datetime.timedelta(days=30)\n",
    "minimal_date = datetime.datetime(2019, 7, 19, 0, 0)\n",
    "counter = 0\n",
    "while cur > minimal_date:\n",
    "    cur -= datetime.timedelta(days=1)\n",
    "    counter += 1\n",
    "print('Количество подходящих для эксперимента дней:', counter)"
   ]
  },
  {
   "cell_type": "code",
   "execution_count": 90,
   "metadata": {},
   "outputs": [],
   "source": [
    "MDE = []\n",
    "dates = []\n",
    "min_date = datetime.datetime(2019, 9, 20, 0, 0) - datetime.timedelta(days=30)\n",
    "min_mde = 1\n",
    "for i in range(33):\n",
    "    cur_date = datetime.datetime(2019, 9, 20, 0, 0) - datetime.timedelta(days=30+i)\n",
    "    cur_mde = predict_mde_with_shift(df, cur_date, 30, 0.5, i)\n",
    "    MDE.append(cur_mde)\n",
    "    if cur_mde < min_mde:\n",
    "        min_mde = cur_mde\n",
    "        min_date = cur_date\n",
    "    dates.append(cur_date)"
   ]
  },
  {
   "cell_type": "code",
   "execution_count": 91,
   "metadata": {},
   "outputs": [
    {
     "data": {
      "text/plain": [
       "[<matplotlib.lines.Line2D at 0x2043290c608>]"
      ]
     },
     "execution_count": 91,
     "metadata": {},
     "output_type": "execute_result"
    },
    {
     "data": {
      "image/png": "[encoded data removed]",
      "text/plain": [
       "<Figure size 1080x432 with 1 Axes>"
      ]
     },
     "metadata": {
      "needs_background": "light"
     },
     "output_type": "display_data"
    }
   ],
   "source": [
    "fig = plt.figure(figsize=(15, 6))\n",
    "plt.plot(dates, MDE)"
   ]
  },
  {
   "cell_type": "code",
   "execution_count": 92,
   "metadata": {},
   "outputs": [
    {
     "name": "stdout",
     "output_type": "stream",
     "text": [
      "0.02297797797797796 2019-08-21 00:00:00\n"
     ]
    }
   ],
   "source": [
    "print(min_mde, min_date)"
   ]
  },
  {
   "cell_type": "markdown",
   "metadata": {},
   "source": [
    "Видим, что MDE снижается при приближении предпериода к экспериментальному -> еще больше снизить MDE не удалось."
   ]
  },
  {
   "cell_type": "markdown",
   "metadata": {},
   "source": [
    "### Стратификация"
   ]
  },
  {
   "cell_type": "markdown",
   "metadata": {},
   "source": [
    "Попробуем другой подход - стратификацию.  \n",
    "Начнем с пользовательских сегментов (*user_segment*):"
   ]
  },
  {
   "cell_type": "code",
   "execution_count": 479,
   "metadata": {},
   "outputs": [],
   "source": [
    "def choose_date_for_strat(data, start_date, delta, share): \n",
    "    tmp = data[(data.event_date>=start_date)&(data.event_date<=start_date+datetime.timedelta(days=delta))]\n",
    "    x = tmp[(tmp.user_id)%100<=100*share].reset_index()\n",
    "    return x"
   ]
  },
  {
   "cell_type": "markdown",
   "metadata": {},
   "source": [
    "В данных обнаружились пользователи, которые относятся к разным сегментам (нарушается условие для применения стратификации). Пойдем на упрощение - назначим каждому пользователю тот сегмент, который у него встретим первым."
   ]
  },
  {
   "cell_type": "code",
   "execution_count": 470,
   "metadata": {},
   "outputs": [
    {
     "data": {
      "text/html": [
       "<div>\n",
       "<style scoped>\n",
       "    .dataframe tbody tr th:only-of-type {\n",
       "        vertical-align: middle;\n",
       "    }\n",
       "\n",
       "    .dataframe tbody tr th {\n",
       "        vertical-align: top;\n",
       "    }\n",
       "\n",
       "    .dataframe thead th {\n",
       "        text-align: right;\n",
       "    }\n",
       "</style>\n",
       "<table border=\"1\" class=\"dataframe\">\n",
       "  <thead>\n",
       "    <tr style=\"text-align: right;\">\n",
       "      <th></th>\n",
       "      <th>user_id</th>\n",
       "      <th>revenue_amount</th>\n",
       "      <th>user_segment</th>\n",
       "      <th>revenue_amount_probability</th>\n",
       "    </tr>\n",
       "  </thead>\n",
       "  <tbody>\n",
       "    <tr>\n",
       "      <th>0</th>\n",
       "      <td>7562887359106</td>\n",
       "      <td>105.0</td>\n",
       "      <td>4626944681007198896</td>\n",
       "      <td>0.587777</td>\n",
       "    </tr>\n",
       "    <tr>\n",
       "      <th>1</th>\n",
       "      <td>133237288205136</td>\n",
       "      <td>160.0</td>\n",
       "      <td>4626944681007198896</td>\n",
       "      <td>0.587777</td>\n",
       "    </tr>\n",
       "    <tr>\n",
       "      <th>2</th>\n",
       "      <td>209672890150349</td>\n",
       "      <td>397.0</td>\n",
       "      <td>4626944681007198896</td>\n",
       "      <td>0.587777</td>\n",
       "    </tr>\n",
       "    <tr>\n",
       "      <th>3</th>\n",
       "      <td>239972521062310</td>\n",
       "      <td>574.0</td>\n",
       "      <td>4626944681007198896</td>\n",
       "      <td>0.587777</td>\n",
       "    </tr>\n",
       "    <tr>\n",
       "      <th>4</th>\n",
       "      <td>277934167554935</td>\n",
       "      <td>4832.0</td>\n",
       "      <td>2376074197230840906</td>\n",
       "      <td>0.389062</td>\n",
       "    </tr>\n",
       "  </tbody>\n",
       "</table>\n",
       "</div>"
      ],
      "text/plain": [
       "           user_id  revenue_amount         user_segment  \\\n",
       "0    7562887359106           105.0  4626944681007198896   \n",
       "1  133237288205136           160.0  4626944681007198896   \n",
       "2  209672890150349           397.0  4626944681007198896   \n",
       "3  239972521062310           574.0  4626944681007198896   \n",
       "4  277934167554935          4832.0  2376074197230840906   \n",
       "\n",
       "   revenue_amount_probability  \n",
       "0                    0.587777  \n",
       "1                    0.587777  \n",
       "2                    0.587777  \n",
       "3                    0.587777  \n",
       "4                    0.389062  "
      ]
     },
     "execution_count": 470,
     "metadata": {},
     "output_type": "execute_result"
    }
   ],
   "source": [
    "x_not_groupby = choose_date_for_strat(df, datetime.datetime(2019, 6, 18, 0, 0), 30, 0.5) #получаем необходимую подвыборку\n",
    "x_seg = x_not_groupby.drop_duplicates(subset=['user_id'], keep='first')\n",
    "x = x_not_groupby.groupby(['user_id'], as_index=False).sum()\n",
    "x.drop(['user_segment', 'category', 'region', 'index'], axis=1, inplace=True)\n",
    "x = x.merge(x_seg[['user_id', 'user_segment']], how='left', on='user_id')\n",
    "\n",
    "strata_p = x.groupby(['user_segment']).count()/x.count()[0]\n",
    "data_strat = x.join(strata_p, on='user_segment', rsuffix='_probability')\n",
    "data_strat.drop(['user_id_probability'], axis=1, inplace=True)\n",
    "data_strat.head()"
   ]
  },
  {
   "cell_type": "markdown",
   "metadata": {},
   "source": [
    "Сначала сравним средние:"
   ]
  },
  {
   "cell_type": "code",
   "execution_count": 471,
   "metadata": {},
   "outputs": [
    {
     "data": {
      "text/plain": [
       "987.4865786393725"
      ]
     },
     "execution_count": 471,
     "metadata": {},
     "output_type": "execute_result"
    }
   ],
   "source": [
    "x.revenue_amount.mean()"
   ]
  },
  {
   "cell_type": "code",
   "execution_count": 474,
   "metadata": {},
   "outputs": [
    {
     "data": {
      "text/plain": [
       "987.4865786393724"
      ]
     },
     "execution_count": 474,
     "metadata": {},
     "output_type": "execute_result"
    }
   ],
   "source": [
    "mean_strat = (data_strat.groupby(['user_segment']).mean().revenue_amount*data_strat.groupby(['user_segment']).mean().revenue_amount_probability).sum()\n",
    "mean_strat"
   ]
  },
  {
   "cell_type": "markdown",
   "metadata": {},
   "source": [
    "Видим, что средние совпадают -> все верно.  \n",
    "Посмотрим на СКО:"
   ]
  },
  {
   "cell_type": "code",
   "execution_count": 472,
   "metadata": {},
   "outputs": [
    {
     "data": {
      "text/plain": [
       "6761.943172332689"
      ]
     },
     "execution_count": 472,
     "metadata": {},
     "output_type": "execute_result"
    }
   ],
   "source": [
    "std = (data_strat['revenue_amount'].var())**0.5\n",
    "std"
   ]
  },
  {
   "cell_type": "code",
   "execution_count": 473,
   "metadata": {},
   "outputs": [
    {
     "data": {
      "text/plain": [
       "6518.576714263713"
      ]
     },
     "execution_count": 473,
     "metadata": {},
     "output_type": "execute_result"
    }
   ],
   "source": [
    "std_strat = ((data_strat.groupby(['user_segment']).var().revenue_amount*data_strat.groupby(['user_segment']).mean().revenue_amount_probability).sum()\n",
    ")**0.5\n",
    "std_strat"
   ]
  },
  {
   "cell_type": "markdown",
   "metadata": {},
   "source": [
    "Видим, что СКО, хоть и незначительно, но уменьшилось (а значит и дисперсия тоже).  \n",
    "Спрогнозируем MDE в этом случае:"
   ]
  },
  {
   "cell_type": "code",
   "execution_count": 475,
   "metadata": {},
   "outputs": [
    {
     "data": {
      "text/plain": [
       "0.05694394394394392"
      ]
     },
     "execution_count": 475,
     "metadata": {},
     "output_type": "execute_result"
    }
   ],
   "source": [
    "alpha = 0.01\n",
    "power = 0.8\n",
    "mde, effects, volums = calculate_mde(mean=mean_strat, std=std_strat, alpha=alpha, power=power, n=x.shape[0])\n",
    "mde"
   ]
  },
  {
   "cell_type": "markdown",
   "metadata": {},
   "source": [
    "Видим, что MDE тоже незначительно снизился."
   ]
  },
  {
   "cell_type": "markdown",
   "metadata": {},
   "source": [
    "Перейдем к категориям (*category*):"
   ]
  },
  {
   "cell_type": "code",
   "execution_count": 481,
   "metadata": {},
   "outputs": [
    {
     "data": {
      "text/html": [
       "<div>\n",
       "<style scoped>\n",
       "    .dataframe tbody tr th:only-of-type {\n",
       "        vertical-align: middle;\n",
       "    }\n",
       "\n",
       "    .dataframe tbody tr th {\n",
       "        vertical-align: top;\n",
       "    }\n",
       "\n",
       "    .dataframe thead th {\n",
       "        text-align: right;\n",
       "    }\n",
       "</style>\n",
       "<table border=\"1\" class=\"dataframe\">\n",
       "  <thead>\n",
       "    <tr style=\"text-align: right;\">\n",
       "      <th></th>\n",
       "      <th>user_id</th>\n",
       "      <th>revenue_amount</th>\n",
       "      <th>category</th>\n",
       "      <th>revenue_amount_probability</th>\n",
       "    </tr>\n",
       "  </thead>\n",
       "  <tbody>\n",
       "    <tr>\n",
       "      <th>0</th>\n",
       "      <td>7562887359106</td>\n",
       "      <td>105.0</td>\n",
       "      <td>7247164925237372155</td>\n",
       "      <td>0.033174</td>\n",
       "    </tr>\n",
       "    <tr>\n",
       "      <th>1</th>\n",
       "      <td>133237288205136</td>\n",
       "      <td>160.0</td>\n",
       "      <td>7204754148424990691</td>\n",
       "      <td>0.083069</td>\n",
       "    </tr>\n",
       "    <tr>\n",
       "      <th>2</th>\n",
       "      <td>209672890150349</td>\n",
       "      <td>397.0</td>\n",
       "      <td>1793067034829450750</td>\n",
       "      <td>0.048116</td>\n",
       "    </tr>\n",
       "    <tr>\n",
       "      <th>3</th>\n",
       "      <td>239972521062310</td>\n",
       "      <td>574.0</td>\n",
       "      <td>3429514168013826643</td>\n",
       "      <td>0.033247</td>\n",
       "    </tr>\n",
       "    <tr>\n",
       "      <th>4</th>\n",
       "      <td>277934167554935</td>\n",
       "      <td>4832.0</td>\n",
       "      <td>7204754148424990691</td>\n",
       "      <td>0.083069</td>\n",
       "    </tr>\n",
       "  </tbody>\n",
       "</table>\n",
       "</div>"
      ],
      "text/plain": [
       "           user_id  revenue_amount             category  \\\n",
       "0    7562887359106           105.0  7247164925237372155   \n",
       "1  133237288205136           160.0  7204754148424990691   \n",
       "2  209672890150349           397.0  1793067034829450750   \n",
       "3  239972521062310           574.0  3429514168013826643   \n",
       "4  277934167554935          4832.0  7204754148424990691   \n",
       "\n",
       "   revenue_amount_probability  \n",
       "0                    0.033174  \n",
       "1                    0.083069  \n",
       "2                    0.048116  \n",
       "3                    0.033247  \n",
       "4                    0.083069  "
      ]
     },
     "execution_count": 481,
     "metadata": {},
     "output_type": "execute_result"
    }
   ],
   "source": [
    "x_not_groupby = choose_date_for_strat(df, datetime.datetime(2019, 6, 18, 0, 0), 30, 0.5) #получаем необходимую подвыборку\n",
    "x_seg = x_not_groupby.drop_duplicates(subset=['user_id'], keep='first')\n",
    "x = x_not_groupby.groupby(['user_id'], as_index=False).sum()\n",
    "x.drop(['user_segment', 'category', 'region', 'index'], axis=1, inplace=True)\n",
    "x = x.merge(x_seg[['user_id', 'category']], how='left', on='user_id')\n",
    "\n",
    "strata_p = x.groupby(['category']).count()/x.count()[0]\n",
    "data_strat = x.join(strata_p, on='category', rsuffix='_probability')\n",
    "data_strat.drop(['user_id_probability'], axis=1, inplace=True)\n",
    "data_strat.head()"
   ]
  },
  {
   "cell_type": "markdown",
   "metadata": {},
   "source": [
    "Снова сравним средние:"
   ]
  },
  {
   "cell_type": "code",
   "execution_count": 484,
   "metadata": {},
   "outputs": [
    {
     "data": {
      "text/plain": [
       "987.4865786393725"
      ]
     },
     "execution_count": 484,
     "metadata": {},
     "output_type": "execute_result"
    }
   ],
   "source": [
    "x.revenue_amount.mean()"
   ]
  },
  {
   "cell_type": "code",
   "execution_count": 485,
   "metadata": {},
   "outputs": [
    {
     "data": {
      "text/plain": [
       "987.4865786393725"
      ]
     },
     "execution_count": 485,
     "metadata": {},
     "output_type": "execute_result"
    }
   ],
   "source": [
    "mean_strat = (data_strat.groupby(['category']).mean().revenue_amount*data_strat.groupby(['category']).mean().revenue_amount_probability).sum()\n",
    "mean_strat"
   ]
  },
  {
   "cell_type": "markdown",
   "metadata": {},
   "source": [
    "Видим, что средние совпадают -> все верно.  \n",
    "Посмотрим на СКО:"
   ]
  },
  {
   "cell_type": "code",
   "execution_count": 486,
   "metadata": {},
   "outputs": [
    {
     "data": {
      "text/plain": [
       "6761.943172332689"
      ]
     },
     "execution_count": 486,
     "metadata": {},
     "output_type": "execute_result"
    }
   ],
   "source": [
    "std = (x['revenue_amount'].var())**0.5\n",
    "std"
   ]
  },
  {
   "cell_type": "code",
   "execution_count": 490,
   "metadata": {},
   "outputs": [
    {
     "data": {
      "text/plain": [
       "6730.929179760961"
      ]
     },
     "execution_count": 490,
     "metadata": {},
     "output_type": "execute_result"
    }
   ],
   "source": [
    "std_strat = ((data_strat.groupby(['category']).var().revenue_amount*data_strat.groupby(['category']).mean().revenue_amount_probability).sum()\n",
    ")**0.5\n",
    "std_strat"
   ]
  },
  {
   "cell_type": "markdown",
   "metadata": {},
   "source": [
    "Видим, что разброс тоже незначительно снизился.  \n",
    "Спрогнозируем MDE:"
   ]
  },
  {
   "cell_type": "code",
   "execution_count": 491,
   "metadata": {},
   "outputs": [
    {
     "data": {
      "text/plain": [
       "0.05894194194194191"
      ]
     },
     "execution_count": 491,
     "metadata": {},
     "output_type": "execute_result"
    }
   ],
   "source": [
    "alpha = 0.01\n",
    "power = 0.8\n",
    "mde, effects, volums = calculate_mde(mean=mean_strat, std=std_strat, alpha=alpha, power=power, n=x.shape[0])\n",
    "mde"
   ]
  },
  {
   "cell_type": "markdown",
   "metadata": {},
   "source": [
    "Видим, что такое снижение дисперсии не сказалось на MDE (на заданном уровне точности при подборе этого самого MDE внутри функции *calculate_mde*)."
   ]
  },
  {
   "cell_type": "markdown",
   "metadata": {},
   "source": [
    "Перейдем к регионам (*region*):"
   ]
  },
  {
   "cell_type": "code",
   "execution_count": 492,
   "metadata": {},
   "outputs": [
    {
     "data": {
      "text/html": [
       "<div>\n",
       "<style scoped>\n",
       "    .dataframe tbody tr th:only-of-type {\n",
       "        vertical-align: middle;\n",
       "    }\n",
       "\n",
       "    .dataframe tbody tr th {\n",
       "        vertical-align: top;\n",
       "    }\n",
       "\n",
       "    .dataframe thead th {\n",
       "        text-align: right;\n",
       "    }\n",
       "</style>\n",
       "<table border=\"1\" class=\"dataframe\">\n",
       "  <thead>\n",
       "    <tr style=\"text-align: right;\">\n",
       "      <th></th>\n",
       "      <th>user_id</th>\n",
       "      <th>revenue_amount</th>\n",
       "      <th>region</th>\n",
       "      <th>revenue_amount_probability</th>\n",
       "    </tr>\n",
       "  </thead>\n",
       "  <tbody>\n",
       "    <tr>\n",
       "      <th>0</th>\n",
       "      <td>7562887359106</td>\n",
       "      <td>105.0</td>\n",
       "      <td>4626262784213375628</td>\n",
       "      <td>0.009677</td>\n",
       "    </tr>\n",
       "    <tr>\n",
       "      <th>1</th>\n",
       "      <td>133237288205136</td>\n",
       "      <td>160.0</td>\n",
       "      <td>6681910460932232567</td>\n",
       "      <td>0.022805</td>\n",
       "    </tr>\n",
       "    <tr>\n",
       "      <th>2</th>\n",
       "      <td>209672890150349</td>\n",
       "      <td>397.0</td>\n",
       "      <td>2518881065762464168</td>\n",
       "      <td>0.002956</td>\n",
       "    </tr>\n",
       "    <tr>\n",
       "      <th>3</th>\n",
       "      <td>239972521062310</td>\n",
       "      <td>574.0</td>\n",
       "      <td>7567566537227076918</td>\n",
       "      <td>0.003648</td>\n",
       "    </tr>\n",
       "    <tr>\n",
       "      <th>4</th>\n",
       "      <td>277934167554935</td>\n",
       "      <td>4832.0</td>\n",
       "      <td>2751451541457411742</td>\n",
       "      <td>0.021873</td>\n",
       "    </tr>\n",
       "  </tbody>\n",
       "</table>\n",
       "</div>"
      ],
      "text/plain": [
       "           user_id  revenue_amount               region  \\\n",
       "0    7562887359106           105.0  4626262784213375628   \n",
       "1  133237288205136           160.0  6681910460932232567   \n",
       "2  209672890150349           397.0  2518881065762464168   \n",
       "3  239972521062310           574.0  7567566537227076918   \n",
       "4  277934167554935          4832.0  2751451541457411742   \n",
       "\n",
       "   revenue_amount_probability  \n",
       "0                    0.009677  \n",
       "1                    0.022805  \n",
       "2                    0.002956  \n",
       "3                    0.003648  \n",
       "4                    0.021873  "
      ]
     },
     "execution_count": 492,
     "metadata": {},
     "output_type": "execute_result"
    }
   ],
   "source": [
    "x_not_groupby = choose_date_for_strat(df, datetime.datetime(2019, 6, 18, 0, 0), 30, 0.5) #получаем необходимую подвыборку\n",
    "x_seg = x_not_groupby.drop_duplicates(subset=['user_id'], keep='first')\n",
    "x = x_not_groupby.groupby(['user_id'], as_index=False).sum()\n",
    "x.drop(['user_segment', 'category', 'region', 'index'], axis=1, inplace=True)\n",
    "x = x.merge(x_seg[['user_id', 'region']], how='left', on='user_id')\n",
    "\n",
    "strata_p = x.groupby(['region']).count()/x.count()[0]\n",
    "data_strat = x.join(strata_p, on='region', rsuffix='_probability')\n",
    "data_strat.drop(['user_id_probability'], axis=1, inplace=True)\n",
    "data_strat.head()"
   ]
  },
  {
   "cell_type": "markdown",
   "metadata": {},
   "source": [
    "Снова сравним средние:"
   ]
  },
  {
   "cell_type": "code",
   "execution_count": 493,
   "metadata": {},
   "outputs": [
    {
     "data": {
      "text/plain": [
       "987.4865786393725"
      ]
     },
     "execution_count": 493,
     "metadata": {},
     "output_type": "execute_result"
    }
   ],
   "source": [
    "x.revenue_amount.mean()"
   ]
  },
  {
   "cell_type": "code",
   "execution_count": 494,
   "metadata": {},
   "outputs": [
    {
     "data": {
      "text/plain": [
       "987.4865786393725"
      ]
     },
     "execution_count": 494,
     "metadata": {},
     "output_type": "execute_result"
    }
   ],
   "source": [
    "mean_strat = (data_strat.groupby(['region']).mean().revenue_amount*data_strat.groupby(['region']).mean().revenue_amount_probability).sum()\n",
    "mean_strat"
   ]
  },
  {
   "cell_type": "markdown",
   "metadata": {},
   "source": [
    "Видим, что средние совпадают -> все верно.  \n",
    "Посмотрим на СКО:"
   ]
  },
  {
   "cell_type": "code",
   "execution_count": 495,
   "metadata": {},
   "outputs": [
    {
     "data": {
      "text/plain": [
       "6761.943172332689"
      ]
     },
     "execution_count": 495,
     "metadata": {},
     "output_type": "execute_result"
    }
   ],
   "source": [
    "std = (x['revenue_amount'].var())**0.5\n",
    "std"
   ]
  },
  {
   "cell_type": "code",
   "execution_count": 496,
   "metadata": {},
   "outputs": [
    {
     "data": {
      "text/plain": [
       "6753.374700507697"
      ]
     },
     "execution_count": 496,
     "metadata": {},
     "output_type": "execute_result"
    }
   ],
   "source": [
    "std_strat = ((data_strat.groupby(['region']).var().revenue_amount*data_strat.groupby(['region']).mean().revenue_amount_probability).sum()\n",
    ")**0.5\n",
    "std_strat"
   ]
  },
  {
   "cell_type": "markdown",
   "metadata": {},
   "source": [
    "СКО снова уменьшилось совсем слегка.  \n",
    "Спрогнозируем MDE:"
   ]
  },
  {
   "cell_type": "code",
   "execution_count": 497,
   "metadata": {},
   "outputs": [
    {
     "data": {
      "text/plain": [
       "0.05894194194194191"
      ]
     },
     "execution_count": 497,
     "metadata": {},
     "output_type": "execute_result"
    }
   ],
   "source": [
    "alpha = 0.01\n",
    "power = 0.8\n",
    "mde, effects, volums = calculate_mde(mean=mean_strat, std=std_strat, alpha=alpha, power=power, n=x.shape[0])\n",
    "mde"
   ]
  },
  {
   "cell_type": "markdown",
   "metadata": {},
   "source": [
    "Видим, что MDE снова не изменился.  \n",
    "Таким образом, наибольшее снижение MDE дала стратификация по пользовательским сегментам (*user_segment*)."
   ]
  },
  {
   "cell_type": "markdown",
   "metadata": {},
   "source": [
    "### CUPED + стратификация "
   ]
  },
  {
   "cell_type": "markdown",
   "metadata": {},
   "source": [
    "Попробуем совместить оба метода снижения дисперсии - составим CUPED-метрику на лучшем предпериоде и затем применим для нее стратификацию:"
   ]
  },
  {
   "cell_type": "code",
   "execution_count": 526,
   "metadata": {},
   "outputs": [
    {
     "data": {
      "text/html": [
       "<div>\n",
       "<style scoped>\n",
       "    .dataframe tbody tr th:only-of-type {\n",
       "        vertical-align: middle;\n",
       "    }\n",
       "\n",
       "    .dataframe tbody tr th {\n",
       "        vertical-align: top;\n",
       "    }\n",
       "\n",
       "    .dataframe thead th {\n",
       "        text-align: right;\n",
       "    }\n",
       "</style>\n",
       "<table border=\"1\" class=\"dataframe\">\n",
       "  <thead>\n",
       "    <tr style=\"text-align: right;\">\n",
       "      <th></th>\n",
       "      <th>user_id</th>\n",
       "      <th>revenue_amount</th>\n",
       "      <th>pre_revenue_amount</th>\n",
       "      <th>pre_revenue_average</th>\n",
       "      <th>cuped_revenue_amount</th>\n",
       "      <th>user_segment</th>\n",
       "      <th>revenue_amount_probability</th>\n",
       "      <th>pre_revenue_amount_probability</th>\n",
       "      <th>pre_revenue_average_probability</th>\n",
       "      <th>cuped_revenue_amount_probability</th>\n",
       "    </tr>\n",
       "  </thead>\n",
       "  <tbody>\n",
       "    <tr>\n",
       "      <th>0</th>\n",
       "      <td>4358074930207</td>\n",
       "      <td>167.0</td>\n",
       "      <td>0.0</td>\n",
       "      <td>789.763797</td>\n",
       "      <td>952.349513</td>\n",
       "      <td>2376074197230840906</td>\n",
       "      <td>0.368485</td>\n",
       "      <td>0.368485</td>\n",
       "      <td>0.368485</td>\n",
       "      <td>0.368485</td>\n",
       "    </tr>\n",
       "    <tr>\n",
       "      <th>1</th>\n",
       "      <td>57692808724846</td>\n",
       "      <td>210.0</td>\n",
       "      <td>62.0</td>\n",
       "      <td>789.763797</td>\n",
       "      <td>933.696054</td>\n",
       "      <td>2376074197230840906</td>\n",
       "      <td>0.368485</td>\n",
       "      <td>0.368485</td>\n",
       "      <td>0.368485</td>\n",
       "      <td>0.368485</td>\n",
       "    </tr>\n",
       "    <tr>\n",
       "      <th>2</th>\n",
       "      <td>88433173713624</td>\n",
       "      <td>68.0</td>\n",
       "      <td>34.0</td>\n",
       "      <td>789.763797</td>\n",
       "      <td>819.539552</td>\n",
       "      <td>2376074197230840906</td>\n",
       "      <td>0.368485</td>\n",
       "      <td>0.368485</td>\n",
       "      <td>0.368485</td>\n",
       "      <td>0.368485</td>\n",
       "    </tr>\n",
       "    <tr>\n",
       "      <th>3</th>\n",
       "      <td>89762105463925</td>\n",
       "      <td>195.0</td>\n",
       "      <td>118.0</td>\n",
       "      <td>789.763797</td>\n",
       "      <td>863.009059</td>\n",
       "      <td>4626944681007198896</td>\n",
       "      <td>0.607760</td>\n",
       "      <td>0.607760</td>\n",
       "      <td>0.607760</td>\n",
       "      <td>0.607760</td>\n",
       "    </tr>\n",
       "    <tr>\n",
       "      <th>4</th>\n",
       "      <td>101369386730736</td>\n",
       "      <td>83.0</td>\n",
       "      <td>0.0</td>\n",
       "      <td>789.763797</td>\n",
       "      <td>868.349513</td>\n",
       "      <td>4626944681007198896</td>\n",
       "      <td>0.607760</td>\n",
       "      <td>0.607760</td>\n",
       "      <td>0.607760</td>\n",
       "      <td>0.607760</td>\n",
       "    </tr>\n",
       "  </tbody>\n",
       "</table>\n",
       "</div>"
      ],
      "text/plain": [
       "           user_id  revenue_amount  pre_revenue_amount  pre_revenue_average  \\\n",
       "0    4358074930207           167.0                 0.0           789.763797   \n",
       "1   57692808724846           210.0                62.0           789.763797   \n",
       "2   88433173713624            68.0                34.0           789.763797   \n",
       "3   89762105463925           195.0               118.0           789.763797   \n",
       "4  101369386730736            83.0                 0.0           789.763797   \n",
       "\n",
       "   cuped_revenue_amount         user_segment  revenue_amount_probability  \\\n",
       "0            952.349513  2376074197230840906                    0.368485   \n",
       "1            933.696054  2376074197230840906                    0.368485   \n",
       "2            819.539552  2376074197230840906                    0.368485   \n",
       "3            863.009059  4626944681007198896                    0.607760   \n",
       "4            868.349513  4626944681007198896                    0.607760   \n",
       "\n",
       "   pre_revenue_amount_probability  pre_revenue_average_probability  \\\n",
       "0                        0.368485                         0.368485   \n",
       "1                        0.368485                         0.368485   \n",
       "2                        0.368485                         0.368485   \n",
       "3                        0.607760                         0.607760   \n",
       "4                        0.607760                         0.607760   \n",
       "\n",
       "   cuped_revenue_amount_probability  \n",
       "0                          0.368485  \n",
       "1                          0.368485  \n",
       "2                          0.368485  \n",
       "3                          0.607760  \n",
       "4                          0.607760  "
      ]
     },
     "execution_count": 526,
     "metadata": {},
     "output_type": "execute_result"
    }
   ],
   "source": [
    "date = datetime.datetime(2019, 9, 20, 0, 0) #лучшее время для начала\n",
    "x_not_groupby = choose_date_for_strat(df, date, 30, 0.5) #получаем необходимую подвыборку\n",
    "x_seg = x_not_groupby.drop_duplicates(subset=['user_id'], keep='first') #выделяем сегменты пользователей\n",
    "x = x_not_groupby.groupby(['user_id'], as_index=False).sum()\n",
    "\n",
    "# CUPED\n",
    "x_pre_period = choose_pre_period(df, date - datetime.timedelta(days=30), 30, users=x.user_id)\n",
    "x_merged = x.merge(x_pre_period[['user_id', 'revenue_amount']], how='left', on='user_id')\n",
    "x_merged['revenue_amount_y'].fillna(0, inplace=True)\n",
    "x_merged.rename(columns={'revenue_amount_x': 'revenue_amount', 'revenue_amount_y': 'pre_revenue_amount'}, inplace=True)\n",
    "x_merged['pre_revenue_average'] = x_merged.pre_revenue_amount.mean() \n",
    "teta = np.cov(x_merged.revenue_amount, x_merged.pre_revenue_amount, ddof=1)[1,0]/np.var(x_merged.pre_revenue_amount, ddof=1)\n",
    "corr = np.corrcoef(x_merged.revenue_amount, x_merged.pre_revenue_amount)[1,0] \n",
    "x_merged['cuped_revenue_amount'] = x_merged.revenue_amount - teta * (x_merged.pre_revenue_amount - x_merged.pre_revenue_average)\n",
    "\n",
    "# Стратификация\n",
    "x = x_merged.merge(x_seg[['user_id', 'user_segment']], how='left', on='user_id')\n",
    "x.drop(['index', 'user_segment_x', 'category', 'region'], axis=1, inplace=True)\n",
    "x.rename(columns={'user_segment_y': 'user_segment'}, inplace=True)\n",
    "strata_p = x.groupby(['user_segment']).count()/x.count()[0]\n",
    "data_strat = x.join(strata_p, on='user_segment', rsuffix='_probability')\n",
    "data_strat.drop(['user_id_probability'], axis=1, inplace=True)\n",
    "data_strat.head()"
   ]
  },
  {
   "cell_type": "markdown",
   "metadata": {},
   "source": [
    "Снова проверим равенство средних:"
   ]
  },
  {
   "cell_type": "code",
   "execution_count": 527,
   "metadata": {},
   "outputs": [
    {
     "data": {
      "text/plain": [
       "1011.6878668994931"
      ]
     },
     "execution_count": 527,
     "metadata": {},
     "output_type": "execute_result"
    }
   ],
   "source": [
    "x.cuped_revenue_amount.mean()"
   ]
  },
  {
   "cell_type": "code",
   "execution_count": 528,
   "metadata": {},
   "outputs": [
    {
     "data": {
      "text/plain": [
       "1011.6878669038324"
      ]
     },
     "execution_count": 528,
     "metadata": {},
     "output_type": "execute_result"
    }
   ],
   "source": [
    "mean_strat = (data_strat.groupby(['user_segment']).mean().cuped_revenue_amount*data_strat.groupby(['user_segment']).mean().cuped_revenue_amount_probability).sum()\n",
    "mean_strat"
   ]
  },
  {
   "cell_type": "markdown",
   "metadata": {},
   "source": [
    "Видим, что средние совпадают -> все верно.  \n",
    "Посмотрим, насколько снижается дисперсия:"
   ]
  },
  {
   "cell_type": "code",
   "execution_count": 530,
   "metadata": {},
   "outputs": [
    {
     "data": {
      "text/plain": [
       "2631.2077216703196"
      ]
     },
     "execution_count": 530,
     "metadata": {},
     "output_type": "execute_result"
    }
   ],
   "source": [
    "std = x.cuped_revenue_amount.std()\n",
    "std"
   ]
  },
  {
   "cell_type": "code",
   "execution_count": 532,
   "metadata": {},
   "outputs": [
    {
     "data": {
      "text/plain": [
       "2624.6787668048964"
      ]
     },
     "execution_count": 532,
     "metadata": {},
     "output_type": "execute_result"
    }
   ],
   "source": [
    "std_strat = ((data_strat.groupby(['user_segment']).var().cuped_revenue_amount*data_strat.groupby(['user_segment']).mean().cuped_revenue_amount_probability).sum()\n",
    ")**0.5\n",
    "std_strat"
   ]
  },
  {
   "cell_type": "markdown",
   "metadata": {},
   "source": [
    "Видим, что СКО слегка уменьшилось, а значит и дисперсия (как и в рассмотренных ранее случаях).  \n",
    "Посмотрим, сказалось ли это на MDE:"
   ]
  },
  {
   "cell_type": "code",
   "execution_count": 534,
   "metadata": {},
   "outputs": [
    {
     "data": {
      "text/plain": [
       "0.021978978978978936"
      ]
     },
     "execution_count": 534,
     "metadata": {},
     "output_type": "execute_result"
    }
   ],
   "source": [
    "alpha = 0.01\n",
    "power = 0.8\n",
    "mde, effects, volums = calculate_mde(mean=mean_strat, std=std_strat, alpha=alpha, power=power, n=x_merged.shape[0])\n",
    "mde"
   ]
  },
  {
   "cell_type": "code",
   "execution_count": 500,
   "metadata": {},
   "outputs": [
    {
     "data": {
      "text/plain": [
       "0.021978978978978936"
      ]
     },
     "execution_count": 500,
     "metadata": {},
     "output_type": "execute_result"
    }
   ],
   "source": [
    "predict_mde(df, datetime.datetime(2019, 9, 20, 0, 0), 30, 0.5) # лучший MDE"
   ]
  },
  {
   "cell_type": "markdown",
   "metadata": {},
   "source": [
    "Видим, что MDE не изменился -> стратификация не помогла улучшить результаты.  \n",
    "Тем не менее благодаря снижению дисперсии мы смогли добиться уменьшения MDE более чем в 2 раза (с 5% до 2.2%) -> 2% уже более приемлемый показатель для выручки."
   ]
  }
 ],
 "metadata": {
  "kernelspec": {
   "display_name": "Python 3",
   "language": "python",
   "name": "python3"
  },
  "language_info": {
   "codemirror_mode": {
    "name": "ipython",
    "version": 3
   },
   "file_extension": ".py",
   "mimetype": "text/x-python",
   "name": "python",
   "nbconvert_exporter": "python",
   "pygments_lexer": "ipython3",
   "version": "3.7.6"
  }
 },
 "nbformat": 4,
 "nbformat_minor": 4
}
